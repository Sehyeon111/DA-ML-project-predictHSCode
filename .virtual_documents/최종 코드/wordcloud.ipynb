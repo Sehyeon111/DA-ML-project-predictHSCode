


pip install wordcloud





from wordcloud import WordCloud


import pandas as pd

text = open('./생성데이터/Chapter 84.txt', encoding='utf-8').read()
text


from nltk.corpus import stopwords
from nltk import sent_tokenize, word_tokenize
from nltk.stem import WordNetLemmatizer
import nltk
import string

lemmar = WordNetLemmatizer()
stopwords = nltk.corpus.stopwords.words('english')
string = string.punctuation
for stri in string:
    stopwords.append(stri)

stopwords.append('heading')
stopwords.append('chapter')
words = word_tokenize(text.lower())
print(words)


word_list = []

for word in words:
    if word not in stopwords:
        word_list.append(word)

word_list


token_list = [lemmar.lemmatize(w) for w in word_list]
token_list


import collections
ex_counter = collections.Counter(token_list)
print(ex_counter)


tags = ex_counter.most_common(100)


###WordCloud(워드크라우드) 만들기###
word_cloud = WordCloud(background_color ='white', colormap='Set1', max_font_size=300).generate_from_frequencies(dict(tags))

# 사이즈 설정 및 화면에 출력
import matplotlib.pyplot as plt
plt.figure(figsize=(10,8))
plt.imshow(word_cloud)
plt.axis('off')

plt.show()





import pandas as pd

text2 = open('./생성데이터/Chapter 85.txt', encoding='utf-8').read()
text2


from nltk.corpus import stopwords
from nltk import sent_tokenize, word_tokenize
from nltk.stem import WordNetLemmatizer
import nltk
import string

lemmar = WordNetLemmatizer()
stopwords = nltk.corpus.stopwords.words('english')
string = string.punctuation
for stri in string:
    stopwords.append(stri)

stopwords.append('heading')
stopwords.append('chapter')
stopwords.append('“')
stopwords.append('”')
words2 = word_tokenize(text2.lower())
print(words2)


word_list2 = []

for word in words2:
    if word not in stopwords:
        word_list2.append(word)

word_list2


token_list2 = [lemmar.lemmatize(w) for w in word_list2]
token_list2


import collections
ex_counter2 = collections.Counter(token_list2)
print(ex_counter2)


tags2 = ex_counter2.most_common(100)


###WordCloud(워드크라우드) 만들기###
word_cloud = WordCloud(background_color='white',max_font_size=300, colormap='Paired').generate_from_frequencies(dict(tags2))

# 사이즈 설정 및 화면에 출력
import matplotlib.pyplot as plt
plt.figure(figsize=(10,8))
plt.imshow(word_cloud)
plt.axis('off')

plt.show()



