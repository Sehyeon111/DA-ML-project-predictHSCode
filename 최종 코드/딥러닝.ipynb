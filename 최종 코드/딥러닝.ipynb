{
 "cells": [
  {
   "cell_type": "markdown",
   "id": "7da31686-400d-4440-9658-a3127792edb7",
   "metadata": {},
   "source": [
    "## Google Colab으로 모델 생성, 학습하였습니다"
   ]
  },
  {
   "cell_type": "code",
   "execution_count": null,
   "id": "abe44305-91f3-4faa-8527-1ee66a44cd87",
   "metadata": {},
   "outputs": [],
   "source": [
    "import pandas as pd\n",
    "\n",
    "df1 = pd.read_excel('./drive/MyDrive/DIMA3/teamproject/최종 파일/84data_final.xlsx', index_col=0)\n",
    "df1.head()"
   ]
  },
  {
   "cell_type": "code",
   "execution_count": null,
   "id": "5e277d8c-2c27-4e4e-aed5-4fd2be45cfa3",
   "metadata": {},
   "outputs": [],
   "source": [
    "df2 = pd.read_excel('./drive/MyDrive/DIMA3/teamproject/최종 파일/85data_final.xlsx', index_col=0)\n",
    "df2.head()"
   ]
  },
  {
   "cell_type": "code",
   "execution_count": null,
   "id": "3a74c2e1-7dc4-492d-8402-b7d0795e54de",
   "metadata": {},
   "outputs": [],
   "source": [
    "product_85 = df2['product']\n",
    "df_85 = pd.DataFrame({'hs code':df2['hs code'], 'description':df2['description'], 'reason':df2['reason'], 'name_des':df2['name_des']})\n",
    "df_85.insert(1, 'product', product_85)\n",
    "df_85.head()"
   ]
  },
  {
   "cell_type": "code",
   "execution_count": null,
   "id": "c5997078-03f6-482e-b482-2c0d8dfc34a2",
   "metadata": {},
   "outputs": [],
   "source": [
    "df = pd.concat([df1, df_85])\n",
    "df.head()"
   ]
  },
  {
   "cell_type": "code",
   "execution_count": null,
   "id": "4ed9da18-7241-4cdc-baf5-eb0b80e616e0",
   "metadata": {},
   "outputs": [],
   "source": [
    "df.info()"
   ]
  },
  {
   "cell_type": "markdown",
   "id": "ec7c5250-a6a6-49f6-97e4-e50e90109c20",
   "metadata": {},
   "source": [
    "# 데이터 전처리\n",
    "- 불용어 제거, 소문자변환, 토큰화, 어근 추출"
   ]
  },
  {
   "cell_type": "code",
   "execution_count": null,
   "id": "dece961f-5204-4ed5-99f7-9e32e06577be",
   "metadata": {},
   "outputs": [],
   "source": [
    "import nltk\n",
    "from nltk.corpus import stopwords\n",
    "from nltk.tokenize import word_tokenize\n",
    "from nltk.stem import WordNetLemmatizer\n",
    "from sklearn.feature_extraction.text import TfidfVectorizer\n",
    "from sklearn.feature_extraction.text import CountVectorizer\n",
    "\n",
    "nltk.download('punkt')\n",
    "nltk.download('stopwords')\n",
    "nltk.download('wordnet')\n",
    "nltk.download('averaged_perceptron_tagger')  # pos_tag를 위한 데이터 다운로드\n",
    "\n",
    "# Initialize WordNet Lemmatizer and stopwords\n",
    "lemmatizer = WordNetLemmatizer()\n",
    "stop_words = stopwords.words('english')\n",
    "stop_words.append('x')\n",
    "stop_words.append('w')\n",
    "\n",
    "lemmatized_des = []\n",
    "for i in df['name_des']:\n",
    "    # 텍스트 전처리: 소문자 변환, 토큰화, 불용어 제거\n",
    "    tokens = word_tokenize(i.lower())\n",
    "    tagged_tokens = nltk.pos_tag(tokens)  # 단어 토큰에 품사 태깅 추가\n",
    "\n",
    "    # 품사를 고려하여 단어의 원형 복원 (명사와 동사만 고려)\n",
    "    filtered_tokens = []\n",
    "    for word, tag in tagged_tokens:\n",
    "        if (tag.startswith('NN') or tag.startswith('VB')) and word not in stop_words:  # 명사 또는 동사인 경우\n",
    "            lemma = lemmatizer.lemmatize(word, pos='n' if tag.startswith('NN') else 'v')\n",
    "            filtered_tokens.append(lemma)\n",
    "        elif word.isalpha() and word not in stop_words:\n",
    "            filtered_tokens.append(word)\n",
    "    lemmatized_des.append(' '.join(filtered_tokens))\n",
    "\n",
    "print(lemmatized_des[:4])"
   ]
  },
  {
   "cell_type": "code",
   "execution_count": null,
   "id": "80c91a73-cdfc-4ae6-b907-aff59aa9214a",
   "metadata": {},
   "outputs": [],
   "source": [
    "preprocessed_df = pd.DataFrame({'hs code': df['hs code'], 'name_des':lemmatized_des})\n",
    "preprocessed_df"
   ]
  },
  {
   "cell_type": "code",
   "execution_count": null,
   "id": "5603647f-3675-4d3b-96f4-31c4744416b6",
   "metadata": {},
   "outputs": [],
   "source": [
    "# y값 라벨 인코딩\n",
    "from sklearn.preprocessing import LabelEncoder\n",
    "\n",
    "encoded = LabelEncoder().fit_transform(preprocessed_df['hs code'])\n",
    "print(encoded)\n",
    "preprocessed_df['hs code'] = encoded"
   ]
  },
  {
   "cell_type": "code",
   "execution_count": null,
   "id": "6937b2d6-17d1-4a11-8119-6177de94f1bf",
   "metadata": {},
   "outputs": [],
   "source": [
    "preprocessed_df['hs code'][:10]"
   ]
  },
  {
   "cell_type": "code",
   "execution_count": null,
   "id": "08389f16-2d6d-4e71-a2c4-e94b79eea631",
   "metadata": {},
   "outputs": [],
   "source": [
    "preprocessed_df['hs code'].unique()"
   ]
  },
  {
   "cell_type": "code",
   "execution_count": null,
   "id": "aed68e83-7c52-449b-80c4-817485826748",
   "metadata": {},
   "outputs": [],
   "source": [
    "from sklearn.model_selection import train_test_split\n",
    "\n",
    "x = preprocessed_df['name_des']\n",
    "y = preprocessed_df['hs code']\n",
    "z = preprocessed_df['reason']\n",
    "\n",
    "x_train, x_test, y_train, y_test = train_test_split(x, y, test_size=0.2, stratify=y, shuffle=True, random_state=10)\n",
    "\n",
    "print(len(x_train))\n",
    "print(len(y_train))\n",
    "print(len(x_test))\n",
    "print(len(x_test))"
   ]
  },
  {
   "cell_type": "markdown",
   "id": "f483116d-8e67-4e03-9717-aaed29fc0528",
   "metadata": {},
   "source": [
    "- Tokenizer 객체에 fit_on_texts 메소드를 사용해 현재 Tokenizer 객체를 학습 데이터에 맞게 fitting함 (각 단어 인덱스를 체크하여 각 인덱스별로 벡터를 적절하게 결정함)\n",
    "- texts_to_sequences에 사용할 문자열을 넣으면 해당 문자열의 각 단어에 인덱스를 부여해줌"
   ]
  },
  {
   "cell_type": "code",
   "execution_count": null,
   "id": "2f5309f8-d944-41a8-90eb-a0615ffcc9b9",
   "metadata": {},
   "outputs": [],
   "source": [
    "from keras.preprocessing.text import Tokenizer\n",
    "\n",
    "tokenizer = Tokenizer()\n",
    "tokenizer.fit_on_texts(x_train)  # 텍스트 토큰화\n",
    "X_train_encoded = tokenizer.texts_to_sequences(x_train)  # 토큰화된 텍스트 숫자 라벨링\n",
    "X_test_encoded = tokenizer.texts_to_sequences(x_test)\n",
    "print(X_train_encoded[:5])\n",
    "print(X_test_encoded[:5])"
   ]
  },
  {
   "cell_type": "code",
   "execution_count": null,
   "id": "1f195e24-142e-43be-9771-f8b708248051",
   "metadata": {},
   "outputs": [],
   "source": [
    "# 학습데이터에 맞게 피팅된 토크나이저 객체 저장\n",
    "import pickle\n",
    "with open('lstm_tokenizer.pkl', 'wb') as f:\n",
    "    pickle.dump(tokenizer, f)"
   ]
  },
  {
   "cell_type": "code",
   "execution_count": null,
   "id": "c9279132-349c-4dbc-b584-3cfc7fde4b3b",
   "metadata": {},
   "outputs": [],
   "source": [
    "word_to_index = tokenizer.word_index  # 단어와 숫자 라벨을 딕셔너리로 반환\n",
    "print(word_to_index)"
   ]
  },
  {
   "cell_type": "code",
   "execution_count": null,
   "id": "97700548-7f2c-4b31-90a3-246c325965b0",
   "metadata": {},
   "outputs": [],
   "source": [
    "threshold = 3\n",
    "total_cnt = len(word_to_index) # 단어의 수\n",
    "rare_cnt = 0 # 등장 빈도수가 threshold보다 작은 단어의 개수를 카운트\n",
    "total_freq = 0 # 훈련 데이터의 전체 단어 빈도수 총 합\n",
    "rare_freq = 0 # 등장 빈도수가 threshold보다 작은 단어의 등장 빈도수의 총 합\n",
    "\n",
    "# 단어와 빈도수의 쌍(pair)을 key와 value로 받는다.\n",
    "for key, value in tokenizer.word_counts.items():\n",
    "    total_freq = total_freq + value # 전체 단어 빈도수 구하기\n",
    "\n",
    "    # 단어의 등장 빈도수가 threshold(3회)보다 작으면, 즉 2회 이하이면\n",
    "    if (value < threshold):\n",
    "        rare_cnt = rare_cnt + 1\n",
    "        rare_freq = rare_freq + value\n",
    "\n",
    "print('등장 빈도가 %s번 이하인 희귀 단어의 수: %s'%(threshold - 1, rare_cnt))\n",
    "print(\"단어 집합(vocabulary)에서 희귀 단어의 비율:\", (rare_cnt / total_cnt)*100)\n",
    "print(\"전체 등장 빈도에서 희귀 단어 등장 빈도 비율:\", (rare_freq / total_freq)*100)"
   ]
  },
  {
   "cell_type": "code",
   "execution_count": null,
   "id": "c5e08a93-77c3-468b-aeda-bc58609816f2",
   "metadata": {},
   "outputs": [],
   "source": [
    "import matplotlib.pyplot as plt\n",
    "\n",
    "print('최대 길이 :',max(len(x) for x in x_train))\n",
    "print('평균 길이 :',sum(map(len, x_train))/len(x_train))\n",
    "plt.hist([len(x) for x in x_train], bins=50)\n",
    "plt.xlabel('length of samples')\n",
    "plt.ylabel('number of samples')\n",
    "plt.show()"
   ]
  },
  {
   "cell_type": "code",
   "execution_count": null,
   "id": "d58924b8-f61d-44b1-8c3b-329dca5b5844",
   "metadata": {},
   "outputs": [],
   "source": [
    "# 전체 샘플 중 길이가 max_len 이하인 샘플의 비율이 몇 %인지 확인하는 함수\n",
    "def below_threshold_len(max_len, nested_list):\n",
    "  count = 0 # 길이 이하인 샘플 수 카운트\n",
    "  for sentence in nested_list:\n",
    "    if (len(sentence) <= max_len): # 길이가 max_len 이하이면\n",
    "        count = count + 1\n",
    "        \n",
    "# max_len 이하인 개수 / 전체 샘플 개수\n",
    "print('전체 샘플 중 길이가 %s 이하인 샘플의 비율: %s'%(max_len, (count / len(nested_list))*100)) "
   ]
  },
  {
   "cell_type": "markdown",
   "id": "1564f639-ae3e-4433-8654-985eb9e59a0f",
   "metadata": {},
   "source": [
    "- 전체 샘플 중 길이가 800 이하인 샘플의 비율: 93.3880627727898\n",
    "- 전체 샘플의 비중의 93%을 차지하는 길이인 800으로 패딩 기준값 선정"
   ]
  },
  {
   "cell_type": "code",
   "execution_count": null,
   "id": "35ec4656-bb92-447f-97de-d2d2ada37aa0",
   "metadata": {},
   "outputs": [],
   "source": [
    "max_len = 800\n",
    "below_threshold_len(max_len, x_train)"
   ]
  },
  {
   "cell_type": "code",
   "execution_count": null,
   "id": "299dd3ee-b0fe-4222-84bb-9631e854d883",
   "metadata": {},
   "outputs": [],
   "source": [
    "from keras.utils import pad_sequences\n",
    "\n",
    "X_train_encoded = pad_sequences(X_train_encoded, maxlen=max_len)\n",
    "X_test_encoded = pad_sequences(X_test_encoded, maxlen=max_len)"
   ]
  },
  {
   "cell_type": "code",
   "execution_count": null,
   "id": "7dec7cd9-0734-496e-9612-cff3faf34469",
   "metadata": {},
   "outputs": [],
   "source": [
    "from keras.utils import to_categorical\n",
    "num_classes = len(preprocessed_df['hs code'].unique())\n",
    "\n",
    "y_train = to_categorical(y_train, num_classes)\n",
    "y_test = to_categorical(y_test, num_classes)"
   ]
  },
  {
   "cell_type": "code",
   "execution_count": null,
   "id": "27272dcd-e2c7-49ef-9845-32279897f665",
   "metadata": {},
   "outputs": [],
   "source": [
    "from tensorflow.keras.layers import Embedding, Dense, LSTM, Dropout, Bidirectional\n",
    "from tensorflow.keras.models import Sequential\n",
    "from tensorflow.keras.models import load_model\n",
    "from tensorflow.keras.callbacks import EarlyStopping, ModelCheckpoint\n",
    "\n",
    "embedding_dim = 128 # 임베딩 벡터 차원 크기\n",
    "hidden_units = 128 # 은닉상태 크기\n",
    "vocab_size = len(tokenizer.word_index) + 1\n",
    "input_data_column = 1\n",
    "\n",
    "model = Sequential()\n",
    "model.add(Embedding(input_dim=vocab_size, output_dim=embedding_dim, input_length=max_len, mask_zero=True))  # 임베딩 층 쌓기\n",
    "model.add(LSTM(hidden_units)) #,input_shape=(batch_size, input_data_column), return_sequences = True)) # LSTM 층 쌓기\n",
    "model.add(Dropout(0.25))\n",
    "model.add(Dense(num_classes, activation='softmax')) # Dense 층 쌓기\n",
    "\n",
    "# 검증 데이터 손실(val_loss)이 증가하면, 과적합 징후므로 검증 데이터 손실이 8회 증가하면 정해진 에포크에 도달하지 못하여도 학습을 조기 종료\n",
    "es = EarlyStopping(monitor='val_loss', mode='min', verbose=1, patience=30)\n",
    "# 사용하여 검증 데이터의 정확도(val_acc)가 이전보다 좋아질 경우에만 모델을 저장\n",
    "# val_loss가 줄어들다가 증가하는 상황이 오면 과적합으로 판단하기 위함\n",
    "mc = ModelCheckpoint('./drive/MyDrive/DIMA3/project/DATASET/total data/best_model.h5', monitor='val_accuracy', mode='max', verbose=1, save_best_only=True)\n",
    "\n",
    "# 모델을 학습시키기 전에 모델의 손실 함수(loss), 최적화 방법(optimizer), 평가 지표(metrics)를 설정\n",
    "model.compile(loss='categorical_crossentropy', optimizer='adam', metrics=['accuracy'])"
   ]
  },
  {
   "cell_type": "code",
   "execution_count": null,
   "id": "00b835fe-e420-4622-81fe-ff4db3a623de",
   "metadata": {},
   "outputs": [],
   "source": [
    "model.summary()"
   ]
  },
  {
   "cell_type": "code",
   "execution_count": null,
   "id": "5e14cebc-5d66-4e1a-b91b-cf11149caa6b",
   "metadata": {},
   "outputs": [],
   "source": [
    "# 모델 학습\n",
    "history = model.fit(X_train_encoded, y_train, batch_size=64, epochs=50, callbacks=[es,mc],  validation_data=(X_test_encoded, y_test), shuffle=True)"
   ]
  },
  {
   "cell_type": "code",
   "execution_count": null,
   "id": "db9c45da-a2a7-4e0e-abea-e1a75dde2967",
   "metadata": {},
   "outputs": [],
   "source": [
    "f keras.models import load_model\n",
    "\n",
    "# 모델 저장\n",
    "model.save('./drive/MyDrive/DIMA3/model.h5')\n",
    "\n",
    "# 가중치 저장\n",
    "model.save_weights('./drive/MyDrive/DIMA3/model_weights.h5')"
   ]
  },
  {
   "cell_type": "markdown",
   "id": "1b162e85-d3ed-4dd5-8529-02c6a399c232",
   "metadata": {},
   "source": [
    "# best_model 테스트"
   ]
  },
  {
   "cell_type": "code",
   "execution_count": null,
   "id": "61562815-7145-49b6-bcee-edcad9af51ec",
   "metadata": {},
   "outputs": [],
   "source": [
    "import pandas as pd\n",
    "import numpy as np\n",
    "\n",
    "test = pd.read_excel('/content/drive/MyDrive/DIMA3/project/DATASET/total data/전처리완료된통합검증데이터.xlsx')"
   ]
  },
  {
   "cell_type": "code",
   "execution_count": null,
   "id": "faa9c350-1bca-47eb-b27d-f2c80b88f58e",
   "metadata": {},
   "outputs": [],
   "source": [
    "print(test)\n",
    "print(test.info())\n",
    "test.drop('Unnamed: 0', axis=1, inplace=True)"
   ]
  },
  {
   "cell_type": "code",
   "execution_count": null,
   "id": "55739cea-724d-4667-8baf-0ae227c64b47",
   "metadata": {},
   "outputs": [],
   "source": [
    "import nltk\n",
    "from nltk.corpus import stopwords\n",
    "from nltk.tokenize import word_tokenize\n",
    "from nltk.stem import WordNetLemmatizer\n",
    "from sklearn.feature_extraction.text import TfidfVectorizer\n",
    "from sklearn.feature_extraction.text import CountVectorizer\n",
    "\n",
    "nltk.download('punkt')\n",
    "nltk.download('stopwords')\n",
    "nltk.download('wordnet')\n",
    "nltk.download('averaged_perceptron_tagger')  # pos_tag를 위한 데이터 다운로드\n",
    "\n",
    "# Initialize WordNet Lemmatizer and stopwords\n",
    "lemmatizer = WordNetLemmatizer()\n",
    "stop_words = stopwords.words('english')\n",
    "stop_words.append('x')\n",
    "stop_words.append('w')\n",
    "\n",
    "lemmatized_des = []\n",
    "for i in test['name_des']:\n",
    "    # 텍스트 전처리: 소문자 변환, 토큰화, 불용어 제거\n",
    "    tokens = word_tokenize(i.lower())\n",
    "    tagged_tokens = nltk.pos_tag(tokens)  # 단어 토큰에 품사 태깅 추가\n",
    "\n",
    "    # 품사를 고려하여 단어의 원형 복원 (명사와 동사만 고려)\n",
    "    filtered_tokens = []\n",
    "    for word, tag in tagged_tokens:\n",
    "        if (tag.startswith('NN') or tag.startswith('VB')) and word not in stop_words:  # 명사 또는 동사인 경우\n",
    "            lemma = lemmatizer.lemmatize(word, pos='n' if tag.startswith('NN') else 'v')\n",
    "            filtered_tokens.append(lemma)\n",
    "        elif word.isalpha() and word not in stop_words:\n",
    "            filtered_tokens.append(word)\n",
    "    lemmatized_des.append(' '.join(filtered_tokens))"
   ]
  },
  {
   "cell_type": "code",
   "execution_count": null,
   "id": "140f4008-acb3-404a-98ff-92233f2050a4",
   "metadata": {},
   "outputs": [],
   "source": [
    "pre_test = pd.DataFrame({'hs code': test['hs code'], 'name_des':lemmatized_des})"
   ]
  },
  {
   "cell_type": "code",
   "execution_count": null,
   "id": "ca0df8c3-2060-4f4c-b9bf-41f2635af9bf",
   "metadata": {},
   "outputs": [],
   "source": [
    "x_test1 = pre_test['name_des']\n",
    "y_test1 = pre_test['hs code']"
   ]
  },
  {
   "cell_type": "code",
   "execution_count": null,
   "id": "1c1de4da-f680-4fa1-8aed-a979213b20f4",
   "metadata": {},
   "outputs": [],
   "source": [
    "X_test_encoded = tokenizer.texts_to_sequences(x_test1)"
   ]
  },
  {
   "cell_type": "code",
   "execution_count": null,
   "id": "be7117f6-b642-499f-9622-42db90db5152",
   "metadata": {},
   "outputs": [],
   "source": [
    "from keras.utils import pad_sequences\n",
    "max_len = 800\n",
    "X_test_encoded = pad_sequences(X_test_encoded, maxlen=max_len)"
   ]
  },
  {
   "cell_type": "code",
   "execution_count": null,
   "id": "19b12c75-3b26-4955-af32-b2e8b7e322be",
   "metadata": {},
   "outputs": [],
   "source": [
    "from keras.models import load_model\n",
    "\n",
    "# 저장 모델 불러오기\n",
    "model = load_model('./drive/MyDrive/DIMA3/project/DATASET/total data/best_model.h5')\n",
    "# x_test 값 넣어서 예측\n",
    "y_predict = model.predict(X_test_encoded)"
   ]
  },
  {
   "cell_type": "code",
   "execution_count": null,
   "id": "30262335-b1aa-44ac-adaf-7ed9ab0fa47a",
   "metadata": {},
   "outputs": [],
   "source": [
    "print(y_predict) # 반환값은 확률"
   ]
  },
  {
   "cell_type": "code",
   "execution_count": null,
   "id": "653696ce-5415-487f-b259-d70c0d3cd559",
   "metadata": {},
   "outputs": [],
   "source": [
    "# 제일 큰 확률 값 3개 씩 반환해서 hs코드로 바꿔서 보여주기\n",
    "\n",
    "index_list = []\n",
    "each_list = []\n",
    "for k in y_predict:\n",
    "  each_list = []\n",
    "  for u in k.argsort()[::-1][:3]:\n",
    "    for i, v in label_mapping.items():\n",
    "      if u == i:\n",
    "        each_list.append(v)\n",
    "  index_list.append(each_list)\n",
    "\n",
    "print(index_list)"
   ]
  },
  {
   "cell_type": "code",
   "execution_count": null,
   "id": "6836f8cd-941e-4679-9d4c-86b591bebde3",
   "metadata": {},
   "outputs": [],
   "source": [
    "result = pd.DataFrame({'result': index_list, 'true': y_test1})\n",
    "display(result)"
   ]
  },
  {
   "cell_type": "code",
   "execution_count": null,
   "id": "d8f2f194-646f-4478-83c2-98b03be375b2",
   "metadata": {},
   "outputs": [],
   "source": [
    "# 맞춘 갯수 / 전체 갯수\n",
    "cnt = 0\n",
    "\n",
    "for i in range(len(result)):\n",
    "    if result.loc[i]['result'] == result.loc[i]['true']:\n",
    "        cnt += 1\n",
    "\n",
    "print('정확도 : ', cnt/len(result))\n",
    "print('맞춘갯수 : ', cnt)"
   ]
  }
 ],
 "metadata": {
  "kernelspec": {
   "display_name": "Python 3 (ipykernel)",
   "language": "python",
   "name": "python3"
  },
  "language_info": {
   "codemirror_mode": {
    "name": "ipython",
    "version": 3
   },
   "file_extension": ".py",
   "mimetype": "text/x-python",
   "name": "python",
   "nbconvert_exporter": "python",
   "pygments_lexer": "ipython3",
   "version": "3.11.7"
  }
 },
 "nbformat": 4,
 "nbformat_minor": 5
}
