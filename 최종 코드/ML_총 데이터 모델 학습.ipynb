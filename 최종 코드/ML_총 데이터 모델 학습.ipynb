{
 "cells": [
  {
   "cell_type": "markdown",
   "id": "b17ff3d7-a75c-43c2-911e-f958228fa028",
   "metadata": {},
   "source": [
    "# 데이터 합치기"
   ]
  },
  {
   "cell_type": "code",
   "execution_count": 1,
   "id": "16ba0a10-5bb0-4080-adec-ae0c964b804c",
   "metadata": {},
   "outputs": [],
   "source": [
    "import pandas as pd\n",
    "\n",
    "df1 = pd.read_excel('./EU크롤링/84/eu_1213_84_df.xlsx')\n",
    "df2 = pd.read_excel('./EU크롤링/84/84EU1415_page_.xlsx')\n",
    "df3 = pd.read_excel('./EU크롤링/84/84_16_17_EU.xlsx')\n",
    "df4 = pd.read_excel('./EU크롤링/84/EU_84_1819_df.xlsx')\n",
    "df5 = pd.read_excel('./EU크롤링/84/84_EU_2021_df_total.xlsx')\n",
    "df6 = pd.read_excel('./EU크롤링/84/84_22_23_EU.xlsx')"
   ]
  },
  {
   "cell_type": "code",
   "execution_count": 2,
   "id": "cbf5ab59-47af-42e6-887d-89c453a9ffe4",
   "metadata": {},
   "outputs": [
    {
     "name": "stdout",
     "output_type": "stream",
     "text": [
      "<class 'pandas.core.frame.DataFrame'>\n",
      "RangeIndex: 5248 entries, 0 to 5247\n",
      "Data columns (total 6 columns):\n",
      " #   Column        Non-Null Count  Dtype \n",
      "---  ------        --------------  ----- \n",
      " 0   Unnamed: 0.1  5248 non-null   int64 \n",
      " 1   Unnamed: 0    5248 non-null   int64 \n",
      " 2   hs code       5248 non-null   int64 \n",
      " 3   keyword       5071 non-null   object\n",
      " 4   description   5248 non-null   object\n",
      " 5   reason        5246 non-null   object\n",
      "dtypes: int64(3), object(3)\n",
      "memory usage: 246.1+ KB\n"
     ]
    }
   ],
   "source": [
    "df1.info()"
   ]
  },
  {
   "cell_type": "code",
   "execution_count": 3,
   "id": "e55e9105-5282-4f63-a9f7-6aa00b53513e",
   "metadata": {},
   "outputs": [],
   "source": [
    "df1.drop('Unnamed: 0.1', axis=1, inplace=True)\n",
    "df1.drop('Unnamed: 0', axis=1, inplace=True)"
   ]
  },
  {
   "cell_type": "code",
   "execution_count": 4,
   "id": "b6c1b630-7389-4e50-9eb7-afca5e8710c8",
   "metadata": {},
   "outputs": [],
   "source": [
    "df1.columns = ['hs code', 'product', 'description', 'reason']"
   ]
  },
  {
   "cell_type": "code",
   "execution_count": 9,
   "id": "2737a779-1967-4b16-9bbe-1ffcfc1bcaf9",
   "metadata": {},
   "outputs": [
    {
     "data": {
      "text/plain": [
       "hs code        0\n",
       "product        0\n",
       "description    0\n",
       "reason         0\n",
       "dtype: int64"
      ]
     },
     "execution_count": 9,
     "metadata": {},
     "output_type": "execute_result"
    }
   ],
   "source": [
    "df1.isna().sum()"
   ]
  },
  {
   "cell_type": "code",
   "execution_count": 6,
   "id": "f964a644-9fc5-4b4a-80e3-2cd9fc051941",
   "metadata": {},
   "outputs": [],
   "source": [
    "df1['product'].fillna(' ', inplace=True)"
   ]
  },
  {
   "cell_type": "code",
   "execution_count": 8,
   "id": "64b88979-17d5-4a18-a75e-d9cc9ab4dfa6",
   "metadata": {},
   "outputs": [],
   "source": [
    "df1.dropna(inplace=True)"
   ]
  },
  {
   "cell_type": "code",
   "execution_count": 10,
   "id": "d1665642-4c29-42f8-b8a0-88f6850b85d2",
   "metadata": {},
   "outputs": [
    {
     "name": "stdout",
     "output_type": "stream",
     "text": [
      "<class 'pandas.core.frame.DataFrame'>\n",
      "Index: 5246 entries, 0 to 5247\n",
      "Data columns (total 4 columns):\n",
      " #   Column       Non-Null Count  Dtype \n",
      "---  ------       --------------  ----- \n",
      " 0   hs code      5246 non-null   int64 \n",
      " 1   product      5246 non-null   object\n",
      " 2   description  5246 non-null   object\n",
      " 3   reason       5246 non-null   object\n",
      "dtypes: int64(1), object(3)\n",
      "memory usage: 204.9+ KB\n"
     ]
    }
   ],
   "source": [
    "df1.info()"
   ]
  },
  {
   "cell_type": "code",
   "execution_count": 11,
   "id": "d700d1f0-1f25-4fb0-87e8-5977daff92d1",
   "metadata": {},
   "outputs": [
    {
     "name": "stdout",
     "output_type": "stream",
     "text": [
      "<class 'pandas.core.frame.DataFrame'>\n",
      "RangeIndex: 5446 entries, 0 to 5445\n",
      "Data columns (total 5 columns):\n",
      " #   Column       Non-Null Count  Dtype \n",
      "---  ------       --------------  ----- \n",
      " 0   Unnamed: 0   5446 non-null   int64 \n",
      " 1   hs code      5446 non-null   int64 \n",
      " 2   product      5341 non-null   object\n",
      " 3   description  5446 non-null   object\n",
      " 4   reason       5446 non-null   object\n",
      "dtypes: int64(2), object(3)\n",
      "memory usage: 212.9+ KB\n"
     ]
    }
   ],
   "source": [
    "df2.info()"
   ]
  },
  {
   "cell_type": "code",
   "execution_count": 12,
   "id": "ebc53d57-ce11-4d6e-87df-1fe7268ea0b1",
   "metadata": {},
   "outputs": [],
   "source": [
    "df2.drop('Unnamed: 0', axis=1, inplace=True)"
   ]
  },
  {
   "cell_type": "code",
   "execution_count": 15,
   "id": "cb885ac8-3750-41ec-bc2a-22b6c97cd38d",
   "metadata": {},
   "outputs": [
    {
     "data": {
      "text/plain": [
       "hs code        0\n",
       "product        0\n",
       "description    0\n",
       "reason         0\n",
       "dtype: int64"
      ]
     },
     "execution_count": 15,
     "metadata": {},
     "output_type": "execute_result"
    }
   ],
   "source": [
    "df2.isna().sum()"
   ]
  },
  {
   "cell_type": "code",
   "execution_count": 14,
   "id": "6fa0a2ef-b6de-4c59-9a00-10535a38b578",
   "metadata": {},
   "outputs": [],
   "source": [
    "df2['product'].fillna(' ', inplace=True)"
   ]
  },
  {
   "cell_type": "code",
   "execution_count": 16,
   "id": "122153e7-3a35-4db4-ab54-f3bb12993ed7",
   "metadata": {},
   "outputs": [
    {
     "name": "stdout",
     "output_type": "stream",
     "text": [
      "<class 'pandas.core.frame.DataFrame'>\n",
      "RangeIndex: 5446 entries, 0 to 5445\n",
      "Data columns (total 4 columns):\n",
      " #   Column       Non-Null Count  Dtype \n",
      "---  ------       --------------  ----- \n",
      " 0   hs code      5446 non-null   int64 \n",
      " 1   product      5446 non-null   object\n",
      " 2   description  5446 non-null   object\n",
      " 3   reason       5446 non-null   object\n",
      "dtypes: int64(1), object(3)\n",
      "memory usage: 170.3+ KB\n"
     ]
    }
   ],
   "source": [
    "df2.info()"
   ]
  },
  {
   "cell_type": "code",
   "execution_count": 21,
   "id": "274d73b1-faf2-4057-879c-21cc374290eb",
   "metadata": {},
   "outputs": [
    {
     "name": "stdout",
     "output_type": "stream",
     "text": [
      "<class 'pandas.core.frame.DataFrame'>\n",
      "RangeIndex: 6394 entries, 0 to 6393\n",
      "Data columns (total 4 columns):\n",
      " #   Column       Non-Null Count  Dtype \n",
      "---  ------       --------------  ----- \n",
      " 0   hs code      6394 non-null   int64 \n",
      " 1   product      6394 non-null   object\n",
      " 2   description  6394 non-null   object\n",
      " 3   reason       6394 non-null   object\n",
      "dtypes: int64(1), object(3)\n",
      "memory usage: 199.9+ KB\n"
     ]
    }
   ],
   "source": [
    "df3.info()"
   ]
  },
  {
   "cell_type": "code",
   "execution_count": 18,
   "id": "3cecb27a-74cc-4326-a1fc-a47d3d9de714",
   "metadata": {},
   "outputs": [],
   "source": [
    "df3.drop('Unnamed: 0', axis=1, inplace=True)"
   ]
  },
  {
   "cell_type": "code",
   "execution_count": 19,
   "id": "3a57e82e-1baa-4cad-842c-1a15b39337a5",
   "metadata": {},
   "outputs": [
    {
     "data": {
      "text/plain": [
       "hs code         0\n",
       "product        55\n",
       "description     0\n",
       "reason          0\n",
       "dtype: int64"
      ]
     },
     "execution_count": 19,
     "metadata": {},
     "output_type": "execute_result"
    }
   ],
   "source": [
    "df3.isna().sum()"
   ]
  },
  {
   "cell_type": "code",
   "execution_count": 20,
   "id": "012f1ec4-8b2a-4141-8207-e7af31f94388",
   "metadata": {},
   "outputs": [],
   "source": [
    "df3['product'].fillna(' ', inplace=True)"
   ]
  },
  {
   "cell_type": "code",
   "execution_count": 22,
   "id": "9fe26dec-907e-4363-bf40-12bd4032f2f7",
   "metadata": {},
   "outputs": [
    {
     "name": "stdout",
     "output_type": "stream",
     "text": [
      "<class 'pandas.core.frame.DataFrame'>\n",
      "RangeIndex: 6900 entries, 0 to 6899\n",
      "Data columns (total 6 columns):\n",
      " #   Column        Non-Null Count  Dtype \n",
      "---  ------        --------------  ----- \n",
      " 0   Unnamed: 0.1  6900 non-null   int64 \n",
      " 1   Unnamed: 0    6900 non-null   int64 \n",
      " 2   hs code       6900 non-null   object\n",
      " 3   description   6900 non-null   object\n",
      " 4   reason        6898 non-null   object\n",
      " 5   product       6869 non-null   object\n",
      "dtypes: int64(2), object(4)\n",
      "memory usage: 323.6+ KB\n"
     ]
    }
   ],
   "source": [
    "df4.info()"
   ]
  },
  {
   "cell_type": "code",
   "execution_count": 23,
   "id": "608d0f10-a15c-4c5d-90c0-2f8a1d73cff6",
   "metadata": {},
   "outputs": [],
   "source": [
    "df4.drop('Unnamed: 0.1', axis=1, inplace=True)\n",
    "df4.drop('Unnamed: 0', axis=1, inplace=True)"
   ]
  },
  {
   "cell_type": "code",
   "execution_count": 28,
   "id": "7c3da4d3-09c1-4de4-9430-c939433d1a62",
   "metadata": {},
   "outputs": [
    {
     "data": {
      "text/plain": [
       "hs code        0\n",
       "description    0\n",
       "reason         0\n",
       "product        0\n",
       "dtype: int64"
      ]
     },
     "execution_count": 28,
     "metadata": {},
     "output_type": "execute_result"
    }
   ],
   "source": [
    "df4.isna().sum()"
   ]
  },
  {
   "cell_type": "code",
   "execution_count": 25,
   "id": "4c3471bb-a6c6-42b5-b67c-a2d0dcb35e0d",
   "metadata": {},
   "outputs": [],
   "source": [
    "df4['product'].fillna(' ', inplace=True)"
   ]
  },
  {
   "cell_type": "code",
   "execution_count": 27,
   "id": "d141b1de-711c-462e-874a-c6e599dc6420",
   "metadata": {},
   "outputs": [],
   "source": [
    "df4.dropna(inplace=True)"
   ]
  },
  {
   "cell_type": "code",
   "execution_count": 29,
   "id": "01225683-1ea9-48a3-89dc-a58513132247",
   "metadata": {},
   "outputs": [],
   "source": [
    "df4 = df4[['hs code', 'product', 'description', 'reason']]"
   ]
  },
  {
   "cell_type": "code",
   "execution_count": 30,
   "id": "6cda3ab2-3d01-4749-9a42-a8aa17a7bbb0",
   "metadata": {},
   "outputs": [
    {
     "name": "stdout",
     "output_type": "stream",
     "text": [
      "<class 'pandas.core.frame.DataFrame'>\n",
      "RangeIndex: 4940 entries, 0 to 4939\n",
      "Data columns (total 5 columns):\n",
      " #   Column       Non-Null Count  Dtype \n",
      "---  ------       --------------  ----- \n",
      " 0   Unnamed: 0   4940 non-null   int64 \n",
      " 1   hs code      4940 non-null   object\n",
      " 2   product      4940 non-null   object\n",
      " 3   description  4940 non-null   object\n",
      " 4   reason       4940 non-null   object\n",
      "dtypes: int64(1), object(4)\n",
      "memory usage: 193.1+ KB\n"
     ]
    }
   ],
   "source": [
    "df5.info()"
   ]
  },
  {
   "cell_type": "code",
   "execution_count": 31,
   "id": "73df0552-0970-4057-bc40-325f640e862e",
   "metadata": {},
   "outputs": [],
   "source": [
    "df5.drop('Unnamed: 0', axis=1, inplace=True)"
   ]
  },
  {
   "cell_type": "code",
   "execution_count": 32,
   "id": "76a74bc9-5fe7-4087-a67f-b74179c68a56",
   "metadata": {},
   "outputs": [
    {
     "data": {
      "text/plain": [
       "hs code        0\n",
       "product        0\n",
       "description    0\n",
       "reason         0\n",
       "dtype: int64"
      ]
     },
     "execution_count": 32,
     "metadata": {},
     "output_type": "execute_result"
    }
   ],
   "source": [
    "df5.isna().sum()"
   ]
  },
  {
   "cell_type": "code",
   "execution_count": 33,
   "id": "a28fb951-8dbd-41c8-8021-ac8c5714a3e5",
   "metadata": {},
   "outputs": [
    {
     "name": "stdout",
     "output_type": "stream",
     "text": [
      "<class 'pandas.core.frame.DataFrame'>\n",
      "RangeIndex: 5648 entries, 0 to 5647\n",
      "Data columns (total 5 columns):\n",
      " #   Column       Non-Null Count  Dtype \n",
      "---  ------       --------------  ----- \n",
      " 0   Unnamed: 0   5648 non-null   int64 \n",
      " 1   hs code      5648 non-null   object\n",
      " 2   product      5644 non-null   object\n",
      " 3   description  5645 non-null   object\n",
      " 4   reason       5647 non-null   object\n",
      "dtypes: int64(1), object(4)\n",
      "memory usage: 220.8+ KB\n"
     ]
    }
   ],
   "source": [
    "df6.info()"
   ]
  },
  {
   "cell_type": "code",
   "execution_count": 34,
   "id": "6f7bca1e-9017-4256-b5ad-0b8aa21cbfdb",
   "metadata": {},
   "outputs": [],
   "source": [
    "df6.drop('Unnamed: 0', axis=1, inplace=True)"
   ]
  },
  {
   "cell_type": "code",
   "execution_count": 35,
   "id": "9b6dc340-43d5-4606-892e-236b1aa97672",
   "metadata": {},
   "outputs": [
    {
     "data": {
      "text/plain": [
       "hs code        0\n",
       "product        4\n",
       "description    3\n",
       "reason         1\n",
       "dtype: int64"
      ]
     },
     "execution_count": 35,
     "metadata": {},
     "output_type": "execute_result"
    }
   ],
   "source": [
    "df6.isna().sum()"
   ]
  },
  {
   "cell_type": "code",
   "execution_count": 36,
   "id": "bcbaa24a-3018-44f6-aa34-ba9fde046593",
   "metadata": {},
   "outputs": [],
   "source": [
    "df6.dropna(inplace=True)"
   ]
  },
  {
   "cell_type": "code",
   "execution_count": 37,
   "id": "b04fee08-1fb1-4508-bc6e-b2023fef455e",
   "metadata": {},
   "outputs": [
    {
     "name": "stdout",
     "output_type": "stream",
     "text": [
      "<class 'pandas.core.frame.DataFrame'>\n",
      "Index: 34566 entries, 0 to 5647\n",
      "Data columns (total 4 columns):\n",
      " #   Column       Non-Null Count  Dtype \n",
      "---  ------       --------------  ----- \n",
      " 0   hs code      34566 non-null  object\n",
      " 1   product      34566 non-null  object\n",
      " 2   description  34566 non-null  object\n",
      " 3   reason       34566 non-null  object\n",
      "dtypes: object(4)\n",
      "memory usage: 1.3+ MB\n"
     ]
    }
   ],
   "source": [
    "eu_df = pd.concat([df1, df2, df3, df4, df5, df6])\n",
    "eu_df.info()"
   ]
  },
  {
   "cell_type": "code",
   "execution_count": 38,
   "id": "692d5439-32cc-4075-bf20-3d461161bec9",
   "metadata": {},
   "outputs": [
    {
     "name": "stdout",
     "output_type": "stream",
     "text": [
      "<class 'pandas.core.frame.DataFrame'>\n",
      "RangeIndex: 2138 entries, 0 to 2137\n",
      "Data columns (total 5 columns):\n",
      " #   Column       Non-Null Count  Dtype \n",
      "---  ------       --------------  ----- \n",
      " 0   Unnamed: 0   2138 non-null   int64 \n",
      " 1   hs code      2138 non-null   int64 \n",
      " 2   product      2138 non-null   object\n",
      " 3   description  2138 non-null   object\n",
      " 4   reason       2138 non-null   object\n",
      "dtypes: int64(2), object(3)\n",
      "memory usage: 83.6+ KB\n"
     ]
    }
   ],
   "source": [
    "uk_df = pd.read_excel('./EU크롤링/84/84df_UK (1).xlsx')\n",
    "uk_df.info()"
   ]
  },
  {
   "cell_type": "code",
   "execution_count": 39,
   "id": "2c62ed6c-7a79-4477-8f95-f7732b02ae7b",
   "metadata": {},
   "outputs": [],
   "source": [
    "uk_df.drop('Unnamed: 0', axis=1, inplace=True)"
   ]
  },
  {
   "cell_type": "code",
   "execution_count": 40,
   "id": "b6a4ab09-82fa-4489-aeff-625b03c05160",
   "metadata": {},
   "outputs": [
    {
     "name": "stdout",
     "output_type": "stream",
     "text": [
      "<class 'pandas.core.frame.DataFrame'>\n",
      "RangeIndex: 3868 entries, 0 to 3867\n",
      "Data columns (total 5 columns):\n",
      " #   Column       Non-Null Count  Dtype \n",
      "---  ------       --------------  ----- \n",
      " 0   Unnamed: 0   3868 non-null   int64 \n",
      " 1   hs code      3868 non-null   int64 \n",
      " 2   product      3868 non-null   object\n",
      " 3   description  3868 non-null   object\n",
      " 4   reason       3868 non-null   object\n",
      "dtypes: int64(2), object(3)\n",
      "memory usage: 151.2+ KB\n"
     ]
    }
   ],
   "source": [
    "ko_df = pd.read_excel('./EU크롤링/84/final84.xlsx')\n",
    "ko_df.info()"
   ]
  },
  {
   "cell_type": "code",
   "execution_count": 41,
   "id": "f25e2b10-4b78-446d-b12d-9cb641a69815",
   "metadata": {},
   "outputs": [],
   "source": [
    "ko_df.drop('Unnamed: 0', axis=1, inplace=True)"
   ]
  },
  {
   "cell_type": "code",
   "execution_count": 42,
   "id": "502897b4-1c63-475f-9616-e10f08255c0f",
   "metadata": {},
   "outputs": [
    {
     "name": "stdout",
     "output_type": "stream",
     "text": [
      "<class 'pandas.core.frame.DataFrame'>\n",
      "Index: 40572 entries, 0 to 3867\n",
      "Data columns (total 4 columns):\n",
      " #   Column       Non-Null Count  Dtype \n",
      "---  ------       --------------  ----- \n",
      " 0   hs code      40572 non-null  object\n",
      " 1   product      40572 non-null  object\n",
      " 2   description  40572 non-null  object\n",
      " 3   reason       40572 non-null  object\n",
      "dtypes: object(4)\n",
      "memory usage: 1.5+ MB\n"
     ]
    }
   ],
   "source": [
    "total_df = pd.concat([eu_df, uk_df, ko_df])\n",
    "total_df.info()"
   ]
  },
  {
   "cell_type": "markdown",
   "id": "6fdf773f-c521-47c9-a701-ff492bf4d01c",
   "metadata": {},
   "source": [
    "# 데이터 전처리"
   ]
  },
  {
   "cell_type": "code",
   "execution_count": 49,
   "id": "fddec835-1a22-4ed1-8683-6267a8d9b18e",
   "metadata": {},
   "outputs": [
    {
     "data": {
      "text/html": [
       "<div>\n",
       "<style scoped>\n",
       "    .dataframe tbody tr th:only-of-type {\n",
       "        vertical-align: middle;\n",
       "    }\n",
       "\n",
       "    .dataframe tbody tr th {\n",
       "        vertical-align: top;\n",
       "    }\n",
       "\n",
       "    .dataframe thead th {\n",
       "        text-align: right;\n",
       "    }\n",
       "</style>\n",
       "<table border=\"1\" class=\"dataframe\">\n",
       "  <thead>\n",
       "    <tr style=\"text-align: right;\">\n",
       "      <th></th>\n",
       "      <th>hs code</th>\n",
       "      <th>product</th>\n",
       "      <th>description</th>\n",
       "      <th>reason</th>\n",
       "    </tr>\n",
       "  </thead>\n",
       "  <tbody>\n",
       "    <tr>\n",
       "      <th>0</th>\n",
       "      <td>8414</td>\n",
       "      <td>TABLE FANS</td>\n",
       "      <td>Table fan, a built-in power 35 W.Dimensions el...</td>\n",
       "      <td>General Rules 1 and 6: The classification is d...</td>\n",
       "    </tr>\n",
       "    <tr>\n",
       "      <th>1</th>\n",
       "      <td>8470</td>\n",
       "      <td>CASH REGISTERS, HARD DISCS, WITH USB SLOT, VAR...</td>\n",
       "      <td>TERMINAL OF SALE IN THE FORM OF PORTABLE WHOSE...</td>\n",
       "      <td>General Rules 1 and 6: The classification is d...</td>\n",
       "    </tr>\n",
       "    <tr>\n",
       "      <th>2</th>\n",
       "      <td>8479</td>\n",
       "      <td>DRIVE MECHANISMS, KARABINERS, OF ALLOY STEEL</td>\n",
       "      <td>MECHANISM FALL MOBILE STEEL ALLIE.IL IS HAVING...</td>\n",
       "      <td>General Rules 1 and 6: The classification is d...</td>\n",
       "    </tr>\n",
       "    <tr>\n",
       "      <th>3</th>\n",
       "      <td>8467</td>\n",
       "      <td>PNEUMATIC TOOLS, ROTARY, WITH END PART, SOCKET...</td>\n",
       "      <td>ROTARY AIR TOOL IN THE FORM OF REVERSIBLE RATC...</td>\n",
       "      <td>General Rules 1 and 6: The classification is d...</td>\n",
       "    </tr>\n",
       "    <tr>\n",
       "      <th>4</th>\n",
       "      <td>8457</td>\n",
       "      <td>MACHINING CENTRES</td>\n",
       "      <td>Machining center with horizontal spindle hard ...</td>\n",
       "      <td>General Rules 1 and 6: The classification is d...</td>\n",
       "    </tr>\n",
       "    <tr>\n",
       "      <th>...</th>\n",
       "      <td>...</td>\n",
       "      <td>...</td>\n",
       "      <td>...</td>\n",
       "      <td>...</td>\n",
       "    </tr>\n",
       "    <tr>\n",
       "      <th>3863</th>\n",
       "      <td>8485</td>\n",
       "      <td>tube handle for ovens and ranges</td>\n",
       "      <td>The article in question is described as a stai...</td>\n",
       "      <td>The applicable subheading for the oven/range h...</td>\n",
       "    </tr>\n",
       "    <tr>\n",
       "      <th>3864</th>\n",
       "      <td>8485</td>\n",
       "      <td>grease fittings</td>\n",
       "      <td>A descriptive brochure and samples of various ...</td>\n",
       "      <td>The applicable subheading for the grease fitti...</td>\n",
       "    </tr>\n",
       "    <tr>\n",
       "      <th>3865</th>\n",
       "      <td>8485</td>\n",
       "      <td>adhesive dispense tips</td>\n",
       "      <td>The articles in question are described as disp...</td>\n",
       "      <td>The applicable subheading for the dispense tip...</td>\n",
       "    </tr>\n",
       "    <tr>\n",
       "      <th>3866</th>\n",
       "      <td>8453</td>\n",
       "      <td>Machinery for preparing, tanning or working hi...</td>\n",
       "      <td>machinery for preparing hides or skins (includ...</td>\n",
       "      <td>84.53 Machinery for preparing, tanning or work...</td>\n",
       "    </tr>\n",
       "    <tr>\n",
       "      <th>3867</th>\n",
       "      <td>8453</td>\n",
       "      <td>Machinery for making or repairing footwear</td>\n",
       "      <td>machinery used for making or repairing article...</td>\n",
       "      <td>84.53 Machinery for preparing, tanning or work...</td>\n",
       "    </tr>\n",
       "  </tbody>\n",
       "</table>\n",
       "<p>40572 rows × 4 columns</p>\n",
       "</div>"
      ],
      "text/plain": [
       "     hs code                                            product  \\\n",
       "0       8414                                         TABLE FANS   \n",
       "1       8470  CASH REGISTERS, HARD DISCS, WITH USB SLOT, VAR...   \n",
       "2       8479       DRIVE MECHANISMS, KARABINERS, OF ALLOY STEEL   \n",
       "3       8467  PNEUMATIC TOOLS, ROTARY, WITH END PART, SOCKET...   \n",
       "4       8457                                  MACHINING CENTRES   \n",
       "...      ...                                                ...   \n",
       "3863    8485                   tube handle for ovens and ranges   \n",
       "3864    8485                                    grease fittings   \n",
       "3865    8485                             adhesive dispense tips   \n",
       "3866    8453  Machinery for preparing, tanning or working hi...   \n",
       "3867    8453         Machinery for making or repairing footwear   \n",
       "\n",
       "                                            description  \\\n",
       "0     Table fan, a built-in power 35 W.Dimensions el...   \n",
       "1     TERMINAL OF SALE IN THE FORM OF PORTABLE WHOSE...   \n",
       "2     MECHANISM FALL MOBILE STEEL ALLIE.IL IS HAVING...   \n",
       "3     ROTARY AIR TOOL IN THE FORM OF REVERSIBLE RATC...   \n",
       "4     Machining center with horizontal spindle hard ...   \n",
       "...                                                 ...   \n",
       "3863  The article in question is described as a stai...   \n",
       "3864  A descriptive brochure and samples of various ...   \n",
       "3865  The articles in question are described as disp...   \n",
       "3866  machinery for preparing hides or skins (includ...   \n",
       "3867  machinery used for making or repairing article...   \n",
       "\n",
       "                                                 reason  \n",
       "0     General Rules 1 and 6: The classification is d...  \n",
       "1     General Rules 1 and 6: The classification is d...  \n",
       "2     General Rules 1 and 6: The classification is d...  \n",
       "3     General Rules 1 and 6: The classification is d...  \n",
       "4     General Rules 1 and 6: The classification is d...  \n",
       "...                                                 ...  \n",
       "3863  The applicable subheading for the oven/range h...  \n",
       "3864  The applicable subheading for the grease fitti...  \n",
       "3865  The applicable subheading for the dispense tip...  \n",
       "3866  84.53 Machinery for preparing, tanning or work...  \n",
       "3867  84.53 Machinery for preparing, tanning or work...  \n",
       "\n",
       "[40572 rows x 4 columns]"
      ]
     },
     "execution_count": 49,
     "metadata": {},
     "output_type": "execute_result"
    }
   ],
   "source": [
    "total_df"
   ]
  },
  {
   "cell_type": "code",
   "execution_count": 44,
   "id": "b15aa05d-427a-473a-83f9-0d40248b46e2",
   "metadata": {},
   "outputs": [],
   "source": [
    "def check_code(code):\n",
    "    p = re.compile('84\\d\\d')  # 84로 시작하는 패턴\n",
    "    m = p.match(str(code))  # hs코드에서 패턴에 맞는 거 찾기 \n",
    "    \n",
    "    if m == None:  # 패턴에 맞지 않는 경우(패턴에 맞지 않으면 none 출력)\n",
    "        return None  # 패턴에 맞지 않으면 na값으로 반환\n",
    "    \n",
    "    else:  # 패턴에 맞는 경우\n",
    "        return m.group()  # 패턴에 맞는 코드(4자리수) 반환"
   ]
  },
  {
   "cell_type": "code",
   "execution_count": 45,
   "id": "ba8ae926-ccf9-4152-a475-789d1d186af9",
   "metadata": {},
   "outputs": [],
   "source": [
    "import re\n",
    "total_df['hs code'] = total_df['hs code'].apply(lambda x : check_code(x))"
   ]
  },
  {
   "cell_type": "code",
   "execution_count": 46,
   "id": "d54672d3-1296-4f05-8b92-bb91664cb954",
   "metadata": {},
   "outputs": [
    {
     "data": {
      "text/html": [
       "<div>\n",
       "<style scoped>\n",
       "    .dataframe tbody tr th:only-of-type {\n",
       "        vertical-align: middle;\n",
       "    }\n",
       "\n",
       "    .dataframe tbody tr th {\n",
       "        vertical-align: top;\n",
       "    }\n",
       "\n",
       "    .dataframe thead th {\n",
       "        text-align: right;\n",
       "    }\n",
       "</style>\n",
       "<table border=\"1\" class=\"dataframe\">\n",
       "  <thead>\n",
       "    <tr style=\"text-align: right;\">\n",
       "      <th></th>\n",
       "      <th>hs code</th>\n",
       "      <th>product</th>\n",
       "      <th>description</th>\n",
       "      <th>reason</th>\n",
       "    </tr>\n",
       "  </thead>\n",
       "  <tbody>\n",
       "    <tr>\n",
       "      <th>0</th>\n",
       "      <td>8414</td>\n",
       "      <td>TABLE FANS</td>\n",
       "      <td>Table fan, a built-in power 35 W.Dimensions el...</td>\n",
       "      <td>General Rules 1 and 6: The classification is d...</td>\n",
       "    </tr>\n",
       "    <tr>\n",
       "      <th>1</th>\n",
       "      <td>8470</td>\n",
       "      <td>CASH REGISTERS, HARD DISCS, WITH USB SLOT, VAR...</td>\n",
       "      <td>TERMINAL OF SALE IN THE FORM OF PORTABLE WHOSE...</td>\n",
       "      <td>General Rules 1 and 6: The classification is d...</td>\n",
       "    </tr>\n",
       "    <tr>\n",
       "      <th>2</th>\n",
       "      <td>8479</td>\n",
       "      <td>DRIVE MECHANISMS, KARABINERS, OF ALLOY STEEL</td>\n",
       "      <td>MECHANISM FALL MOBILE STEEL ALLIE.IL IS HAVING...</td>\n",
       "      <td>General Rules 1 and 6: The classification is d...</td>\n",
       "    </tr>\n",
       "    <tr>\n",
       "      <th>3</th>\n",
       "      <td>8467</td>\n",
       "      <td>PNEUMATIC TOOLS, ROTARY, WITH END PART, SOCKET...</td>\n",
       "      <td>ROTARY AIR TOOL IN THE FORM OF REVERSIBLE RATC...</td>\n",
       "      <td>General Rules 1 and 6: The classification is d...</td>\n",
       "    </tr>\n",
       "    <tr>\n",
       "      <th>4</th>\n",
       "      <td>8457</td>\n",
       "      <td>MACHINING CENTRES</td>\n",
       "      <td>Machining center with horizontal spindle hard ...</td>\n",
       "      <td>General Rules 1 and 6: The classification is d...</td>\n",
       "    </tr>\n",
       "    <tr>\n",
       "      <th>...</th>\n",
       "      <td>...</td>\n",
       "      <td>...</td>\n",
       "      <td>...</td>\n",
       "      <td>...</td>\n",
       "    </tr>\n",
       "    <tr>\n",
       "      <th>3863</th>\n",
       "      <td>8485</td>\n",
       "      <td>tube handle for ovens and ranges</td>\n",
       "      <td>The article in question is described as a stai...</td>\n",
       "      <td>The applicable subheading for the oven/range h...</td>\n",
       "    </tr>\n",
       "    <tr>\n",
       "      <th>3864</th>\n",
       "      <td>8485</td>\n",
       "      <td>grease fittings</td>\n",
       "      <td>A descriptive brochure and samples of various ...</td>\n",
       "      <td>The applicable subheading for the grease fitti...</td>\n",
       "    </tr>\n",
       "    <tr>\n",
       "      <th>3865</th>\n",
       "      <td>8485</td>\n",
       "      <td>adhesive dispense tips</td>\n",
       "      <td>The articles in question are described as disp...</td>\n",
       "      <td>The applicable subheading for the dispense tip...</td>\n",
       "    </tr>\n",
       "    <tr>\n",
       "      <th>3866</th>\n",
       "      <td>8453</td>\n",
       "      <td>Machinery for preparing, tanning or working hi...</td>\n",
       "      <td>machinery for preparing hides or skins (includ...</td>\n",
       "      <td>84.53 Machinery for preparing, tanning or work...</td>\n",
       "    </tr>\n",
       "    <tr>\n",
       "      <th>3867</th>\n",
       "      <td>8453</td>\n",
       "      <td>Machinery for making or repairing footwear</td>\n",
       "      <td>machinery used for making or repairing article...</td>\n",
       "      <td>84.53 Machinery for preparing, tanning or work...</td>\n",
       "    </tr>\n",
       "  </tbody>\n",
       "</table>\n",
       "<p>40572 rows × 4 columns</p>\n",
       "</div>"
      ],
      "text/plain": [
       "     hs code                                            product  \\\n",
       "0       8414                                         TABLE FANS   \n",
       "1       8470  CASH REGISTERS, HARD DISCS, WITH USB SLOT, VAR...   \n",
       "2       8479       DRIVE MECHANISMS, KARABINERS, OF ALLOY STEEL   \n",
       "3       8467  PNEUMATIC TOOLS, ROTARY, WITH END PART, SOCKET...   \n",
       "4       8457                                  MACHINING CENTRES   \n",
       "...      ...                                                ...   \n",
       "3863    8485                   tube handle for ovens and ranges   \n",
       "3864    8485                                    grease fittings   \n",
       "3865    8485                             adhesive dispense tips   \n",
       "3866    8453  Machinery for preparing, tanning or working hi...   \n",
       "3867    8453         Machinery for making or repairing footwear   \n",
       "\n",
       "                                            description  \\\n",
       "0     Table fan, a built-in power 35 W.Dimensions el...   \n",
       "1     TERMINAL OF SALE IN THE FORM OF PORTABLE WHOSE...   \n",
       "2     MECHANISM FALL MOBILE STEEL ALLIE.IL IS HAVING...   \n",
       "3     ROTARY AIR TOOL IN THE FORM OF REVERSIBLE RATC...   \n",
       "4     Machining center with horizontal spindle hard ...   \n",
       "...                                                 ...   \n",
       "3863  The article in question is described as a stai...   \n",
       "3864  A descriptive brochure and samples of various ...   \n",
       "3865  The articles in question are described as disp...   \n",
       "3866  machinery for preparing hides or skins (includ...   \n",
       "3867  machinery used for making or repairing article...   \n",
       "\n",
       "                                                 reason  \n",
       "0     General Rules 1 and 6: The classification is d...  \n",
       "1     General Rules 1 and 6: The classification is d...  \n",
       "2     General Rules 1 and 6: The classification is d...  \n",
       "3     General Rules 1 and 6: The classification is d...  \n",
       "4     General Rules 1 and 6: The classification is d...  \n",
       "...                                                 ...  \n",
       "3863  The applicable subheading for the oven/range h...  \n",
       "3864  The applicable subheading for the grease fitti...  \n",
       "3865  The applicable subheading for the dispense tip...  \n",
       "3866  84.53 Machinery for preparing, tanning or work...  \n",
       "3867  84.53 Machinery for preparing, tanning or work...  \n",
       "\n",
       "[40572 rows x 4 columns]"
      ]
     },
     "execution_count": 46,
     "metadata": {},
     "output_type": "execute_result"
    }
   ],
   "source": [
    "total_df"
   ]
  },
  {
   "cell_type": "code",
   "execution_count": 53,
   "id": "bfbbb129-4f9c-4ea7-8315-db76bdbbf4c2",
   "metadata": {},
   "outputs": [
    {
     "data": {
      "text/plain": [
       "hs code        0\n",
       "product        0\n",
       "description    0\n",
       "reason         0\n",
       "dtype: int64"
      ]
     },
     "execution_count": 53,
     "metadata": {},
     "output_type": "execute_result"
    }
   ],
   "source": [
    "total_df.isna().sum()"
   ]
  },
  {
   "cell_type": "code",
   "execution_count": 52,
   "id": "ec72c9bd-c021-4f3e-8a16-d4c56c00a3b2",
   "metadata": {},
   "outputs": [],
   "source": [
    "total_df.dropna(inplace=True)"
   ]
  },
  {
   "cell_type": "code",
   "execution_count": 54,
   "id": "c3a469d6-31d8-4641-b1d5-74ba93227bc7",
   "metadata": {},
   "outputs": [],
   "source": [
    "total_df['name_des']=total_df['product']+' '+total_df['description']"
   ]
  },
  {
   "cell_type": "code",
   "execution_count": 55,
   "id": "4192bb4a-e026-4035-98c0-df6728580b80",
   "metadata": {},
   "outputs": [
    {
     "data": {
      "text/html": [
       "<div>\n",
       "<style scoped>\n",
       "    .dataframe tbody tr th:only-of-type {\n",
       "        vertical-align: middle;\n",
       "    }\n",
       "\n",
       "    .dataframe tbody tr th {\n",
       "        vertical-align: top;\n",
       "    }\n",
       "\n",
       "    .dataframe thead th {\n",
       "        text-align: right;\n",
       "    }\n",
       "</style>\n",
       "<table border=\"1\" class=\"dataframe\">\n",
       "  <thead>\n",
       "    <tr style=\"text-align: right;\">\n",
       "      <th></th>\n",
       "      <th>hs code</th>\n",
       "      <th>product</th>\n",
       "      <th>description</th>\n",
       "      <th>reason</th>\n",
       "      <th>name_des</th>\n",
       "    </tr>\n",
       "  </thead>\n",
       "  <tbody>\n",
       "    <tr>\n",
       "      <th>0</th>\n",
       "      <td>8414</td>\n",
       "      <td>TABLE FANS</td>\n",
       "      <td>Table fan, a built-in power 35 W.Dimensions el...</td>\n",
       "      <td>General Rules 1 and 6: The classification is d...</td>\n",
       "      <td>TABLE FANS Table fan, a built-in power 35 W.Di...</td>\n",
       "    </tr>\n",
       "    <tr>\n",
       "      <th>1</th>\n",
       "      <td>8470</td>\n",
       "      <td>CASH REGISTERS, HARD DISCS, WITH USB SLOT, VAR...</td>\n",
       "      <td>TERMINAL OF SALE IN THE FORM OF PORTABLE WHOSE...</td>\n",
       "      <td>General Rules 1 and 6: The classification is d...</td>\n",
       "      <td>CASH REGISTERS, HARD DISCS, WITH USB SLOT, VAR...</td>\n",
       "    </tr>\n",
       "    <tr>\n",
       "      <th>2</th>\n",
       "      <td>8479</td>\n",
       "      <td>DRIVE MECHANISMS, KARABINERS, OF ALLOY STEEL</td>\n",
       "      <td>MECHANISM FALL MOBILE STEEL ALLIE.IL IS HAVING...</td>\n",
       "      <td>General Rules 1 and 6: The classification is d...</td>\n",
       "      <td>DRIVE MECHANISMS, KARABINERS, OF ALLOY STEEL M...</td>\n",
       "    </tr>\n",
       "    <tr>\n",
       "      <th>3</th>\n",
       "      <td>8467</td>\n",
       "      <td>PNEUMATIC TOOLS, ROTARY, WITH END PART, SOCKET...</td>\n",
       "      <td>ROTARY AIR TOOL IN THE FORM OF REVERSIBLE RATC...</td>\n",
       "      <td>General Rules 1 and 6: The classification is d...</td>\n",
       "      <td>PNEUMATIC TOOLS, ROTARY, WITH END PART, SOCKET...</td>\n",
       "    </tr>\n",
       "    <tr>\n",
       "      <th>4</th>\n",
       "      <td>8457</td>\n",
       "      <td>MACHINING CENTRES</td>\n",
       "      <td>Machining center with horizontal spindle hard ...</td>\n",
       "      <td>General Rules 1 and 6: The classification is d...</td>\n",
       "      <td>MACHINING CENTRES Machining center with horizo...</td>\n",
       "    </tr>\n",
       "    <tr>\n",
       "      <th>...</th>\n",
       "      <td>...</td>\n",
       "      <td>...</td>\n",
       "      <td>...</td>\n",
       "      <td>...</td>\n",
       "      <td>...</td>\n",
       "    </tr>\n",
       "    <tr>\n",
       "      <th>3863</th>\n",
       "      <td>8485</td>\n",
       "      <td>tube handle for ovens and ranges</td>\n",
       "      <td>The article in question is described as a stai...</td>\n",
       "      <td>The applicable subheading for the oven/range h...</td>\n",
       "      <td>tube handle for ovens and ranges The article i...</td>\n",
       "    </tr>\n",
       "    <tr>\n",
       "      <th>3864</th>\n",
       "      <td>8485</td>\n",
       "      <td>grease fittings</td>\n",
       "      <td>A descriptive brochure and samples of various ...</td>\n",
       "      <td>The applicable subheading for the grease fitti...</td>\n",
       "      <td>grease fittings A descriptive brochure and sam...</td>\n",
       "    </tr>\n",
       "    <tr>\n",
       "      <th>3865</th>\n",
       "      <td>8485</td>\n",
       "      <td>adhesive dispense tips</td>\n",
       "      <td>The articles in question are described as disp...</td>\n",
       "      <td>The applicable subheading for the dispense tip...</td>\n",
       "      <td>adhesive dispense tips The articles in questio...</td>\n",
       "    </tr>\n",
       "    <tr>\n",
       "      <th>3866</th>\n",
       "      <td>8453</td>\n",
       "      <td>Machinery for preparing, tanning or working hi...</td>\n",
       "      <td>machinery for preparing hides or skins (includ...</td>\n",
       "      <td>84.53 Machinery for preparing, tanning or work...</td>\n",
       "      <td>Machinery for preparing, tanning or working hi...</td>\n",
       "    </tr>\n",
       "    <tr>\n",
       "      <th>3867</th>\n",
       "      <td>8453</td>\n",
       "      <td>Machinery for making or repairing footwear</td>\n",
       "      <td>machinery used for making or repairing article...</td>\n",
       "      <td>84.53 Machinery for preparing, tanning or work...</td>\n",
       "      <td>Machinery for making or repairing footwear mac...</td>\n",
       "    </tr>\n",
       "  </tbody>\n",
       "</table>\n",
       "<p>39672 rows × 5 columns</p>\n",
       "</div>"
      ],
      "text/plain": [
       "     hs code                                            product  \\\n",
       "0       8414                                         TABLE FANS   \n",
       "1       8470  CASH REGISTERS, HARD DISCS, WITH USB SLOT, VAR...   \n",
       "2       8479       DRIVE MECHANISMS, KARABINERS, OF ALLOY STEEL   \n",
       "3       8467  PNEUMATIC TOOLS, ROTARY, WITH END PART, SOCKET...   \n",
       "4       8457                                  MACHINING CENTRES   \n",
       "...      ...                                                ...   \n",
       "3863    8485                   tube handle for ovens and ranges   \n",
       "3864    8485                                    grease fittings   \n",
       "3865    8485                             adhesive dispense tips   \n",
       "3866    8453  Machinery for preparing, tanning or working hi...   \n",
       "3867    8453         Machinery for making or repairing footwear   \n",
       "\n",
       "                                            description  \\\n",
       "0     Table fan, a built-in power 35 W.Dimensions el...   \n",
       "1     TERMINAL OF SALE IN THE FORM OF PORTABLE WHOSE...   \n",
       "2     MECHANISM FALL MOBILE STEEL ALLIE.IL IS HAVING...   \n",
       "3     ROTARY AIR TOOL IN THE FORM OF REVERSIBLE RATC...   \n",
       "4     Machining center with horizontal spindle hard ...   \n",
       "...                                                 ...   \n",
       "3863  The article in question is described as a stai...   \n",
       "3864  A descriptive brochure and samples of various ...   \n",
       "3865  The articles in question are described as disp...   \n",
       "3866  machinery for preparing hides or skins (includ...   \n",
       "3867  machinery used for making or repairing article...   \n",
       "\n",
       "                                                 reason  \\\n",
       "0     General Rules 1 and 6: The classification is d...   \n",
       "1     General Rules 1 and 6: The classification is d...   \n",
       "2     General Rules 1 and 6: The classification is d...   \n",
       "3     General Rules 1 and 6: The classification is d...   \n",
       "4     General Rules 1 and 6: The classification is d...   \n",
       "...                                                 ...   \n",
       "3863  The applicable subheading for the oven/range h...   \n",
       "3864  The applicable subheading for the grease fitti...   \n",
       "3865  The applicable subheading for the dispense tip...   \n",
       "3866  84.53 Machinery for preparing, tanning or work...   \n",
       "3867  84.53 Machinery for preparing, tanning or work...   \n",
       "\n",
       "                                               name_des  \n",
       "0     TABLE FANS Table fan, a built-in power 35 W.Di...  \n",
       "1     CASH REGISTERS, HARD DISCS, WITH USB SLOT, VAR...  \n",
       "2     DRIVE MECHANISMS, KARABINERS, OF ALLOY STEEL M...  \n",
       "3     PNEUMATIC TOOLS, ROTARY, WITH END PART, SOCKET...  \n",
       "4     MACHINING CENTRES Machining center with horizo...  \n",
       "...                                                 ...  \n",
       "3863  tube handle for ovens and ranges The article i...  \n",
       "3864  grease fittings A descriptive brochure and sam...  \n",
       "3865  adhesive dispense tips The articles in questio...  \n",
       "3866  Machinery for preparing, tanning or working hi...  \n",
       "3867  Machinery for making or repairing footwear mac...  \n",
       "\n",
       "[39672 rows x 5 columns]"
      ]
     },
     "execution_count": 55,
     "metadata": {},
     "output_type": "execute_result"
    }
   ],
   "source": [
    "total_df"
   ]
  },
  {
   "cell_type": "code",
   "execution_count": 119,
   "id": "cbcb868d-29e0-4fca-a5d8-faeca19921aa",
   "metadata": {},
   "outputs": [],
   "source": [
    "total_df.to_excel('total_84.xlsx')"
   ]
  },
  {
   "cell_type": "code",
   "execution_count": 1,
   "id": "8d796323-d199-48e8-b033-ac64cfd4faf4",
   "metadata": {},
   "outputs": [
    {
     "data": {
      "text/html": [
       "<div>\n",
       "<style scoped>\n",
       "    .dataframe tbody tr th:only-of-type {\n",
       "        vertical-align: middle;\n",
       "    }\n",
       "\n",
       "    .dataframe tbody tr th {\n",
       "        vertical-align: top;\n",
       "    }\n",
       "\n",
       "    .dataframe thead th {\n",
       "        text-align: right;\n",
       "    }\n",
       "</style>\n",
       "<table border=\"1\" class=\"dataframe\">\n",
       "  <thead>\n",
       "    <tr style=\"text-align: right;\">\n",
       "      <th></th>\n",
       "      <th>Unnamed: 0</th>\n",
       "      <th>hs code</th>\n",
       "      <th>product</th>\n",
       "      <th>description</th>\n",
       "      <th>reason</th>\n",
       "      <th>name_des</th>\n",
       "    </tr>\n",
       "  </thead>\n",
       "  <tbody>\n",
       "    <tr>\n",
       "      <th>0</th>\n",
       "      <td>0</td>\n",
       "      <td>8414</td>\n",
       "      <td>TABLE FANS</td>\n",
       "      <td>Table fan, a built-in power 35 W.Dimensions el...</td>\n",
       "      <td>General Rules 1 and 6: The classification is d...</td>\n",
       "      <td>TABLE FANS Table fan, a built-in power 35 W.Di...</td>\n",
       "    </tr>\n",
       "    <tr>\n",
       "      <th>1</th>\n",
       "      <td>1</td>\n",
       "      <td>8470</td>\n",
       "      <td>CASH REGISTERS, HARD DISCS, WITH USB SLOT, VAR...</td>\n",
       "      <td>TERMINAL OF SALE IN THE FORM OF PORTABLE WHOSE...</td>\n",
       "      <td>General Rules 1 and 6: The classification is d...</td>\n",
       "      <td>CASH REGISTERS, HARD DISCS, WITH USB SLOT, VAR...</td>\n",
       "    </tr>\n",
       "    <tr>\n",
       "      <th>2</th>\n",
       "      <td>2</td>\n",
       "      <td>8479</td>\n",
       "      <td>DRIVE MECHANISMS, KARABINERS, OF ALLOY STEEL</td>\n",
       "      <td>MECHANISM FALL MOBILE STEEL ALLIE.IL IS HAVING...</td>\n",
       "      <td>General Rules 1 and 6: The classification is d...</td>\n",
       "      <td>DRIVE MECHANISMS, KARABINERS, OF ALLOY STEEL M...</td>\n",
       "    </tr>\n",
       "    <tr>\n",
       "      <th>3</th>\n",
       "      <td>3</td>\n",
       "      <td>8467</td>\n",
       "      <td>PNEUMATIC TOOLS, ROTARY, WITH END PART, SOCKET...</td>\n",
       "      <td>ROTARY AIR TOOL IN THE FORM OF REVERSIBLE RATC...</td>\n",
       "      <td>General Rules 1 and 6: The classification is d...</td>\n",
       "      <td>PNEUMATIC TOOLS, ROTARY, WITH END PART, SOCKET...</td>\n",
       "    </tr>\n",
       "    <tr>\n",
       "      <th>4</th>\n",
       "      <td>4</td>\n",
       "      <td>8457</td>\n",
       "      <td>MACHINING CENTRES</td>\n",
       "      <td>Machining center with horizontal spindle hard ...</td>\n",
       "      <td>General Rules 1 and 6: The classification is d...</td>\n",
       "      <td>MACHINING CENTRES Machining center with horizo...</td>\n",
       "    </tr>\n",
       "  </tbody>\n",
       "</table>\n",
       "</div>"
      ],
      "text/plain": [
       "   Unnamed: 0  ...                                           name_des\n",
       "0           0  ...  TABLE FANS Table fan, a built-in power 35 W.Di...\n",
       "1           1  ...  CASH REGISTERS, HARD DISCS, WITH USB SLOT, VAR...\n",
       "2           2  ...  DRIVE MECHANISMS, KARABINERS, OF ALLOY STEEL M...\n",
       "3           3  ...  PNEUMATIC TOOLS, ROTARY, WITH END PART, SOCKET...\n",
       "4           4  ...  MACHINING CENTRES Machining center with horizo...\n",
       "\n",
       "[5 rows x 6 columns]"
      ]
     },
     "execution_count": 1,
     "metadata": {},
     "output_type": "execute_result"
    }
   ],
   "source": [
    "import pandas as pd\n",
    "\n",
    "total_df = pd.read_excel('./EU크롤링/84/total_84.xlsx')\n",
    "total_df.head()"
   ]
  },
  {
   "cell_type": "code",
   "execution_count": 2,
   "id": "61f13aee-7dd0-4342-b28a-2c219ce2863f",
   "metadata": {},
   "outputs": [
    {
     "name": "stdout",
     "output_type": "stream",
     "text": [
      "<class 'pandas.core.frame.DataFrame'>\n",
      "RangeIndex: 39672 entries, 0 to 39671\n",
      "Data columns (total 6 columns):\n",
      " #   Column       Non-Null Count  Dtype \n",
      "---  ------       --------------  ----- \n",
      " 0   Unnamed: 0   39672 non-null  int64 \n",
      " 1   hs code      39672 non-null  int64 \n",
      " 2   product      39672 non-null  object\n",
      " 3   description  39672 non-null  object\n",
      " 4   reason       39672 non-null  object\n",
      " 5   name_des     39672 non-null  object\n",
      "dtypes: int64(2), object(4)\n",
      "memory usage: 1.8+ MB\n"
     ]
    }
   ],
   "source": [
    "total_df.info()"
   ]
  },
  {
   "cell_type": "code",
   "execution_count": 3,
   "id": "08927614-016a-43d4-b1b3-7a7a41973648",
   "metadata": {},
   "outputs": [],
   "source": [
    "total_df.drop('Unnamed: 0', axis=1, inplace=True)"
   ]
  },
  {
   "cell_type": "code",
   "execution_count": 5,
   "id": "bd62d2c2-6d35-4d4e-93d4-aa1f906a367d",
   "metadata": {},
   "outputs": [
    {
     "name": "stdout",
     "output_type": "stream",
     "text": [
      "31737\n",
      "7935\n",
      "71409\n",
      "71409\n",
      "7935\n",
      "7935\n"
     ]
    }
   ],
   "source": [
    "from sklearn.model_selection import train_test_split\n",
    "import re\n",
    "\n",
    "x = total_df['name_des'].apply(lambda x: re.sub('[^a-zA-Z]',' ',x))\n",
    "y = total_df['hs code'].astype(int)\n",
    "z = total_df['reason'].apply(lambda x: re.sub('[^a-zA-Z]',' ',x))\n",
    "\n",
    "x_train, x_test, y_train, y_test = train_test_split(x, y, test_size=0.2, stratify=y, random_state=10)\n",
    "\n",
    "print(len(x_train))\n",
    "print(len(x_test))\n",
    "\n",
    "x_train = pd.concat([x_train, z])\n",
    "y_train = pd.concat([y_train, y])\n",
    "\n",
    "print(len(x_train))\n",
    "print(len(y_train))\n",
    "print(len(x_test))\n",
    "print(len(x_test))"
   ]
  },
  {
   "cell_type": "code",
   "execution_count": 6,
   "id": "902e4bb4-d2a1-4830-b267-5978f5d06f02",
   "metadata": {},
   "outputs": [
    {
     "name": "stderr",
     "output_type": "stream",
     "text": [
      "C:\\Users\\user\\anaconda3\\Lib\\site-packages\\sklearn\\feature_extraction\\text.py:528: UserWarning: The parameter 'token_pattern' will not be used since 'tokenizer' is not None'\n",
      "  warnings.warn(\n",
      "C:\\Users\\user\\anaconda3\\Lib\\site-packages\\sklearn\\feature_extraction\\text.py:409: UserWarning: Your stop_words may be inconsistent with your preprocessing. Tokenizing the stop words generated tokens [\"'d\", \"'ll\", \"'re\", \"'s\", \"'ve\", '``', 'could', 'doe', 'ha', 'might', 'must', \"n't\", 'need', 'sha', 'wa', 'wo', 'would'] not in stop_words.\n",
      "  warnings.warn(\n"
     ]
    }
   ],
   "source": [
    "from sklearn.feature_extraction.text import TfidfVectorizer\n",
    "from nltk.corpus import stopwords\n",
    "from nltk import sent_tokenize\n",
    "from nltk import word_tokenize\n",
    "import nltk\n",
    "import string\n",
    "from nltk.stem import WordNetLemmatizer\n",
    "import nltk\n",
    "\n",
    "stopwords = nltk.corpus.stopwords.words('english')\n",
    "# 특수문자\n",
    "string = string.punctuation\n",
    "# 불용어 + 특수문자 합친 리스트 생성\n",
    "for stri in string:\n",
    "    stopwords.append(stri)\n",
    "\n",
    "token_list = None\n",
    "def text_preprocessing(text):\n",
    "    # 어근 추출 객체 생성\n",
    "    lemmar = WordNetLemmatizer()\n",
    "    global token_list\n",
    "    # 텍스트를 소문자로 변환 후 문장으로 토큰화\n",
    "    sentences = sent_tokenize(text.lower())\n",
    "\n",
    "    for sentence in sentences:        \n",
    "        # 단어로 토큰화\n",
    "        tokens = word_tokenize(sentence)\n",
    "        # 토큰화된 단어들의 어근 추출\n",
    "        token_list = [lemmar.lemmatize(token) for token in tokens]\n",
    "\n",
    "    return token_list\n",
    "\n",
    "tfidf_vec = TfidfVectorizer(tokenizer=text_preprocessing, stop_words = stopwords)\n",
    "tfidf_vec.fit(x_train)\n",
    "x_train_tfidf_vec = tfidf_vec.transform(x_train) \n",
    "\n",
    "x_test_tfidf_vec = tfidf_vec.transform(x_test)\n",
    "y_test = y_test.apply(pd.to_numeric, errors='coerce')"
   ]
  },
  {
   "cell_type": "code",
   "execution_count": 59,
   "id": "3dd8ec04-304d-4e55-b24f-28d3f31d67af",
   "metadata": {},
   "outputs": [
    {
     "name": "stdout",
     "output_type": "stream",
     "text": [
      "정확도: 0.933\n",
      "정밀도: 0.933\n",
      "재현율: 0.933\n"
     ]
    },
    {
     "name": "stderr",
     "output_type": "stream",
     "text": [
      "C:\\Users\\user\\anaconda3\\Lib\\site-packages\\sklearn\\metrics\\_classification.py:1344: UndefinedMetricWarning: Precision is ill-defined and being set to 0.0 in labels with no predicted samples. Use `zero_division` parameter to control this behavior.\n",
      "  _warn_prf(average, modifier, msg_start, len(result))\n"
     ]
    }
   ],
   "source": [
    "from sklearn.svm import LinearSVC\n",
    "from sklearn.metrics import accuracy_score, precision_score, recall_score\n",
    "\n",
    "svc = LinearSVC(C=1)\n",
    "svc.fit(x_train_tfidf_vec,y_train)\n",
    "\n",
    "y_hat = svc.predict(x_test_tfidf_vec)\n",
    "\n",
    "print(f'정확도: {accuracy_score(y_test, y_hat):.3f}')\n",
    "print(f'정밀도: {precision_score(y_test, y_hat, average=\"weighted\"):.3f}')\n",
    "print(f'재현율: {recall_score(y_test, y_hat, average=\"weighted\"):.3f}')"
   ]
  },
  {
   "cell_type": "code",
   "execution_count": 61,
   "id": "7bc727b4-3bfa-40f2-a61f-1bb3f2689d4c",
   "metadata": {
    "scrolled": true
   },
   "outputs": [
    {
     "name": "stdout",
     "output_type": "stream",
     "text": [
      "              precision    recall  f1-score   support\n",
      "\n",
      "        8401       1.00      1.00      1.00         3\n",
      "        8402       0.75      0.75      0.75         4\n",
      "        8403       0.82      1.00      0.90         9\n",
      "        8404       0.00      0.00      0.00         2\n",
      "        8405       1.00      0.50      0.67         4\n",
      "        8406       1.00      1.00      1.00         1\n",
      "        8407       1.00      0.44      0.62         9\n",
      "        8408       0.83      0.71      0.77         7\n",
      "        8409       0.90      0.96      0.93       162\n",
      "        8410       0.00      0.00      0.00         1\n",
      "        8411       0.89      0.95      0.92        60\n",
      "        8412       0.87      0.87      0.87       102\n",
      "        8413       0.94      0.94      0.94       248\n",
      "        8414       0.93      0.93      0.93       355\n",
      "        8415       0.89      0.91      0.90        90\n",
      "        8416       1.00      1.00      1.00         5\n",
      "        8417       1.00      0.90      0.95        21\n",
      "        8418       0.98      0.94      0.96       170\n",
      "        8419       0.90      0.93      0.91       189\n",
      "        8420       1.00      0.50      0.67         4\n",
      "        8421       0.94      0.98      0.96       395\n",
      "        8422       0.94      0.92      0.93        78\n",
      "        8423       1.00      0.98      0.99        83\n",
      "        8424       0.95      0.96      0.96       356\n",
      "        8425       0.89      0.93      0.91        70\n",
      "        8426       0.94      0.89      0.91        18\n",
      "        8427       0.96      0.97      0.97       117\n",
      "        8428       0.86      0.81      0.84       187\n",
      "        8429       0.80      0.57      0.67         7\n",
      "        8430       0.88      0.78      0.82        18\n",
      "        8431       0.91      0.89      0.90       297\n",
      "        8432       0.88      0.94      0.91        48\n",
      "        8433       0.98      0.93      0.96        69\n",
      "        8434       0.00      0.00      0.00         1\n",
      "        8435       1.00      1.00      1.00         3\n",
      "        8436       1.00      0.81      0.90        32\n",
      "        8437       1.00      1.00      1.00         1\n",
      "        8438       0.88      0.74      0.81        39\n",
      "        8439       0.70      0.78      0.74         9\n",
      "        8440       0.00      0.00      0.00         1\n",
      "        8441       1.00      0.75      0.86        12\n",
      "        8442       1.00      0.25      0.40         4\n",
      "        8443       0.97      0.99      0.98       281\n",
      "        8444       1.00      1.00      1.00         1\n",
      "        8445       0.67      0.67      0.67         3\n",
      "        8446       1.00      1.00      1.00         1\n",
      "        8447       1.00      0.50      0.67         2\n",
      "        8448       1.00      0.90      0.95        10\n",
      "        8449       1.00      1.00      1.00         1\n",
      "        8450       0.91      0.83      0.87        12\n",
      "        8451       0.83      0.59      0.69        17\n",
      "        8452       1.00      0.90      0.95        10\n",
      "        8453       1.00      1.00      1.00         1\n",
      "        8454       0.71      0.71      0.71         7\n",
      "        8455       1.00      1.00      1.00         2\n",
      "        8456       0.83      0.83      0.83        24\n",
      "        8457       0.60      0.75      0.67         4\n",
      "        8458       1.00      0.67      0.80         3\n",
      "        8459       1.00      0.60      0.75         5\n",
      "        8460       1.00      1.00      1.00        11\n",
      "        8461       0.50      0.25      0.33         4\n",
      "        8462       0.88      0.88      0.88        24\n",
      "        8463       1.00      0.67      0.80         3\n",
      "        8464       0.89      0.80      0.84        10\n",
      "        8465       0.93      0.72      0.81        18\n",
      "        8466       0.89      0.93      0.91        80\n",
      "        8467       0.95      0.98      0.96       163\n",
      "        8468       1.00      1.00      1.00         4\n",
      "        8470       1.00      0.90      0.95        29\n",
      "        8471       0.97      0.99      0.98       884\n",
      "        8472       1.00      0.94      0.97        53\n",
      "        8473       0.94      0.90      0.92       246\n",
      "        8474       0.78      0.89      0.83        28\n",
      "        8475       1.00      0.50      0.67         2\n",
      "        8476       1.00      0.71      0.83         7\n",
      "        8477       0.84      0.70      0.77        44\n",
      "        8478       1.00      1.00      1.00         5\n",
      "        8479       0.89      0.92      0.90       932\n",
      "        8480       0.88      0.81      0.84        26\n",
      "        8481       0.97      0.98      0.97       951\n",
      "        8482       0.95      0.90      0.92        89\n",
      "        8483       0.91      0.94      0.93       378\n",
      "        8484       0.97      0.88      0.92        41\n",
      "        8485       0.67      0.40      0.50         5\n",
      "        8486       0.92      0.90      0.91        84\n",
      "        8487       0.93      0.89      0.91       139\n",
      "\n",
      "    accuracy                           0.93      7935\n",
      "   macro avg       0.88      0.80      0.82      7935\n",
      "weighted avg       0.93      0.93      0.93      7935\n",
      "\n"
     ]
    },
    {
     "name": "stderr",
     "output_type": "stream",
     "text": [
      "C:\\Users\\user\\anaconda3\\Lib\\site-packages\\sklearn\\metrics\\_classification.py:1344: UndefinedMetricWarning: Precision and F-score are ill-defined and being set to 0.0 in labels with no predicted samples. Use `zero_division` parameter to control this behavior.\n",
      "  _warn_prf(average, modifier, msg_start, len(result))\n",
      "C:\\Users\\user\\anaconda3\\Lib\\site-packages\\sklearn\\metrics\\_classification.py:1344: UndefinedMetricWarning: Precision and F-score are ill-defined and being set to 0.0 in labels with no predicted samples. Use `zero_division` parameter to control this behavior.\n",
      "  _warn_prf(average, modifier, msg_start, len(result))\n",
      "C:\\Users\\user\\anaconda3\\Lib\\site-packages\\sklearn\\metrics\\_classification.py:1344: UndefinedMetricWarning: Precision and F-score are ill-defined and being set to 0.0 in labels with no predicted samples. Use `zero_division` parameter to control this behavior.\n",
      "  _warn_prf(average, modifier, msg_start, len(result))\n"
     ]
    }
   ],
   "source": [
    "from sklearn.metrics import classification_report\n",
    "\n",
    "print(classification_report(y_test, y_hat))"
   ]
  },
  {
   "cell_type": "code",
   "execution_count": 13,
   "id": "86b069af-3157-451d-bc50-c112d840a2f3",
   "metadata": {},
   "outputs": [
    {
     "data": {
      "text/html": [
       "<div>\n",
       "<style scoped>\n",
       "    .dataframe tbody tr th:only-of-type {\n",
       "        vertical-align: middle;\n",
       "    }\n",
       "\n",
       "    .dataframe tbody tr th {\n",
       "        vertical-align: top;\n",
       "    }\n",
       "\n",
       "    .dataframe thead th {\n",
       "        text-align: right;\n",
       "    }\n",
       "</style>\n",
       "<table border=\"1\" class=\"dataframe\">\n",
       "  <thead>\n",
       "    <tr style=\"text-align: right;\">\n",
       "      <th></th>\n",
       "      <th>hs code</th>\n",
       "      <th>description</th>\n",
       "    </tr>\n",
       "  </thead>\n",
       "  <tbody>\n",
       "    <tr>\n",
       "      <th>0</th>\n",
       "      <td>8481</td>\n",
       "      <td>The Cooler Keg, model number CK0001, is referr...</td>\n",
       "    </tr>\n",
       "    <tr>\n",
       "      <th>1</th>\n",
       "      <td>8470</td>\n",
       "      <td>The products under consideration are identifie...</td>\n",
       "    </tr>\n",
       "    <tr>\n",
       "      <th>2</th>\n",
       "      <td>8428</td>\n",
       "      <td>The merchandise under consideration is describ...</td>\n",
       "    </tr>\n",
       "    <tr>\n",
       "      <th>3</th>\n",
       "      <td>8445</td>\n",
       "      <td>At issue is the GlassTwister ring twisting mac...</td>\n",
       "    </tr>\n",
       "    <tr>\n",
       "      <th>4</th>\n",
       "      <td>8415</td>\n",
       "      <td>The air handler unit in question is available ...</td>\n",
       "    </tr>\n",
       "  </tbody>\n",
       "</table>\n",
       "</div>"
      ],
      "text/plain": [
       "   hs code                                        description\n",
       "0     8481  The Cooler Keg, model number CK0001, is referr...\n",
       "1     8470  The products under consideration are identifie...\n",
       "2     8428  The merchandise under consideration is describ...\n",
       "3     8445  At issue is the GlassTwister ring twisting mac...\n",
       "4     8415  The air handler unit in question is available ..."
      ]
     },
     "execution_count": 13,
     "metadata": {},
     "output_type": "execute_result"
    }
   ],
   "source": [
    "test = pd.read_excel('84미국사례 테스트용.xlsx')\n",
    "test.head()"
   ]
  },
  {
   "cell_type": "code",
   "execution_count": 14,
   "id": "650e0875-a33d-47b4-9cda-a9dbfb06427a",
   "metadata": {},
   "outputs": [],
   "source": [
    "x_test_test_tfidf_vec = tfidf_vec.transform(test['description'])"
   ]
  },
  {
   "cell_type": "code",
   "execution_count": 63,
   "id": "59d64484-2518-40f7-8bbb-5a5ec2ee14f0",
   "metadata": {},
   "outputs": [
    {
     "data": {
      "text/plain": [
       "array([8422, 8473, 8431, 8414, 8481, 8471, 8483, 8479, 8483, 8414, 8428,\n",
       "       8419, 8471, 8479, 8486, 8479, 8428, 8481, 8421, 8431])"
      ]
     },
     "execution_count": 63,
     "metadata": {},
     "output_type": "execute_result"
    }
   ],
   "source": [
    "y_hat_hat = svc.predict(x_test_test_tfidf_vec)\n",
    "\n",
    "y_hat_hat"
   ]
  },
  {
   "cell_type": "code",
   "execution_count": 65,
   "id": "056be876-cc1b-4afe-993f-2484744111b6",
   "metadata": {},
   "outputs": [
    {
     "data": {
      "text/plain": [
       "array([8481, 8470, 8428, 8445, 8415, 8424, 8482, 8462, 8466, 8414, 8427,\n",
       "       8421, 8473, 8419, 8479, 8422, 8431, 8481, 8421, 8431], dtype=int64)"
      ]
     },
     "execution_count": 65,
     "metadata": {},
     "output_type": "execute_result"
    }
   ],
   "source": [
    "test['hs code'].values"
   ]
  },
  {
   "cell_type": "code",
   "execution_count": 18,
   "id": "1c24df6d-55bc-4d7c-a8a3-39f829f29cb8",
   "metadata": {},
   "outputs": [
    {
     "name": "stdout",
     "output_type": "stream",
     "text": [
      "정확도: 0.918\n",
      "정밀도: 0.919\n",
      "재현율: 0.918\n"
     ]
    },
    {
     "name": "stderr",
     "output_type": "stream",
     "text": [
      "C:\\Users\\user\\anaconda3\\Lib\\site-packages\\sklearn\\metrics\\_classification.py:1344: UndefinedMetricWarning: Precision is ill-defined and being set to 0.0 in labels with no predicted samples. Use `zero_division` parameter to control this behavior.\n",
      "  _warn_prf(average, modifier, msg_start, len(result))\n"
     ]
    }
   ],
   "source": [
    "from sklearn.linear_model import LogisticRegression\n",
    "from sklearn.metrics import accuracy_score, precision_score, recall_score\n",
    "\n",
    "lr = LogisticRegression(solver='saga', multi_class='multinomial', C=3)\n",
    "lr.fit(x_train_tfidf_vec,y_train)\n",
    "\n",
    "y_hat = lr.predict(x_test_tfidf_vec)\n",
    "\n",
    "print(f'정확도: {accuracy_score(y_test, y_hat):.3f}')\n",
    "print(f'정밀도: {precision_score(y_test, y_hat, average=\"weighted\"):.3f}')\n",
    "print(f'재현율: {recall_score(y_test, y_hat, average=\"weighted\"):.3f}')"
   ]
  },
  {
   "cell_type": "code",
   "execution_count": 130,
   "id": "8c331e4f-4b75-4d7d-82a4-7d9f0d0e102a",
   "metadata": {},
   "outputs": [
    {
     "name": "stdout",
     "output_type": "stream",
     "text": [
      "              precision    recall  f1-score   support\n",
      "\n",
      "        8401       0.00      0.00      0.00         3\n",
      "        8402       0.00      0.00      0.00         4\n",
      "        8403       1.00      0.22      0.36         9\n",
      "        8404       0.00      0.00      0.00         2\n",
      "        8405       0.00      0.00      0.00         4\n",
      "        8406       0.00      0.00      0.00         1\n",
      "        8407       0.00      0.00      0.00         9\n",
      "        8408       1.00      0.29      0.44         7\n",
      "        8409       0.88      0.93      0.91       162\n",
      "        8410       0.00      0.00      0.00         1\n",
      "        8411       0.84      0.90      0.87        60\n",
      "        8412       0.83      0.83      0.83       102\n",
      "        8413       0.90      0.94      0.92       248\n",
      "        8414       0.88      0.90      0.89       355\n",
      "        8415       0.89      0.86      0.87        90\n",
      "        8416       1.00      0.20      0.33         5\n",
      "        8417       1.00      0.71      0.83        21\n",
      "        8418       0.97      0.88      0.92       170\n",
      "        8419       0.79      0.88      0.83       189\n",
      "        8420       0.00      0.00      0.00         4\n",
      "        8421       0.93      0.95      0.94       395\n",
      "        8422       1.00      0.74      0.85        78\n",
      "        8423       1.00      0.95      0.98        83\n",
      "        8424       0.93      0.92      0.93       356\n",
      "        8425       0.91      0.89      0.90        70\n",
      "        8426       0.92      0.67      0.77        18\n",
      "        8427       0.96      0.93      0.95       117\n",
      "        8428       0.81      0.73      0.77       187\n",
      "        8429       0.00      0.00      0.00         7\n",
      "        8430       1.00      0.33      0.50        18\n",
      "        8431       0.82      0.84      0.83       297\n",
      "        8432       0.83      0.62      0.71        48\n",
      "        8433       0.96      0.71      0.82        69\n",
      "        8434       0.00      0.00      0.00         1\n",
      "        8435       0.00      0.00      0.00         3\n",
      "        8436       1.00      0.25      0.40        32\n",
      "        8437       0.00      0.00      0.00         1\n",
      "        8438       0.92      0.31      0.46        39\n",
      "        8439       0.50      0.11      0.18         9\n",
      "        8440       0.00      0.00      0.00         1\n",
      "        8441       0.67      0.33      0.44        12\n",
      "        8442       0.00      0.00      0.00         4\n",
      "        8443       0.91      0.98      0.94       281\n",
      "        8444       0.00      0.00      0.00         1\n",
      "        8445       0.00      0.00      0.00         3\n",
      "        8446       0.00      0.00      0.00         1\n",
      "        8447       0.00      0.00      0.00         2\n",
      "        8448       0.00      0.00      0.00        10\n",
      "        8449       0.00      0.00      0.00         1\n",
      "        8450       0.89      0.67      0.76        12\n",
      "        8451       1.00      0.12      0.21        17\n",
      "        8452       1.00      0.80      0.89        10\n",
      "        8453       0.00      0.00      0.00         1\n",
      "        8454       1.00      0.29      0.44         7\n",
      "        8455       0.00      0.00      0.00         2\n",
      "        8456       0.70      0.58      0.64        24\n",
      "        8457       0.00      0.00      0.00         4\n",
      "        8458       0.00      0.00      0.00         3\n",
      "        8459       0.00      0.00      0.00         5\n",
      "        8460       1.00      0.45      0.62        11\n",
      "        8461       0.00      0.00      0.00         4\n",
      "        8462       0.92      0.50      0.65        24\n",
      "        8463       0.00      0.00      0.00         3\n",
      "        8464       1.00      0.30      0.46        10\n",
      "        8465       1.00      0.39      0.56        18\n",
      "        8466       0.81      0.75      0.78        80\n",
      "        8467       0.87      0.94      0.91       163\n",
      "        8468       0.00      0.00      0.00         4\n",
      "        8470       1.00      0.59      0.74        29\n",
      "        8471       0.96      0.99      0.97       884\n",
      "        8472       0.93      0.79      0.86        53\n",
      "        8473       0.91      0.85      0.88       246\n",
      "        8474       1.00      0.50      0.67        28\n",
      "        8475       0.00      0.00      0.00         2\n",
      "        8476       0.00      0.00      0.00         7\n",
      "        8477       0.86      0.41      0.55        44\n",
      "        8478       1.00      0.40      0.57         5\n",
      "        8479       0.69      0.92      0.79       932\n",
      "        8480       0.85      0.65      0.74        26\n",
      "        8481       0.94      0.97      0.95       951\n",
      "        8482       0.94      0.81      0.87        89\n",
      "        8483       0.85      0.89      0.87       378\n",
      "        8484       0.97      0.76      0.85        41\n",
      "        8485       0.00      0.00      0.00         5\n",
      "        8486       0.97      0.86      0.91        84\n",
      "        8487       0.96      0.80      0.87       139\n",
      "\n",
      "    accuracy                           0.87      7935\n",
      "   macro avg       0.58      0.43      0.47      7935\n",
      "weighted avg       0.87      0.87      0.86      7935\n",
      "\n"
     ]
    },
    {
     "name": "stderr",
     "output_type": "stream",
     "text": [
      "C:\\Users\\user\\anaconda3\\Lib\\site-packages\\sklearn\\metrics\\_classification.py:1344: UndefinedMetricWarning: Precision and F-score are ill-defined and being set to 0.0 in labels with no predicted samples. Use `zero_division` parameter to control this behavior.\n",
      "  _warn_prf(average, modifier, msg_start, len(result))\n",
      "C:\\Users\\user\\anaconda3\\Lib\\site-packages\\sklearn\\metrics\\_classification.py:1344: UndefinedMetricWarning: Precision and F-score are ill-defined and being set to 0.0 in labels with no predicted samples. Use `zero_division` parameter to control this behavior.\n",
      "  _warn_prf(average, modifier, msg_start, len(result))\n",
      "C:\\Users\\user\\anaconda3\\Lib\\site-packages\\sklearn\\metrics\\_classification.py:1344: UndefinedMetricWarning: Precision and F-score are ill-defined and being set to 0.0 in labels with no predicted samples. Use `zero_division` parameter to control this behavior.\n",
      "  _warn_prf(average, modifier, msg_start, len(result))\n"
     ]
    }
   ],
   "source": [
    "from sklearn.metrics import classification_report\n",
    "\n",
    "print(classification_report(y_test, y_hat))"
   ]
  },
  {
   "cell_type": "code",
   "execution_count": 10,
   "id": "75c24949-e5cb-4e22-8a73-b989b6925cb1",
   "metadata": {},
   "outputs": [
    {
     "data": {
      "text/plain": [
       "array([8422, 8424, 8428, 8479, 8481, 8479, 8479, 8479, 8481, 8414, 8428,\n",
       "       8419, 8471, 8479, 8479, 8479, 8428, 8481, 8421, 8431])"
      ]
     },
     "execution_count": 10,
     "metadata": {},
     "output_type": "execute_result"
    }
   ],
   "source": [
    "y_hat_hat = lr.predict(x_test_test_tfidf_vec)\n",
    "\n",
    "y_hat_hat"
   ]
  },
  {
   "cell_type": "code",
   "execution_count": 11,
   "id": "3562f317-7525-4b34-8d65-71d4288ecf58",
   "metadata": {},
   "outputs": [
    {
     "data": {
      "text/plain": [
       "array([8481, 8470, 8428, 8445, 8415, 8424, 8482, 8462, 8466, 8414, 8427,\n",
       "       8421, 8473, 8419, 8479, 8422, 8431, 8481, 8421, 8431], dtype=int64)"
      ]
     },
     "execution_count": 11,
     "metadata": {},
     "output_type": "execute_result"
    }
   ],
   "source": [
    "test['hs code'].values"
   ]
  },
  {
   "cell_type": "code",
   "execution_count": 76,
   "id": "7c267ac4-57d8-442a-86b4-2c413f12147b",
   "metadata": {},
   "outputs": [],
   "source": [
    "import numpy as np\n",
    "import sys\n",
    "\n",
    "np.set_printoptions(threshold=sys.maxsize)\n",
    "np.set_printoptions(precision=6, suppress=True)"
   ]
  },
  {
   "cell_type": "code",
   "execution_count": 87,
   "id": "e8963a5f-b0d9-471f-80d5-e641b0b4bd8d",
   "metadata": {},
   "outputs": [],
   "source": [
    "y = total_df['hs code'].unique()\n",
    "y.sort()"
   ]
  },
  {
   "cell_type": "code",
   "execution_count": 88,
   "id": "5593cf37-2bc5-45e1-843f-19abe4c17b37",
   "metadata": {},
   "outputs": [
    {
     "data": {
      "text/plain": [
       "array(['8401', '8402', '8403', '8404', '8405', '8406', '8407', '8408',\n",
       "       '8409', '8410', '8411', '8412', '8413', '8414', '8415', '8416',\n",
       "       '8417', '8418', '8419', '8420', '8421', '8422', '8423', '8424',\n",
       "       '8425', '8426', '8427', '8428', '8429', '8430', '8431', '8432',\n",
       "       '8433', '8434', '8435', '8436', '8437', '8438', '8439', '8440',\n",
       "       '8441', '8442', '8443', '8444', '8445', '8446', '8447', '8448',\n",
       "       '8449', '8450', '8451', '8452', '8453', '8454', '8455', '8456',\n",
       "       '8457', '8458', '8459', '8460', '8461', '8462', '8463', '8464',\n",
       "       '8465', '8466', '8467', '8468', '8470', '8471', '8472', '8473',\n",
       "       '8474', '8475', '8476', '8477', '8478', '8479', '8480', '8481',\n",
       "       '8482', '8483', '8484', '8485', '8486', '8487'], dtype=object)"
      ]
     },
     "execution_count": 88,
     "metadata": {},
     "output_type": "execute_result"
    }
   ],
   "source": [
    "y"
   ]
  },
  {
   "cell_type": "code",
   "execution_count": 83,
   "id": "bde05c6a-4e05-4625-8607-7a1a1b57a38c",
   "metadata": {
    "scrolled": true
   },
   "outputs": [
    {
     "data": {
      "text/plain": [
       "array([[0.001502, 0.001797, 0.003033, 0.001289, 0.002297, 0.000913,\n",
       "        0.002945, 0.002412, 0.012621, 0.000731, 0.007002, 0.010238,\n",
       "        0.013494, 0.024958, 0.00782 , 0.00233 , 0.00364 , 0.024847,\n",
       "        0.030872, 0.001989, 0.033429, 0.115029, 0.009152, 0.029164,\n",
       "        0.011105, 0.004904, 0.007094, 0.02857 , 0.002878, 0.006312,\n",
       "        0.030211, 0.012726, 0.012331, 0.000919, 0.001348, 0.010872,\n",
       "        0.000733, 0.023   , 0.003174, 0.000732, 0.004123, 0.001959,\n",
       "        0.017392, 0.000827, 0.001741, 0.000544, 0.001017, 0.003662,\n",
       "        0.00093 , 0.002879, 0.006139, 0.002723, 0.00083 , 0.003145,\n",
       "        0.001115, 0.005817, 0.001751, 0.001296, 0.002387, 0.003463,\n",
       "        0.001827, 0.007603, 0.001293, 0.003489, 0.005812, 0.012436,\n",
       "        0.014397, 0.002009, 0.006858, 0.050082, 0.009721, 0.024306,\n",
       "        0.008307, 0.001112, 0.003341, 0.009819, 0.002063, 0.103474,\n",
       "        0.006031, 0.086703, 0.007524, 0.031535, 0.007066, 0.002463,\n",
       "        0.014205, 0.01237 ],\n",
       "       [0.001357, 0.001623, 0.002625, 0.001181, 0.002166, 0.000832,\n",
       "        0.002722, 0.002104, 0.008325, 0.000679, 0.005444, 0.010096,\n",
       "        0.011787, 0.038254, 0.007296, 0.002039, 0.003038, 0.01338 ,\n",
       "        0.03033 , 0.001906, 0.035753, 0.017952, 0.006879, 0.047017,\n",
       "        0.011532, 0.004177, 0.008716, 0.036213, 0.002597, 0.00557 ,\n",
       "        0.018638, 0.011264, 0.010648, 0.000829, 0.001185, 0.011145,\n",
       "        0.000688, 0.015137, 0.003032, 0.000671, 0.004603, 0.001915,\n",
       "        0.016747, 0.000746, 0.001593, 0.000496, 0.000998, 0.003075,\n",
       "        0.000903, 0.002526, 0.005578, 0.002529, 0.000763, 0.003077,\n",
       "        0.00102 , 0.00606 , 0.001988, 0.001226, 0.002205, 0.003344,\n",
       "        0.001757, 0.006454, 0.001256, 0.00316 , 0.005512, 0.01018 ,\n",
       "        0.110955, 0.001871, 0.00772 , 0.044217, 0.009446, 0.070153,\n",
       "        0.00706 , 0.001079, 0.003182, 0.010217, 0.002136, 0.144649,\n",
       "        0.00497 , 0.030986, 0.006217, 0.022512, 0.005753, 0.002145,\n",
       "        0.017058, 0.011126],\n",
       "       [0.001099, 0.001314, 0.002133, 0.000955, 0.001549, 0.000661,\n",
       "        0.002059, 0.001641, 0.007015, 0.00054 , 0.004459, 0.009676,\n",
       "        0.010854, 0.01242 , 0.005593, 0.001673, 0.00278 , 0.013574,\n",
       "        0.042575, 0.001521, 0.020287, 0.037123, 0.006422, 0.021671,\n",
       "        0.00678 , 0.004088, 0.005082, 0.231833, 0.003149, 0.005199,\n",
       "        0.132374, 0.007518, 0.010391, 0.000673, 0.001019, 0.011212,\n",
       "        0.000549, 0.019166, 0.002529, 0.000538, 0.003047, 0.00167 ,\n",
       "        0.009152, 0.000608, 0.001234, 0.00041 , 0.000741, 0.002468,\n",
       "        0.000677, 0.001932, 0.004249, 0.001925, 0.000626, 0.0025  ,\n",
       "        0.000813, 0.004239, 0.001496, 0.001056, 0.001813, 0.002464,\n",
       "        0.001432, 0.005217, 0.000972, 0.002705, 0.004133, 0.006982,\n",
       "        0.008977, 0.001515, 0.005958, 0.029273, 0.007205, 0.008305,\n",
       "        0.006432, 0.00081 , 0.002397, 0.008297, 0.001431, 0.12489 ,\n",
       "        0.00472 , 0.022023, 0.00438 , 0.014823, 0.004596, 0.00163 ,\n",
       "        0.013083, 0.013003],\n",
       "       [0.001423, 0.001666, 0.002985, 0.001211, 0.002082, 0.000878,\n",
       "        0.003005, 0.002365, 0.014518, 0.000699, 0.00573 , 0.016542,\n",
       "        0.012999, 0.057761, 0.008323, 0.002149, 0.003628, 0.014433,\n",
       "        0.038335, 0.001858, 0.031539, 0.018648, 0.007569, 0.020774,\n",
       "        0.015265, 0.004445, 0.006043, 0.026376, 0.002682, 0.007217,\n",
       "        0.025855, 0.014299, 0.013059, 0.00088 , 0.001446, 0.013385,\n",
       "        0.000697, 0.013306, 0.002925, 0.000696, 0.004292, 0.001814,\n",
       "        0.020324, 0.00079 , 0.001814, 0.000532, 0.000967, 0.004058,\n",
       "        0.00088 , 0.002708, 0.005339, 0.002587, 0.000787, 0.003198,\n",
       "        0.001063, 0.00507 , 0.002204, 0.00167 , 0.003851, 0.005081,\n",
       "        0.001901, 0.005991, 0.00122 , 0.003887, 0.008924, 0.027636,\n",
       "        0.019003, 0.002006, 0.005768, 0.021227, 0.008795, 0.018976,\n",
       "        0.008668, 0.001043, 0.002677, 0.008837, 0.001883, 0.217076,\n",
       "        0.005502, 0.029026, 0.005489, 0.071913, 0.006576, 0.001967,\n",
       "        0.014032, 0.011253],\n",
       "       [0.000741, 0.000938, 0.002353, 0.00088 , 0.001211, 0.000466,\n",
       "        0.001587, 0.001195, 0.008343, 0.000376, 0.003656, 0.00553 ,\n",
       "        0.003702, 0.088995, 0.061554, 0.001388, 0.002454, 0.034506,\n",
       "        0.218855, 0.001021, 0.017911, 0.008149, 0.003404, 0.011691,\n",
       "        0.005412, 0.003308, 0.002787, 0.01402 , 0.001323, 0.003238,\n",
       "        0.010648, 0.004488, 0.005438, 0.000471, 0.000653, 0.00474 ,\n",
       "        0.000379, 0.005953, 0.001573, 0.000374, 0.002095, 0.001024,\n",
       "        0.007984, 0.000429, 0.00088 , 0.00028 , 0.000524, 0.00169 ,\n",
       "        0.000473, 0.001469, 0.003316, 0.001318, 0.000422, 0.00184 ,\n",
       "        0.00056 , 0.002916, 0.000895, 0.000658, 0.001219, 0.001555,\n",
       "        0.00095 , 0.002879, 0.000666, 0.00165 , 0.00259 , 0.003265,\n",
       "        0.006491, 0.001104, 0.003029, 0.01702 , 0.003764, 0.012081,\n",
       "        0.00361 , 0.000576, 0.001499, 0.005996, 0.00104 , 0.061106,\n",
       "        0.002595, 0.261757, 0.003373, 0.009555, 0.003118, 0.001103,\n",
       "        0.006584, 0.005348],\n",
       "       [0.001492, 0.00181 , 0.003104, 0.001351, 0.002187, 0.000911,\n",
       "        0.003145, 0.002487, 0.011284, 0.000753, 0.007078, 0.01203 ,\n",
       "        0.014367, 0.024039, 0.010082, 0.002422, 0.004112, 0.016933,\n",
       "        0.031994, 0.002002, 0.035749, 0.016097, 0.007984, 0.041013,\n",
       "        0.01218 , 0.005368, 0.006449, 0.036825, 0.002827, 0.00691 ,\n",
       "        0.054702, 0.013509, 0.011229, 0.000941, 0.0013  , 0.013077,\n",
       "        0.000734, 0.014018, 0.003266, 0.000736, 0.004112, 0.001926,\n",
       "        0.023062, 0.000826, 0.001764, 0.000552, 0.001034, 0.004248,\n",
       "        0.000929, 0.002781, 0.006315, 0.002695, 0.000829, 0.003132,\n",
       "        0.001118, 0.006127, 0.001859, 0.00131 , 0.002384, 0.003336,\n",
       "        0.00186 , 0.007018, 0.001326, 0.003577, 0.005637, 0.009666,\n",
       "        0.015025, 0.002046, 0.008165, 0.064392, 0.009583, 0.028369,\n",
       "        0.008718, 0.00112 , 0.00294 , 0.013044, 0.002015, 0.16213 ,\n",
       "        0.006627, 0.049845, 0.008844, 0.034496, 0.008279, 0.00245 ,\n",
       "        0.016356, 0.017636],\n",
       "       [0.001274, 0.001526, 0.002588, 0.001106, 0.001859, 0.000811,\n",
       "        0.002475, 0.00207 , 0.01307 , 0.000632, 0.008761, 0.010066,\n",
       "        0.014652, 0.025665, 0.007508, 0.002104, 0.003058, 0.010774,\n",
       "        0.021893, 0.001727, 0.031783, 0.012978, 0.007122, 0.02286 ,\n",
       "        0.010163, 0.004721, 0.005116, 0.027306, 0.002383, 0.005199,\n",
       "        0.040549, 0.015165, 0.011479, 0.000876, 0.001147, 0.013186,\n",
       "        0.000635, 0.010786, 0.002602, 0.000643, 0.004727, 0.001692,\n",
       "        0.015971, 0.000708, 0.001504, 0.000469, 0.000878, 0.003388,\n",
       "        0.000794, 0.00243 , 0.004871, 0.002265, 0.000726, 0.002904,\n",
       "        0.001016, 0.004473, 0.001536, 0.001112, 0.002111, 0.003075,\n",
       "        0.001627, 0.00693 , 0.001171, 0.003229, 0.005727, 0.01476 ,\n",
       "        0.011014, 0.001826, 0.005347, 0.015368, 0.008049, 0.049865,\n",
       "        0.008054, 0.000978, 0.002432, 0.007205, 0.001943, 0.165014,\n",
       "        0.005245, 0.030095, 0.006911, 0.195643, 0.007693, 0.002069,\n",
       "        0.011302, 0.013537],\n",
       "       [0.001636, 0.002001, 0.003442, 0.001476, 0.002275, 0.000944,\n",
       "        0.002923, 0.002423, 0.011842, 0.000758, 0.008401, 0.010672,\n",
       "        0.012297, 0.028049, 0.01142 , 0.002584, 0.003672, 0.022727,\n",
       "        0.057592, 0.002088, 0.056109, 0.017516, 0.007816, 0.071423,\n",
       "        0.015657, 0.005521, 0.009281, 0.031618, 0.002945, 0.006405,\n",
       "        0.025011, 0.012559, 0.012248, 0.000955, 0.001375, 0.013734,\n",
       "        0.000763, 0.014135, 0.004006, 0.000759, 0.004602, 0.002072,\n",
       "        0.017556, 0.000878, 0.001819, 0.000565, 0.001077, 0.004072,\n",
       "        0.000961, 0.002968, 0.006615, 0.002732, 0.000901, 0.003181,\n",
       "        0.001153, 0.007248, 0.001987, 0.001462, 0.00299 , 0.003898,\n",
       "        0.002108, 0.007878, 0.001376, 0.004018, 0.00787 , 0.012831,\n",
       "        0.011045, 0.002128, 0.007173, 0.033288, 0.012668, 0.023419,\n",
       "        0.007989, 0.00119 , 0.003143, 0.014026, 0.002337, 0.160371,\n",
       "        0.006612, 0.032167, 0.007625, 0.026713, 0.006888, 0.002285,\n",
       "        0.017261, 0.017796],\n",
       "       [0.001333, 0.001616, 0.004804, 0.001224, 0.001977, 0.000864,\n",
       "        0.002559, 0.002081, 0.017453, 0.000664, 0.0087  , 0.01589 ,\n",
       "        0.009644, 0.023645, 0.006269, 0.002206, 0.004317, 0.010697,\n",
       "        0.022357, 0.001865, 0.025444, 0.010327, 0.006903, 0.019434,\n",
       "        0.008518, 0.004078, 0.00563 , 0.035099, 0.002437, 0.004697,\n",
       "        0.052556, 0.011223, 0.011171, 0.000858, 0.001238, 0.00893 ,\n",
       "        0.000666, 0.011041, 0.002903, 0.000663, 0.003476, 0.001757,\n",
       "        0.011543, 0.000754, 0.001584, 0.000495, 0.000956, 0.003435,\n",
       "        0.000836, 0.002553, 0.00477 , 0.002346, 0.000749, 0.003015,\n",
       "        0.001136, 0.005189, 0.003958, 0.001601, 0.002408, 0.003076,\n",
       "        0.001725, 0.006226, 0.001153, 0.003546, 0.0055  , 0.058608,\n",
       "        0.010092, 0.001804, 0.005358, 0.019944, 0.008168, 0.019654,\n",
       "        0.02046 , 0.000992, 0.002478, 0.011617, 0.00195 , 0.078342,\n",
       "        0.005794, 0.076256, 0.005187, 0.17    , 0.006733, 0.001911,\n",
       "        0.011061, 0.045822],\n",
       "       [0.00145 , 0.001866, 0.002853, 0.001287, 0.002113, 0.00091 ,\n",
       "        0.003114, 0.002346, 0.011591, 0.000709, 0.015053, 0.018974,\n",
       "        0.017238, 0.09112 , 0.007143, 0.002215, 0.003318, 0.014596,\n",
       "        0.031218, 0.001946, 0.030384, 0.016225, 0.009939, 0.036647,\n",
       "        0.010742, 0.004861, 0.006642, 0.029727, 0.002633, 0.006153,\n",
       "        0.033852, 0.011743, 0.01159 , 0.000895, 0.001279, 0.01015 ,\n",
       "        0.000703, 0.012127, 0.003101, 0.000704, 0.00377 , 0.001941,\n",
       "        0.018561, 0.000791, 0.001804, 0.000535, 0.00097 , 0.003631,\n",
       "        0.000887, 0.002754, 0.005932, 0.002599, 0.000794, 0.003195,\n",
       "        0.001073, 0.005894, 0.001665, 0.00123 , 0.002231, 0.003255,\n",
       "        0.001726, 0.007303, 0.001259, 0.003568, 0.005647, 0.011612,\n",
       "        0.013891, 0.002061, 0.007239, 0.037311, 0.009285, 0.043579,\n",
       "        0.008181, 0.001064, 0.002829, 0.010088, 0.001943, 0.158715,\n",
       "        0.00584 , 0.068922, 0.007219, 0.020358, 0.006729, 0.002337,\n",
       "        0.014873, 0.011757],\n",
       "       [0.001312, 0.001488, 0.002466, 0.001084, 0.001832, 0.000765,\n",
       "        0.002382, 0.001961, 0.010617, 0.000614, 0.005322, 0.008642,\n",
       "        0.009454, 0.016445, 0.005672, 0.001912, 0.002913, 0.012571,\n",
       "        0.021891, 0.001639, 0.025297, 0.012045, 0.00754 , 0.021106,\n",
       "        0.019942, 0.006415, 0.042831, 0.190686, 0.00267 , 0.005512,\n",
       "        0.133357, 0.010025, 0.01199 , 0.000783, 0.001082, 0.008257,\n",
       "        0.000615, 0.0112  , 0.002614, 0.00062 , 0.003366, 0.001634,\n",
       "        0.012054, 0.000699, 0.001441, 0.000457, 0.000855, 0.002976,\n",
       "        0.000778, 0.002472, 0.004886, 0.002222, 0.000696, 0.002675,\n",
       "        0.000931, 0.004607, 0.001693, 0.001206, 0.00225 , 0.002958,\n",
       "        0.001574, 0.005171, 0.001076, 0.002896, 0.005782, 0.008354,\n",
       "        0.010709, 0.001746, 0.00558 , 0.029374, 0.00683 , 0.016767,\n",
       "        0.007188, 0.000928, 0.002444, 0.008588, 0.001729, 0.106204,\n",
       "        0.004791, 0.027321, 0.008165, 0.028448, 0.005485, 0.001778,\n",
       "        0.012129, 0.012519],\n",
       "       [0.001479, 0.001796, 0.003069, 0.001296, 0.002326, 0.000913,\n",
       "        0.002877, 0.002483, 0.011166, 0.000735, 0.00668 , 0.010756,\n",
       "        0.014083, 0.035186, 0.008389, 0.002321, 0.003519, 0.021469,\n",
       "        0.089798, 0.002027, 0.044678, 0.014725, 0.008514, 0.033336,\n",
       "        0.01303 , 0.005258, 0.007928, 0.033654, 0.003023, 0.007122,\n",
       "        0.023954, 0.020517, 0.013262, 0.000935, 0.0013  , 0.01349 ,\n",
       "        0.000743, 0.020901, 0.003358, 0.000742, 0.004222, 0.001991,\n",
       "        0.017592, 0.000829, 0.001773, 0.000549, 0.001039, 0.00359 ,\n",
       "        0.00095 , 0.002817, 0.00652 , 0.002907, 0.000848, 0.00331 ,\n",
       "        0.00113 , 0.007037, 0.001803, 0.001316, 0.002478, 0.00347 ,\n",
       "        0.001858, 0.007924, 0.001351, 0.004191, 0.006413, 0.010858,\n",
       "        0.024385, 0.001999, 0.007452, 0.076927, 0.011344, 0.025206,\n",
       "        0.009022, 0.001177, 0.003205, 0.011433, 0.002135, 0.117175,\n",
       "        0.006015, 0.038213, 0.007195, 0.027424, 0.006717, 0.002138,\n",
       "        0.016037, 0.013193],\n",
       "       [0.000748, 0.000929, 0.001483, 0.000658, 0.001205, 0.000461,\n",
       "        0.001477, 0.001232, 0.006437, 0.000373, 0.003097, 0.005387,\n",
       "        0.006636, 0.012071, 0.004694, 0.001178, 0.001793, 0.005956,\n",
       "        0.017735, 0.000992, 0.015664, 0.006813, 0.004136, 0.013136,\n",
       "        0.005274, 0.003039, 0.003447, 0.022258, 0.00153 , 0.00336 ,\n",
       "        0.018277, 0.006532, 0.006569, 0.00046 , 0.000659, 0.005937,\n",
       "        0.000375, 0.006675, 0.001587, 0.000383, 0.001997, 0.000992,\n",
       "        0.011465, 0.000426, 0.000901, 0.000277, 0.000514, 0.001721,\n",
       "        0.000472, 0.001396, 0.003132, 0.001356, 0.000422, 0.001658,\n",
       "        0.000565, 0.003311, 0.000901, 0.000666, 0.001213, 0.001716,\n",
       "        0.000967, 0.003202, 0.000693, 0.001729, 0.003213, 0.004881,\n",
       "        0.005517, 0.001023, 0.006499, 0.565402, 0.006151, 0.0528  ,\n",
       "        0.00446 , 0.000584, 0.001893, 0.00596 , 0.001044, 0.040166,\n",
       "        0.002928, 0.016488, 0.003732, 0.014603, 0.003391, 0.001155,\n",
       "        0.010131, 0.005634],\n",
       "       [0.001583, 0.00196 , 0.003206, 0.001404, 0.002472, 0.000976,\n",
       "        0.003056, 0.002518, 0.013488, 0.000775, 0.007197, 0.010121,\n",
       "        0.013063, 0.027488, 0.015891, 0.002596, 0.003758, 0.035526,\n",
       "        0.041525, 0.002106, 0.034644, 0.016674, 0.008799, 0.036308,\n",
       "        0.013357, 0.005646, 0.011112, 0.039843, 0.003064, 0.007218,\n",
       "        0.027659, 0.01387 , 0.013996, 0.000965, 0.00138 , 0.011939,\n",
       "        0.000777, 0.014396, 0.003285, 0.000776, 0.004475, 0.002136,\n",
       "        0.029118, 0.000875, 0.001845, 0.000577, 0.001089, 0.003793,\n",
       "        0.000983, 0.003027, 0.006903, 0.002989, 0.000892, 0.003375,\n",
       "        0.001178, 0.006201, 0.002032, 0.001381, 0.002565, 0.003535,\n",
       "        0.002062, 0.007551, 0.001413, 0.003802, 0.007377, 0.011723,\n",
       "        0.019829, 0.002162, 0.011907, 0.033519, 0.012696, 0.025791,\n",
       "        0.008649, 0.001174, 0.003427, 0.011279, 0.002283, 0.168567,\n",
       "        0.006244, 0.045307, 0.007873, 0.032021, 0.007263, 0.002265,\n",
       "        0.016017, 0.012418],\n",
       "       [0.001599, 0.001914, 0.003256, 0.001371, 0.002294, 0.00097 ,\n",
       "        0.003139, 0.002571, 0.013504, 0.000776, 0.008104, 0.011063,\n",
       "        0.013725, 0.028192, 0.008241, 0.002488, 0.003846, 0.016796,\n",
       "        0.03465 , 0.002119, 0.041836, 0.016784, 0.00871 , 0.033887,\n",
       "        0.01285 , 0.005304, 0.007485, 0.031314, 0.003048, 0.008628,\n",
       "        0.031752, 0.013676, 0.013285, 0.000969, 0.001384, 0.014525,\n",
       "        0.000779, 0.014621, 0.0034  , 0.000778, 0.004285, 0.002087,\n",
       "        0.024353, 0.000878, 0.001855, 0.000577, 0.001081, 0.003936,\n",
       "        0.000988, 0.00316 , 0.006637, 0.002906, 0.000882, 0.003366,\n",
       "        0.00122 , 0.00682 , 0.001865, 0.001361, 0.0026  , 0.003636,\n",
       "        0.002047, 0.007278, 0.001375, 0.0037  , 0.00659 , 0.011055,\n",
       "        0.016045, 0.002143, 0.007494, 0.040563, 0.009583, 0.026626,\n",
       "        0.009483, 0.001232, 0.003187, 0.013692, 0.002201, 0.143173,\n",
       "        0.006449, 0.040529, 0.009402, 0.03946 , 0.00765 , 0.002663,\n",
       "        0.071504, 0.01475 ],\n",
       "       [0.000954, 0.001144, 0.002076, 0.000833, 0.001333, 0.000622,\n",
       "        0.001723, 0.001437, 0.006934, 0.000485, 0.004622, 0.006402,\n",
       "        0.0102  , 0.023269, 0.004426, 0.001469, 0.00227 , 0.008896,\n",
       "        0.010518, 0.001277, 0.019304, 0.009767, 0.004891, 0.025765,\n",
       "        0.006695, 0.002789, 0.00469 , 0.020179, 0.001723, 0.004226,\n",
       "        0.028314, 0.00896 , 0.008785, 0.00063 , 0.000864, 0.011457,\n",
       "        0.000496, 0.009209, 0.002008, 0.00048 , 0.003227, 0.001292,\n",
       "        0.013042, 0.000559, 0.001195, 0.000359, 0.000704, 0.00257 ,\n",
       "        0.000609, 0.001933, 0.004214, 0.002132, 0.000557, 0.002061,\n",
       "        0.00077 , 0.0056  , 0.001134, 0.000843, 0.00179 , 0.00251 ,\n",
       "        0.001783, 0.005883, 0.000892, 0.002616, 0.005232, 0.007984,\n",
       "        0.014756, 0.001398, 0.003599, 0.010897, 0.042467, 0.025285,\n",
       "        0.00499 , 0.000723, 0.00183 , 0.013078, 0.001467, 0.452035,\n",
       "        0.004901, 0.037902, 0.004401, 0.019982, 0.006249, 0.001557,\n",
       "        0.007664, 0.011202],\n",
       "       [0.001238, 0.001503, 0.002603, 0.00108 , 0.001823, 0.00076 ,\n",
       "        0.00269 , 0.001958, 0.011017, 0.000617, 0.005423, 0.008953,\n",
       "        0.008984, 0.017566, 0.006829, 0.001918, 0.003289, 0.013446,\n",
       "        0.024803, 0.001687, 0.026265, 0.018942, 0.008234, 0.027166,\n",
       "        0.008798, 0.004412, 0.005337, 0.166648, 0.003695, 0.005609,\n",
       "        0.094915, 0.012425, 0.011179, 0.000779, 0.001086, 0.013285,\n",
       "        0.000619, 0.01126 , 0.002638, 0.000611, 0.003804, 0.001639,\n",
       "        0.015073, 0.000689, 0.001444, 0.000458, 0.00086 , 0.002941,\n",
       "        0.00078 , 0.002394, 0.004939, 0.002208, 0.000692, 0.002537,\n",
       "        0.000926, 0.005196, 0.001528, 0.001064, 0.001977, 0.002853,\n",
       "        0.001572, 0.005282, 0.001092, 0.003023, 0.004756, 0.007379,\n",
       "        0.010614, 0.001698, 0.005687, 0.035832, 0.008615, 0.015701,\n",
       "        0.007618, 0.000944, 0.002572, 0.010674, 0.001695, 0.171098,\n",
       "        0.005048, 0.037882, 0.005628, 0.025896, 0.005345, 0.001936,\n",
       "        0.01344 , 0.012879],\n",
       "       [0.00039 , 0.000503, 0.000758, 0.000363, 0.000572, 0.00024 ,\n",
       "        0.000725, 0.000607, 0.008181, 0.000189, 0.0018  , 0.004157,\n",
       "        0.004895, 0.014398, 0.001956, 0.000611, 0.000885, 0.00367 ,\n",
       "        0.00745 , 0.000519, 0.008318, 0.003509, 0.002048, 0.011336,\n",
       "        0.002668, 0.001249, 0.001722, 0.006722, 0.000709, 0.001527,\n",
       "        0.007509, 0.002929, 0.002791, 0.000236, 0.000347, 0.002554,\n",
       "        0.000188, 0.003075, 0.000909, 0.000188, 0.000969, 0.000515,\n",
       "        0.004002, 0.000212, 0.000441, 0.000143, 0.000263, 0.00091 ,\n",
       "        0.000238, 0.000724, 0.001515, 0.000689, 0.000213, 0.000927,\n",
       "        0.000288, 0.001468, 0.000443, 0.000332, 0.000612, 0.000844,\n",
       "        0.000466, 0.001845, 0.000336, 0.000898, 0.001451, 0.002142,\n",
       "        0.003634, 0.000576, 0.001653, 0.007106, 0.002302, 0.004485,\n",
       "        0.002081, 0.000284, 0.000742, 0.003065, 0.00052 , 0.034673,\n",
       "        0.001521, 0.782864, 0.002289, 0.00593 , 0.001908, 0.000564,\n",
       "        0.003995, 0.003519],\n",
       "       [0.000646, 0.000769, 0.00153 , 0.000533, 0.00098 , 0.00036 ,\n",
       "        0.002969, 0.001609, 0.043724, 0.000291, 0.007525, 0.005761,\n",
       "        0.005667, 0.020306, 0.002769, 0.001015, 0.001903, 0.005783,\n",
       "        0.01092 , 0.000765, 0.654877, 0.005993, 0.003126, 0.01214 ,\n",
       "        0.004017, 0.001907, 0.002263, 0.008458, 0.001213, 0.003815,\n",
       "        0.006012, 0.00376 , 0.004927, 0.000375, 0.000512, 0.004981,\n",
       "        0.000292, 0.003734, 0.0013  , 0.000292, 0.001528, 0.000748,\n",
       "        0.006344, 0.000328, 0.000663, 0.000218, 0.000415, 0.001588,\n",
       "        0.000367, 0.001153, 0.002436, 0.001027, 0.000329, 0.001169,\n",
       "        0.000438, 0.002129, 0.000673, 0.000511, 0.00093 , 0.001292,\n",
       "        0.000707, 0.00211 , 0.000502, 0.001286, 0.002149, 0.003223,\n",
       "        0.006366, 0.000781, 0.002507, 0.008564, 0.003183, 0.01125 ,\n",
       "        0.00337 , 0.000442, 0.001132, 0.007002, 0.000847, 0.026042,\n",
       "        0.002628, 0.01167 , 0.002143, 0.021759, 0.003865, 0.000971,\n",
       "        0.006196, 0.005204],\n",
       "       [0.001467, 0.001758, 0.003107, 0.001271, 0.002297, 0.0009  ,\n",
       "        0.002847, 0.002433, 0.011436, 0.000721, 0.007426, 0.010908,\n",
       "        0.012292, 0.02418 , 0.00848 , 0.002326, 0.003508, 0.017412,\n",
       "        0.036382, 0.00192 , 0.038559, 0.016603, 0.007954, 0.036242,\n",
       "        0.009997, 0.005024, 0.006741, 0.060258, 0.006063, 0.008422,\n",
       "        0.127678, 0.014697, 0.014207, 0.000919, 0.00126 , 0.012679,\n",
       "        0.000719, 0.013048, 0.002996, 0.000723, 0.003874, 0.001984,\n",
       "        0.019026, 0.000807, 0.001686, 0.000533, 0.000998, 0.003693,\n",
       "        0.000906, 0.002815, 0.005951, 0.00265 , 0.000814, 0.003186,\n",
       "        0.001096, 0.005921, 0.001702, 0.001244, 0.002297, 0.003305,\n",
       "        0.001824, 0.006261, 0.001301, 0.003359, 0.00561 , 0.009804,\n",
       "        0.014402, 0.00202 , 0.006474, 0.036359, 0.009686, 0.02997 ,\n",
       "        0.007765, 0.00109 , 0.002933, 0.01005 , 0.001984, 0.125309,\n",
       "        0.005771, 0.035276, 0.007217, 0.029689, 0.006425, 0.00255 ,\n",
       "        0.015205, 0.019318]])"
      ]
     },
     "execution_count": 83,
     "metadata": {},
     "output_type": "execute_result"
    }
   ],
   "source": [
    "lr.predict_proba(x_test_test_tfidf_vec)"
   ]
  },
  {
   "cell_type": "code",
   "execution_count": 89,
   "id": "50015fa7-492f-4151-a813-e4a5e7c3233c",
   "metadata": {},
   "outputs": [],
   "source": [
    "p_proba = pd.DataFrame(lr.predict_proba(x_test_test_tfidf_vec), columns=y)"
   ]
  },
  {
   "cell_type": "code",
   "execution_count": 90,
   "id": "2edad8dc-aaec-499e-8799-1a87a64a6771",
   "metadata": {
    "scrolled": true
   },
   "outputs": [
    {
     "data": {
      "text/html": [
       "<div>\n",
       "<style scoped>\n",
       "    .dataframe tbody tr th:only-of-type {\n",
       "        vertical-align: middle;\n",
       "    }\n",
       "\n",
       "    .dataframe tbody tr th {\n",
       "        vertical-align: top;\n",
       "    }\n",
       "\n",
       "    .dataframe thead th {\n",
       "        text-align: right;\n",
       "    }\n",
       "</style>\n",
       "<table border=\"1\" class=\"dataframe\">\n",
       "  <thead>\n",
       "    <tr style=\"text-align: right;\">\n",
       "      <th></th>\n",
       "      <th>8401</th>\n",
       "      <th>8402</th>\n",
       "      <th>8403</th>\n",
       "      <th>8404</th>\n",
       "      <th>8405</th>\n",
       "      <th>8406</th>\n",
       "      <th>8407</th>\n",
       "      <th>8408</th>\n",
       "      <th>8409</th>\n",
       "      <th>8410</th>\n",
       "      <th>...</th>\n",
       "      <th>8478</th>\n",
       "      <th>8479</th>\n",
       "      <th>8480</th>\n",
       "      <th>8481</th>\n",
       "      <th>8482</th>\n",
       "      <th>8483</th>\n",
       "      <th>8484</th>\n",
       "      <th>8485</th>\n",
       "      <th>8486</th>\n",
       "      <th>8487</th>\n",
       "    </tr>\n",
       "  </thead>\n",
       "  <tbody>\n",
       "    <tr>\n",
       "      <th>0</th>\n",
       "      <td>0.001502</td>\n",
       "      <td>0.001797</td>\n",
       "      <td>0.003033</td>\n",
       "      <td>0.001289</td>\n",
       "      <td>0.002297</td>\n",
       "      <td>0.000913</td>\n",
       "      <td>0.002945</td>\n",
       "      <td>0.002412</td>\n",
       "      <td>0.012621</td>\n",
       "      <td>0.000731</td>\n",
       "      <td>...</td>\n",
       "      <td>0.002063</td>\n",
       "      <td>0.103474</td>\n",
       "      <td>0.006031</td>\n",
       "      <td>0.086703</td>\n",
       "      <td>0.007524</td>\n",
       "      <td>0.031535</td>\n",
       "      <td>0.007066</td>\n",
       "      <td>0.002463</td>\n",
       "      <td>0.014205</td>\n",
       "      <td>0.012370</td>\n",
       "    </tr>\n",
       "    <tr>\n",
       "      <th>1</th>\n",
       "      <td>0.001357</td>\n",
       "      <td>0.001623</td>\n",
       "      <td>0.002625</td>\n",
       "      <td>0.001181</td>\n",
       "      <td>0.002166</td>\n",
       "      <td>0.000832</td>\n",
       "      <td>0.002722</td>\n",
       "      <td>0.002104</td>\n",
       "      <td>0.008325</td>\n",
       "      <td>0.000679</td>\n",
       "      <td>...</td>\n",
       "      <td>0.002136</td>\n",
       "      <td>0.144649</td>\n",
       "      <td>0.004970</td>\n",
       "      <td>0.030986</td>\n",
       "      <td>0.006217</td>\n",
       "      <td>0.022512</td>\n",
       "      <td>0.005753</td>\n",
       "      <td>0.002145</td>\n",
       "      <td>0.017058</td>\n",
       "      <td>0.011126</td>\n",
       "    </tr>\n",
       "    <tr>\n",
       "      <th>2</th>\n",
       "      <td>0.001099</td>\n",
       "      <td>0.001314</td>\n",
       "      <td>0.002133</td>\n",
       "      <td>0.000955</td>\n",
       "      <td>0.001549</td>\n",
       "      <td>0.000661</td>\n",
       "      <td>0.002059</td>\n",
       "      <td>0.001641</td>\n",
       "      <td>0.007015</td>\n",
       "      <td>0.000540</td>\n",
       "      <td>...</td>\n",
       "      <td>0.001431</td>\n",
       "      <td>0.124890</td>\n",
       "      <td>0.004720</td>\n",
       "      <td>0.022023</td>\n",
       "      <td>0.004380</td>\n",
       "      <td>0.014823</td>\n",
       "      <td>0.004596</td>\n",
       "      <td>0.001630</td>\n",
       "      <td>0.013083</td>\n",
       "      <td>0.013003</td>\n",
       "    </tr>\n",
       "    <tr>\n",
       "      <th>3</th>\n",
       "      <td>0.001423</td>\n",
       "      <td>0.001666</td>\n",
       "      <td>0.002985</td>\n",
       "      <td>0.001211</td>\n",
       "      <td>0.002082</td>\n",
       "      <td>0.000878</td>\n",
       "      <td>0.003005</td>\n",
       "      <td>0.002365</td>\n",
       "      <td>0.014518</td>\n",
       "      <td>0.000699</td>\n",
       "      <td>...</td>\n",
       "      <td>0.001883</td>\n",
       "      <td>0.217076</td>\n",
       "      <td>0.005502</td>\n",
       "      <td>0.029026</td>\n",
       "      <td>0.005489</td>\n",
       "      <td>0.071913</td>\n",
       "      <td>0.006576</td>\n",
       "      <td>0.001967</td>\n",
       "      <td>0.014032</td>\n",
       "      <td>0.011253</td>\n",
       "    </tr>\n",
       "    <tr>\n",
       "      <th>4</th>\n",
       "      <td>0.000741</td>\n",
       "      <td>0.000938</td>\n",
       "      <td>0.002353</td>\n",
       "      <td>0.000880</td>\n",
       "      <td>0.001211</td>\n",
       "      <td>0.000466</td>\n",
       "      <td>0.001587</td>\n",
       "      <td>0.001195</td>\n",
       "      <td>0.008343</td>\n",
       "      <td>0.000376</td>\n",
       "      <td>...</td>\n",
       "      <td>0.001040</td>\n",
       "      <td>0.061106</td>\n",
       "      <td>0.002595</td>\n",
       "      <td>0.261757</td>\n",
       "      <td>0.003373</td>\n",
       "      <td>0.009555</td>\n",
       "      <td>0.003118</td>\n",
       "      <td>0.001103</td>\n",
       "      <td>0.006584</td>\n",
       "      <td>0.005348</td>\n",
       "    </tr>\n",
       "    <tr>\n",
       "      <th>5</th>\n",
       "      <td>0.001492</td>\n",
       "      <td>0.001810</td>\n",
       "      <td>0.003104</td>\n",
       "      <td>0.001351</td>\n",
       "      <td>0.002187</td>\n",
       "      <td>0.000911</td>\n",
       "      <td>0.003145</td>\n",
       "      <td>0.002487</td>\n",
       "      <td>0.011284</td>\n",
       "      <td>0.000753</td>\n",
       "      <td>...</td>\n",
       "      <td>0.002015</td>\n",
       "      <td>0.162130</td>\n",
       "      <td>0.006627</td>\n",
       "      <td>0.049845</td>\n",
       "      <td>0.008844</td>\n",
       "      <td>0.034496</td>\n",
       "      <td>0.008279</td>\n",
       "      <td>0.002450</td>\n",
       "      <td>0.016356</td>\n",
       "      <td>0.017636</td>\n",
       "    </tr>\n",
       "    <tr>\n",
       "      <th>6</th>\n",
       "      <td>0.001274</td>\n",
       "      <td>0.001526</td>\n",
       "      <td>0.002588</td>\n",
       "      <td>0.001106</td>\n",
       "      <td>0.001859</td>\n",
       "      <td>0.000811</td>\n",
       "      <td>0.002475</td>\n",
       "      <td>0.002070</td>\n",
       "      <td>0.013070</td>\n",
       "      <td>0.000632</td>\n",
       "      <td>...</td>\n",
       "      <td>0.001943</td>\n",
       "      <td>0.165014</td>\n",
       "      <td>0.005245</td>\n",
       "      <td>0.030095</td>\n",
       "      <td>0.006911</td>\n",
       "      <td>0.195643</td>\n",
       "      <td>0.007693</td>\n",
       "      <td>0.002069</td>\n",
       "      <td>0.011302</td>\n",
       "      <td>0.013537</td>\n",
       "    </tr>\n",
       "    <tr>\n",
       "      <th>7</th>\n",
       "      <td>0.001636</td>\n",
       "      <td>0.002001</td>\n",
       "      <td>0.003442</td>\n",
       "      <td>0.001476</td>\n",
       "      <td>0.002275</td>\n",
       "      <td>0.000944</td>\n",
       "      <td>0.002923</td>\n",
       "      <td>0.002423</td>\n",
       "      <td>0.011842</td>\n",
       "      <td>0.000758</td>\n",
       "      <td>...</td>\n",
       "      <td>0.002337</td>\n",
       "      <td>0.160371</td>\n",
       "      <td>0.006612</td>\n",
       "      <td>0.032167</td>\n",
       "      <td>0.007625</td>\n",
       "      <td>0.026713</td>\n",
       "      <td>0.006888</td>\n",
       "      <td>0.002285</td>\n",
       "      <td>0.017261</td>\n",
       "      <td>0.017796</td>\n",
       "    </tr>\n",
       "    <tr>\n",
       "      <th>8</th>\n",
       "      <td>0.001333</td>\n",
       "      <td>0.001616</td>\n",
       "      <td>0.004804</td>\n",
       "      <td>0.001224</td>\n",
       "      <td>0.001977</td>\n",
       "      <td>0.000864</td>\n",
       "      <td>0.002559</td>\n",
       "      <td>0.002081</td>\n",
       "      <td>0.017453</td>\n",
       "      <td>0.000664</td>\n",
       "      <td>...</td>\n",
       "      <td>0.001950</td>\n",
       "      <td>0.078342</td>\n",
       "      <td>0.005794</td>\n",
       "      <td>0.076256</td>\n",
       "      <td>0.005187</td>\n",
       "      <td>0.170000</td>\n",
       "      <td>0.006733</td>\n",
       "      <td>0.001911</td>\n",
       "      <td>0.011061</td>\n",
       "      <td>0.045822</td>\n",
       "    </tr>\n",
       "    <tr>\n",
       "      <th>9</th>\n",
       "      <td>0.001450</td>\n",
       "      <td>0.001866</td>\n",
       "      <td>0.002853</td>\n",
       "      <td>0.001287</td>\n",
       "      <td>0.002113</td>\n",
       "      <td>0.000910</td>\n",
       "      <td>0.003114</td>\n",
       "      <td>0.002346</td>\n",
       "      <td>0.011591</td>\n",
       "      <td>0.000709</td>\n",
       "      <td>...</td>\n",
       "      <td>0.001943</td>\n",
       "      <td>0.158715</td>\n",
       "      <td>0.005840</td>\n",
       "      <td>0.068922</td>\n",
       "      <td>0.007219</td>\n",
       "      <td>0.020358</td>\n",
       "      <td>0.006729</td>\n",
       "      <td>0.002337</td>\n",
       "      <td>0.014873</td>\n",
       "      <td>0.011757</td>\n",
       "    </tr>\n",
       "    <tr>\n",
       "      <th>10</th>\n",
       "      <td>0.001312</td>\n",
       "      <td>0.001488</td>\n",
       "      <td>0.002466</td>\n",
       "      <td>0.001084</td>\n",
       "      <td>0.001832</td>\n",
       "      <td>0.000765</td>\n",
       "      <td>0.002382</td>\n",
       "      <td>0.001961</td>\n",
       "      <td>0.010617</td>\n",
       "      <td>0.000614</td>\n",
       "      <td>...</td>\n",
       "      <td>0.001729</td>\n",
       "      <td>0.106204</td>\n",
       "      <td>0.004791</td>\n",
       "      <td>0.027321</td>\n",
       "      <td>0.008165</td>\n",
       "      <td>0.028448</td>\n",
       "      <td>0.005485</td>\n",
       "      <td>0.001778</td>\n",
       "      <td>0.012129</td>\n",
       "      <td>0.012519</td>\n",
       "    </tr>\n",
       "    <tr>\n",
       "      <th>11</th>\n",
       "      <td>0.001479</td>\n",
       "      <td>0.001796</td>\n",
       "      <td>0.003069</td>\n",
       "      <td>0.001296</td>\n",
       "      <td>0.002326</td>\n",
       "      <td>0.000913</td>\n",
       "      <td>0.002877</td>\n",
       "      <td>0.002483</td>\n",
       "      <td>0.011166</td>\n",
       "      <td>0.000735</td>\n",
       "      <td>...</td>\n",
       "      <td>0.002135</td>\n",
       "      <td>0.117175</td>\n",
       "      <td>0.006015</td>\n",
       "      <td>0.038213</td>\n",
       "      <td>0.007195</td>\n",
       "      <td>0.027424</td>\n",
       "      <td>0.006717</td>\n",
       "      <td>0.002138</td>\n",
       "      <td>0.016037</td>\n",
       "      <td>0.013193</td>\n",
       "    </tr>\n",
       "    <tr>\n",
       "      <th>12</th>\n",
       "      <td>0.000748</td>\n",
       "      <td>0.000929</td>\n",
       "      <td>0.001483</td>\n",
       "      <td>0.000658</td>\n",
       "      <td>0.001205</td>\n",
       "      <td>0.000461</td>\n",
       "      <td>0.001477</td>\n",
       "      <td>0.001232</td>\n",
       "      <td>0.006437</td>\n",
       "      <td>0.000373</td>\n",
       "      <td>...</td>\n",
       "      <td>0.001044</td>\n",
       "      <td>0.040166</td>\n",
       "      <td>0.002928</td>\n",
       "      <td>0.016488</td>\n",
       "      <td>0.003732</td>\n",
       "      <td>0.014603</td>\n",
       "      <td>0.003391</td>\n",
       "      <td>0.001155</td>\n",
       "      <td>0.010131</td>\n",
       "      <td>0.005634</td>\n",
       "    </tr>\n",
       "    <tr>\n",
       "      <th>13</th>\n",
       "      <td>0.001583</td>\n",
       "      <td>0.001960</td>\n",
       "      <td>0.003206</td>\n",
       "      <td>0.001404</td>\n",
       "      <td>0.002472</td>\n",
       "      <td>0.000976</td>\n",
       "      <td>0.003056</td>\n",
       "      <td>0.002518</td>\n",
       "      <td>0.013488</td>\n",
       "      <td>0.000775</td>\n",
       "      <td>...</td>\n",
       "      <td>0.002283</td>\n",
       "      <td>0.168567</td>\n",
       "      <td>0.006244</td>\n",
       "      <td>0.045307</td>\n",
       "      <td>0.007873</td>\n",
       "      <td>0.032021</td>\n",
       "      <td>0.007263</td>\n",
       "      <td>0.002265</td>\n",
       "      <td>0.016017</td>\n",
       "      <td>0.012418</td>\n",
       "    </tr>\n",
       "    <tr>\n",
       "      <th>14</th>\n",
       "      <td>0.001599</td>\n",
       "      <td>0.001914</td>\n",
       "      <td>0.003256</td>\n",
       "      <td>0.001371</td>\n",
       "      <td>0.002294</td>\n",
       "      <td>0.000970</td>\n",
       "      <td>0.003139</td>\n",
       "      <td>0.002571</td>\n",
       "      <td>0.013504</td>\n",
       "      <td>0.000776</td>\n",
       "      <td>...</td>\n",
       "      <td>0.002201</td>\n",
       "      <td>0.143173</td>\n",
       "      <td>0.006449</td>\n",
       "      <td>0.040529</td>\n",
       "      <td>0.009402</td>\n",
       "      <td>0.039460</td>\n",
       "      <td>0.007650</td>\n",
       "      <td>0.002663</td>\n",
       "      <td>0.071504</td>\n",
       "      <td>0.014750</td>\n",
       "    </tr>\n",
       "    <tr>\n",
       "      <th>15</th>\n",
       "      <td>0.000954</td>\n",
       "      <td>0.001144</td>\n",
       "      <td>0.002076</td>\n",
       "      <td>0.000833</td>\n",
       "      <td>0.001333</td>\n",
       "      <td>0.000622</td>\n",
       "      <td>0.001723</td>\n",
       "      <td>0.001437</td>\n",
       "      <td>0.006934</td>\n",
       "      <td>0.000485</td>\n",
       "      <td>...</td>\n",
       "      <td>0.001467</td>\n",
       "      <td>0.452035</td>\n",
       "      <td>0.004901</td>\n",
       "      <td>0.037902</td>\n",
       "      <td>0.004401</td>\n",
       "      <td>0.019982</td>\n",
       "      <td>0.006249</td>\n",
       "      <td>0.001557</td>\n",
       "      <td>0.007664</td>\n",
       "      <td>0.011202</td>\n",
       "    </tr>\n",
       "    <tr>\n",
       "      <th>16</th>\n",
       "      <td>0.001238</td>\n",
       "      <td>0.001503</td>\n",
       "      <td>0.002603</td>\n",
       "      <td>0.001080</td>\n",
       "      <td>0.001823</td>\n",
       "      <td>0.000760</td>\n",
       "      <td>0.002690</td>\n",
       "      <td>0.001958</td>\n",
       "      <td>0.011017</td>\n",
       "      <td>0.000617</td>\n",
       "      <td>...</td>\n",
       "      <td>0.001695</td>\n",
       "      <td>0.171098</td>\n",
       "      <td>0.005048</td>\n",
       "      <td>0.037882</td>\n",
       "      <td>0.005628</td>\n",
       "      <td>0.025896</td>\n",
       "      <td>0.005345</td>\n",
       "      <td>0.001936</td>\n",
       "      <td>0.013440</td>\n",
       "      <td>0.012879</td>\n",
       "    </tr>\n",
       "    <tr>\n",
       "      <th>17</th>\n",
       "      <td>0.000390</td>\n",
       "      <td>0.000503</td>\n",
       "      <td>0.000758</td>\n",
       "      <td>0.000363</td>\n",
       "      <td>0.000572</td>\n",
       "      <td>0.000240</td>\n",
       "      <td>0.000725</td>\n",
       "      <td>0.000607</td>\n",
       "      <td>0.008181</td>\n",
       "      <td>0.000189</td>\n",
       "      <td>...</td>\n",
       "      <td>0.000520</td>\n",
       "      <td>0.034673</td>\n",
       "      <td>0.001521</td>\n",
       "      <td>0.782864</td>\n",
       "      <td>0.002289</td>\n",
       "      <td>0.005930</td>\n",
       "      <td>0.001908</td>\n",
       "      <td>0.000564</td>\n",
       "      <td>0.003995</td>\n",
       "      <td>0.003519</td>\n",
       "    </tr>\n",
       "    <tr>\n",
       "      <th>18</th>\n",
       "      <td>0.000646</td>\n",
       "      <td>0.000769</td>\n",
       "      <td>0.001530</td>\n",
       "      <td>0.000533</td>\n",
       "      <td>0.000980</td>\n",
       "      <td>0.000360</td>\n",
       "      <td>0.002969</td>\n",
       "      <td>0.001609</td>\n",
       "      <td>0.043724</td>\n",
       "      <td>0.000291</td>\n",
       "      <td>...</td>\n",
       "      <td>0.000847</td>\n",
       "      <td>0.026042</td>\n",
       "      <td>0.002628</td>\n",
       "      <td>0.011670</td>\n",
       "      <td>0.002143</td>\n",
       "      <td>0.021759</td>\n",
       "      <td>0.003865</td>\n",
       "      <td>0.000971</td>\n",
       "      <td>0.006196</td>\n",
       "      <td>0.005204</td>\n",
       "    </tr>\n",
       "    <tr>\n",
       "      <th>19</th>\n",
       "      <td>0.001467</td>\n",
       "      <td>0.001758</td>\n",
       "      <td>0.003107</td>\n",
       "      <td>0.001271</td>\n",
       "      <td>0.002297</td>\n",
       "      <td>0.000900</td>\n",
       "      <td>0.002847</td>\n",
       "      <td>0.002433</td>\n",
       "      <td>0.011436</td>\n",
       "      <td>0.000721</td>\n",
       "      <td>...</td>\n",
       "      <td>0.001984</td>\n",
       "      <td>0.125309</td>\n",
       "      <td>0.005771</td>\n",
       "      <td>0.035276</td>\n",
       "      <td>0.007217</td>\n",
       "      <td>0.029689</td>\n",
       "      <td>0.006425</td>\n",
       "      <td>0.002550</td>\n",
       "      <td>0.015205</td>\n",
       "      <td>0.019318</td>\n",
       "    </tr>\n",
       "  </tbody>\n",
       "</table>\n",
       "<p>20 rows × 86 columns</p>\n",
       "</div>"
      ],
      "text/plain": [
       "        8401      8402      8403      8404      8405      8406      8407  \\\n",
       "0   0.001502  0.001797  0.003033  0.001289  0.002297  0.000913  0.002945   \n",
       "1   0.001357  0.001623  0.002625  0.001181  0.002166  0.000832  0.002722   \n",
       "2   0.001099  0.001314  0.002133  0.000955  0.001549  0.000661  0.002059   \n",
       "3   0.001423  0.001666  0.002985  0.001211  0.002082  0.000878  0.003005   \n",
       "4   0.000741  0.000938  0.002353  0.000880  0.001211  0.000466  0.001587   \n",
       "5   0.001492  0.001810  0.003104  0.001351  0.002187  0.000911  0.003145   \n",
       "6   0.001274  0.001526  0.002588  0.001106  0.001859  0.000811  0.002475   \n",
       "7   0.001636  0.002001  0.003442  0.001476  0.002275  0.000944  0.002923   \n",
       "8   0.001333  0.001616  0.004804  0.001224  0.001977  0.000864  0.002559   \n",
       "9   0.001450  0.001866  0.002853  0.001287  0.002113  0.000910  0.003114   \n",
       "10  0.001312  0.001488  0.002466  0.001084  0.001832  0.000765  0.002382   \n",
       "11  0.001479  0.001796  0.003069  0.001296  0.002326  0.000913  0.002877   \n",
       "12  0.000748  0.000929  0.001483  0.000658  0.001205  0.000461  0.001477   \n",
       "13  0.001583  0.001960  0.003206  0.001404  0.002472  0.000976  0.003056   \n",
       "14  0.001599  0.001914  0.003256  0.001371  0.002294  0.000970  0.003139   \n",
       "15  0.000954  0.001144  0.002076  0.000833  0.001333  0.000622  0.001723   \n",
       "16  0.001238  0.001503  0.002603  0.001080  0.001823  0.000760  0.002690   \n",
       "17  0.000390  0.000503  0.000758  0.000363  0.000572  0.000240  0.000725   \n",
       "18  0.000646  0.000769  0.001530  0.000533  0.000980  0.000360  0.002969   \n",
       "19  0.001467  0.001758  0.003107  0.001271  0.002297  0.000900  0.002847   \n",
       "\n",
       "        8408      8409      8410  ...      8478      8479      8480      8481  \\\n",
       "0   0.002412  0.012621  0.000731  ...  0.002063  0.103474  0.006031  0.086703   \n",
       "1   0.002104  0.008325  0.000679  ...  0.002136  0.144649  0.004970  0.030986   \n",
       "2   0.001641  0.007015  0.000540  ...  0.001431  0.124890  0.004720  0.022023   \n",
       "3   0.002365  0.014518  0.000699  ...  0.001883  0.217076  0.005502  0.029026   \n",
       "4   0.001195  0.008343  0.000376  ...  0.001040  0.061106  0.002595  0.261757   \n",
       "5   0.002487  0.011284  0.000753  ...  0.002015  0.162130  0.006627  0.049845   \n",
       "6   0.002070  0.013070  0.000632  ...  0.001943  0.165014  0.005245  0.030095   \n",
       "7   0.002423  0.011842  0.000758  ...  0.002337  0.160371  0.006612  0.032167   \n",
       "8   0.002081  0.017453  0.000664  ...  0.001950  0.078342  0.005794  0.076256   \n",
       "9   0.002346  0.011591  0.000709  ...  0.001943  0.158715  0.005840  0.068922   \n",
       "10  0.001961  0.010617  0.000614  ...  0.001729  0.106204  0.004791  0.027321   \n",
       "11  0.002483  0.011166  0.000735  ...  0.002135  0.117175  0.006015  0.038213   \n",
       "12  0.001232  0.006437  0.000373  ...  0.001044  0.040166  0.002928  0.016488   \n",
       "13  0.002518  0.013488  0.000775  ...  0.002283  0.168567  0.006244  0.045307   \n",
       "14  0.002571  0.013504  0.000776  ...  0.002201  0.143173  0.006449  0.040529   \n",
       "15  0.001437  0.006934  0.000485  ...  0.001467  0.452035  0.004901  0.037902   \n",
       "16  0.001958  0.011017  0.000617  ...  0.001695  0.171098  0.005048  0.037882   \n",
       "17  0.000607  0.008181  0.000189  ...  0.000520  0.034673  0.001521  0.782864   \n",
       "18  0.001609  0.043724  0.000291  ...  0.000847  0.026042  0.002628  0.011670   \n",
       "19  0.002433  0.011436  0.000721  ...  0.001984  0.125309  0.005771  0.035276   \n",
       "\n",
       "        8482      8483      8484      8485      8486      8487  \n",
       "0   0.007524  0.031535  0.007066  0.002463  0.014205  0.012370  \n",
       "1   0.006217  0.022512  0.005753  0.002145  0.017058  0.011126  \n",
       "2   0.004380  0.014823  0.004596  0.001630  0.013083  0.013003  \n",
       "3   0.005489  0.071913  0.006576  0.001967  0.014032  0.011253  \n",
       "4   0.003373  0.009555  0.003118  0.001103  0.006584  0.005348  \n",
       "5   0.008844  0.034496  0.008279  0.002450  0.016356  0.017636  \n",
       "6   0.006911  0.195643  0.007693  0.002069  0.011302  0.013537  \n",
       "7   0.007625  0.026713  0.006888  0.002285  0.017261  0.017796  \n",
       "8   0.005187  0.170000  0.006733  0.001911  0.011061  0.045822  \n",
       "9   0.007219  0.020358  0.006729  0.002337  0.014873  0.011757  \n",
       "10  0.008165  0.028448  0.005485  0.001778  0.012129  0.012519  \n",
       "11  0.007195  0.027424  0.006717  0.002138  0.016037  0.013193  \n",
       "12  0.003732  0.014603  0.003391  0.001155  0.010131  0.005634  \n",
       "13  0.007873  0.032021  0.007263  0.002265  0.016017  0.012418  \n",
       "14  0.009402  0.039460  0.007650  0.002663  0.071504  0.014750  \n",
       "15  0.004401  0.019982  0.006249  0.001557  0.007664  0.011202  \n",
       "16  0.005628  0.025896  0.005345  0.001936  0.013440  0.012879  \n",
       "17  0.002289  0.005930  0.001908  0.000564  0.003995  0.003519  \n",
       "18  0.002143  0.021759  0.003865  0.000971  0.006196  0.005204  \n",
       "19  0.007217  0.029689  0.006425  0.002550  0.015205  0.019318  \n",
       "\n",
       "[20 rows x 86 columns]"
      ]
     },
     "execution_count": 90,
     "metadata": {},
     "output_type": "execute_result"
    }
   ],
   "source": [
    "p_proba"
   ]
  },
  {
   "cell_type": "code",
   "execution_count": 91,
   "id": "18c00b8c-36b6-4549-8470-a12f4147b4de",
   "metadata": {},
   "outputs": [],
   "source": [
    "p_proba.to_excel('84_predict_proba.xlsx')"
   ]
  },
  {
   "cell_type": "code",
   "execution_count": 100,
   "id": "62eef2c3-e764-49fa-a191-85596c72f7fe",
   "metadata": {},
   "outputs": [
    {
     "data": {
      "text/plain": [
       "array([8481, 8470, 8428, 8445, 8415, 8424, 8482, 8462, 8466, 8414, 8427,\n",
       "       8421, 8473, 8419, 8479, 8422, 8431, 8481, 8421, 8431], dtype=int64)"
      ]
     },
     "execution_count": 100,
     "metadata": {},
     "output_type": "execute_result"
    }
   ],
   "source": [
    "test['hs code'].values"
   ]
  },
  {
   "cell_type": "code",
   "execution_count": 97,
   "id": "d03e94a0-ebee-4b69-ad92-28a5c2c4279c",
   "metadata": {},
   "outputs": [
    {
     "data": {
      "text/plain": [
       "8422    0.115029\n",
       "8479    0.103474\n",
       "8481    0.086703\n",
       "Name: 0, dtype: float64"
      ]
     },
     "execution_count": 97,
     "metadata": {},
     "output_type": "execute_result"
    }
   ],
   "source": [
    "# 8481\n",
    "p_proba.iloc[0].sort_values(ascending=False)[:3]"
   ]
  },
  {
   "cell_type": "code",
   "execution_count": 98,
   "id": "280c1edb-c812-4c5b-b271-a13890ea5871",
   "metadata": {},
   "outputs": [
    {
     "data": {
      "text/plain": [
       "8479    0.144649\n",
       "8467    0.110955\n",
       "8473    0.070153\n",
       "Name: 1, dtype: float64"
      ]
     },
     "execution_count": 98,
     "metadata": {},
     "output_type": "execute_result"
    }
   ],
   "source": [
    "# 8470\n",
    "p_proba.iloc[1].sort_values(ascending=False)[:3]"
   ]
  },
  {
   "cell_type": "code",
   "execution_count": 101,
   "id": "4d5a69fe-57b8-4335-bac0-33c0d2080a49",
   "metadata": {},
   "outputs": [
    {
     "data": {
      "text/plain": [
       "8428    0.231833\n",
       "8431    0.132374\n",
       "8479    0.124890\n",
       "Name: 2, dtype: float64"
      ]
     },
     "execution_count": 101,
     "metadata": {},
     "output_type": "execute_result"
    }
   ],
   "source": [
    "# 8428\n",
    "p_proba.iloc[2].sort_values(ascending=False)[:3]"
   ]
  },
  {
   "cell_type": "code",
   "execution_count": 102,
   "id": "cc13732e-36aa-4bd1-a2a2-5b4dab3b7c65",
   "metadata": {},
   "outputs": [
    {
     "data": {
      "text/plain": [
       "8479    0.217076\n",
       "8483    0.071913\n",
       "8414    0.057761\n",
       "Name: 3, dtype: float64"
      ]
     },
     "execution_count": 102,
     "metadata": {},
     "output_type": "execute_result"
    }
   ],
   "source": [
    "# 8445\n",
    "p_proba.iloc[3].sort_values(ascending=False)[:3]"
   ]
  },
  {
   "cell_type": "code",
   "execution_count": 103,
   "id": "b4841468-2c87-4e03-ae4f-1065f8fe017a",
   "metadata": {},
   "outputs": [
    {
     "data": {
      "text/plain": [
       "8481    0.261757\n",
       "8419    0.218855\n",
       "8414    0.088995\n",
       "Name: 4, dtype: float64"
      ]
     },
     "execution_count": 103,
     "metadata": {},
     "output_type": "execute_result"
    }
   ],
   "source": [
    "# 8415\n",
    "p_proba.iloc[4].sort_values(ascending=False)[:3]"
   ]
  },
  {
   "cell_type": "code",
   "execution_count": 106,
   "id": "edd69fb5-30fb-4280-95ac-3d5555f71d6e",
   "metadata": {},
   "outputs": [
    {
     "data": {
      "text/plain": [
       "8479    0.162130\n",
       "8471    0.064392\n",
       "8431    0.054702\n",
       "Name: 5, dtype: float64"
      ]
     },
     "execution_count": 106,
     "metadata": {},
     "output_type": "execute_result"
    }
   ],
   "source": [
    "# 8424\n",
    "p_proba.iloc[5].sort_values(ascending=False)[:3]"
   ]
  },
  {
   "cell_type": "code",
   "execution_count": 107,
   "id": "2813e92c-70d5-427c-a383-d64a89b8ae4e",
   "metadata": {},
   "outputs": [
    {
     "data": {
      "text/plain": [
       "8483    0.195643\n",
       "8479    0.165014\n",
       "8473    0.049865\n",
       "Name: 6, dtype: float64"
      ]
     },
     "execution_count": 107,
     "metadata": {},
     "output_type": "execute_result"
    }
   ],
   "source": [
    "# 8482\n",
    "p_proba.iloc[6].sort_values(ascending=False)[:3]"
   ]
  },
  {
   "cell_type": "code",
   "execution_count": 108,
   "id": "cc49fd57-b139-4e99-bb89-e0d648a066e9",
   "metadata": {},
   "outputs": [
    {
     "data": {
      "text/plain": [
       "8479    0.160371\n",
       "8424    0.071423\n",
       "8419    0.057592\n",
       "Name: 7, dtype: float64"
      ]
     },
     "execution_count": 108,
     "metadata": {},
     "output_type": "execute_result"
    }
   ],
   "source": [
    "# 8462\n",
    "p_proba.iloc[7].sort_values(ascending=False)[:3]"
   ]
  },
  {
   "cell_type": "code",
   "execution_count": 109,
   "id": "e66bb44b-9c89-4265-a684-9e564d5e68d5",
   "metadata": {},
   "outputs": [
    {
     "data": {
      "text/plain": [
       "8483    0.170000\n",
       "8479    0.078342\n",
       "8481    0.076256\n",
       "Name: 8, dtype: float64"
      ]
     },
     "execution_count": 109,
     "metadata": {},
     "output_type": "execute_result"
    }
   ],
   "source": [
    "# 8466\n",
    "p_proba.iloc[8].sort_values(ascending=False)[:3]"
   ]
  },
  {
   "cell_type": "code",
   "execution_count": 110,
   "id": "d6bbc84a-3774-497d-bce6-c18054aecdaa",
   "metadata": {},
   "outputs": [
    {
     "data": {
      "text/plain": [
       "8479    0.158715\n",
       "8414    0.091120\n",
       "8481    0.068922\n",
       "Name: 9, dtype: float64"
      ]
     },
     "execution_count": 110,
     "metadata": {},
     "output_type": "execute_result"
    }
   ],
   "source": [
    "# 8414\n",
    "p_proba.iloc[9].sort_values(ascending=False)[:3]"
   ]
  },
  {
   "cell_type": "code",
   "execution_count": 111,
   "id": "f94a2bf0-6658-4a7e-a867-c256088874f6",
   "metadata": {},
   "outputs": [
    {
     "data": {
      "text/plain": [
       "8428    0.190686\n",
       "8431    0.133357\n",
       "8479    0.106204\n",
       "Name: 10, dtype: float64"
      ]
     },
     "execution_count": 111,
     "metadata": {},
     "output_type": "execute_result"
    }
   ],
   "source": [
    "# 8427\n",
    "p_proba.iloc[10].sort_values(ascending=False)[:3]"
   ]
  },
  {
   "cell_type": "code",
   "execution_count": 112,
   "id": "1d6c7196-207d-472d-9a23-ea4013d124f8",
   "metadata": {},
   "outputs": [
    {
     "data": {
      "text/plain": [
       "8479    0.117175\n",
       "8419    0.089798\n",
       "8471    0.076927\n",
       "Name: 11, dtype: float64"
      ]
     },
     "execution_count": 112,
     "metadata": {},
     "output_type": "execute_result"
    }
   ],
   "source": [
    "# 8421\n",
    "p_proba.iloc[11].sort_values(ascending=False)[:3]"
   ]
  },
  {
   "cell_type": "code",
   "execution_count": 113,
   "id": "2840e723-6ef3-4c60-bc13-272d170dba2d",
   "metadata": {},
   "outputs": [
    {
     "data": {
      "text/plain": [
       "8471    0.565402\n",
       "8473    0.052800\n",
       "8479    0.040166\n",
       "Name: 12, dtype: float64"
      ]
     },
     "execution_count": 113,
     "metadata": {},
     "output_type": "execute_result"
    }
   ],
   "source": [
    "# 8473\n",
    "p_proba.iloc[12].sort_values(ascending=False)[:3]"
   ]
  },
  {
   "cell_type": "code",
   "execution_count": 114,
   "id": "5851d9e1-9a1a-4ee3-8d85-70496e13b674",
   "metadata": {},
   "outputs": [
    {
     "data": {
      "text/plain": [
       "8479    0.168567\n",
       "8481    0.045307\n",
       "8419    0.041525\n",
       "Name: 13, dtype: float64"
      ]
     },
     "execution_count": 114,
     "metadata": {},
     "output_type": "execute_result"
    }
   ],
   "source": [
    "# 8419\n",
    "p_proba.iloc[13].sort_values(ascending=False)[:3]"
   ]
  },
  {
   "cell_type": "code",
   "execution_count": 115,
   "id": "6ada200e-bac8-4720-99c8-b6731623bf44",
   "metadata": {},
   "outputs": [
    {
     "data": {
      "text/plain": [
       "8479    0.143173\n",
       "8486    0.071504\n",
       "8421    0.041836\n",
       "Name: 14, dtype: float64"
      ]
     },
     "execution_count": 115,
     "metadata": {},
     "output_type": "execute_result"
    }
   ],
   "source": [
    "# 8479\n",
    "p_proba.iloc[14].sort_values(ascending=False)[:3]"
   ]
  },
  {
   "cell_type": "code",
   "execution_count": 116,
   "id": "91ee72e4-f7bf-49a3-9775-2c946a4754b0",
   "metadata": {},
   "outputs": [
    {
     "data": {
      "text/plain": [
       "8479    0.452035\n",
       "8472    0.042467\n",
       "8481    0.037902\n",
       "Name: 15, dtype: float64"
      ]
     },
     "execution_count": 116,
     "metadata": {},
     "output_type": "execute_result"
    }
   ],
   "source": [
    "# 8422\n",
    "p_proba.iloc[15].sort_values(ascending=False)[:3]"
   ]
  },
  {
   "cell_type": "code",
   "execution_count": 117,
   "id": "4b34c924-c805-4171-aead-f4390d83a6c9",
   "metadata": {},
   "outputs": [
    {
     "data": {
      "text/plain": [
       "8479    0.171098\n",
       "8428    0.166648\n",
       "8431    0.094915\n",
       "Name: 16, dtype: float64"
      ]
     },
     "execution_count": 117,
     "metadata": {},
     "output_type": "execute_result"
    }
   ],
   "source": [
    "# 8431\n",
    "p_proba.iloc[16].sort_values(ascending=False)[:3]"
   ]
  },
  {
   "cell_type": "code",
   "execution_count": 12,
   "id": "ebf2a6ca-0a6e-4806-905c-4997a40f381b",
   "metadata": {},
   "outputs": [
    {
     "name": "stdout",
     "output_type": "stream",
     "text": [
      "정확도: 0.812\n",
      "정밀도: 0.908\n",
      "재현율: 0.812\n"
     ]
    },
    {
     "name": "stderr",
     "output_type": "stream",
     "text": [
      "C:\\Users\\user\\anaconda3\\Lib\\site-packages\\sklearn\\metrics\\_classification.py:1344: UndefinedMetricWarning: Precision is ill-defined and being set to 0.0 in labels with no predicted samples. Use `zero_division` parameter to control this behavior.\n",
      "  _warn_prf(average, modifier, msg_start, len(result))\n"
     ]
    }
   ],
   "source": [
    "from sklearn.svm import SVC\n",
    "from sklearn.metrics import accuracy_score, precision_score, recall_score\n",
    "\n",
    "sv = SVC(kernel='poly', C=3)\n",
    "sv.fit(x_train_tfidf_vec,y_train)\n",
    "\n",
    "y_hat = sv.predict(x_test_tfidf_vec)\n",
    "\n",
    "print(f'정확도: {accuracy_score(y_test, y_hat):.3f}')\n",
    "print(f'정밀도: {precision_score(y_test, y_hat, average=\"weighted\"):.3f}')\n",
    "print(f'재현율: {recall_score(y_test, y_hat, average=\"weighted\"):.3f}')"
   ]
  },
  {
   "cell_type": "code",
   "execution_count": 19,
   "id": "08ce42fe-65ff-429f-a4a9-cd115df2dbbc",
   "metadata": {},
   "outputs": [
    {
     "name": "stdout",
     "output_type": "stream",
     "text": [
      "정확도: 0.812\n",
      "정밀도: 0.908\n",
      "재현율: 0.812\n"
     ]
    },
    {
     "name": "stderr",
     "output_type": "stream",
     "text": [
      "C:\\Users\\user\\anaconda3\\Lib\\site-packages\\sklearn\\metrics\\_classification.py:1344: UndefinedMetricWarning: Precision is ill-defined and being set to 0.0 in labels with no predicted samples. Use `zero_division` parameter to control this behavior.\n",
      "  _warn_prf(average, modifier, msg_start, len(result))\n"
     ]
    }
   ],
   "source": [
    "from sklearn.multiclass import OneVsRestClassifier\n",
    "\n",
    "ovr_clf = OneVsRestClassifier(SVC())\n",
    "ovr_clf.fit(x_train_tfidf_vec,y_train)\n",
    "y_hat = sv.predict(x_test_tfidf_vec)\n",
    "\n",
    "print(f'정확도: {accuracy_score(y_test, y_hat):.3f}')\n",
    "print(f'정밀도: {precision_score(y_test, y_hat, average=\"weighted\"):.3f}')\n",
    "print(f'재현율: {recall_score(y_test, y_hat, average=\"weighted\"):.3f}')"
   ]
  },
  {
   "cell_type": "code",
   "execution_count": 20,
   "id": "b25b3f7e-056f-44d5-b112-0defa58ead66",
   "metadata": {},
   "outputs": [
    {
     "data": {
      "text/plain": [
       "array([8422, 8467, 8428, 8479, 8419, 8471, 8483, 8479, 8483, 8414, 8428,\n",
       "       8419, 8471, 8479, 8486, 8479, 8428, 8481, 8421, 8431])"
      ]
     },
     "execution_count": 20,
     "metadata": {},
     "output_type": "execute_result"
    }
   ],
   "source": [
    "y_real_hat = ovr_clf.predict(x_test_test_tfidf_vec)\n",
    "\n",
    "y_real_hat"
   ]
  },
  {
   "cell_type": "code",
   "execution_count": 17,
   "id": "05134313-ce96-4ebf-a682-fe22d1b80b84",
   "metadata": {},
   "outputs": [
    {
     "data": {
      "text/plain": [
       "array([8481, 8470, 8428, 8445, 8415, 8424, 8482, 8462, 8466, 8414, 8427,\n",
       "       8421, 8473, 8419, 8479, 8422, 8431, 8481, 8421, 8431], dtype=int64)"
      ]
     },
     "execution_count": 17,
     "metadata": {},
     "output_type": "execute_result"
    }
   ],
   "source": [
    "test['hs code'].values"
   ]
  },
  {
   "cell_type": "code",
   "execution_count": 21,
   "id": "4fae0c4f-a488-499e-8637-1f02333f1731",
   "metadata": {},
   "outputs": [
    {
     "data": {
      "text/html": [
       "<div>\n",
       "<style scoped>\n",
       "    .dataframe tbody tr th:only-of-type {\n",
       "        vertical-align: middle;\n",
       "    }\n",
       "\n",
       "    .dataframe tbody tr th {\n",
       "        vertical-align: top;\n",
       "    }\n",
       "\n",
       "    .dataframe thead th {\n",
       "        text-align: right;\n",
       "    }\n",
       "</style>\n",
       "<table border=\"1\" class=\"dataframe\">\n",
       "  <thead>\n",
       "    <tr style=\"text-align: right;\">\n",
       "      <th></th>\n",
       "      <th>hs code</th>\n",
       "      <th>description</th>\n",
       "    </tr>\n",
       "  </thead>\n",
       "  <tbody>\n",
       "    <tr>\n",
       "      <th>0</th>\n",
       "      <td>8479</td>\n",
       "      <td>ELECTRIC,MOTOR VEHICLE PARTS, undertow. electr...</td>\n",
       "    </tr>\n",
       "    <tr>\n",
       "      <th>1</th>\n",
       "      <td>8486</td>\n",
       "      <td>SECTIONS,FOR SEMICONDUCTOR PRODUCTION,CABLES u...</td>\n",
       "    </tr>\n",
       "    <tr>\n",
       "      <th>2</th>\n",
       "      <td>8473</td>\n",
       "      <td>PORTABLE,TRIVETS,CENTRIFUGAL FANS,NOTEBOOK COM...</td>\n",
       "    </tr>\n",
       "    <tr>\n",
       "      <th>3</th>\n",
       "      <td>8486</td>\n",
       "      <td>SECTIONS,OF STEEL,FOR SEMICONDUCTOR PRODUCTION...</td>\n",
       "    </tr>\n",
       "    <tr>\n",
       "      <th>4</th>\n",
       "      <td>8462</td>\n",
       "      <td>MONTREUIL BENDING DIGITAL CONTROL FOR PERFORMI...</td>\n",
       "    </tr>\n",
       "    <tr>\n",
       "      <th>5</th>\n",
       "      <td>8467</td>\n",
       "      <td>SAWS,FOR WORKING IN THE HAND,WITH ELECTRIC MOT...</td>\n",
       "    </tr>\n",
       "    <tr>\n",
       "      <th>6</th>\n",
       "      <td>8471</td>\n",
       "      <td>ADAPTERS,PRINTED CIRCUITS,CONNECTIONS,COMPUTER...</td>\n",
       "    </tr>\n",
       "    <tr>\n",
       "      <th>7</th>\n",
       "      <td>8471</td>\n",
       "      <td>PRINTED CIRCUITS,CONNECTIONS,COMPUTER INTERFAC...</td>\n",
       "    </tr>\n",
       "    <tr>\n",
       "      <th>8</th>\n",
       "      <td>8467</td>\n",
       "      <td>SANDERS,WITH ELECTRIC MOTOR,FOR WORKING IN THE...</td>\n",
       "    </tr>\n",
       "    <tr>\n",
       "      <th>9</th>\n",
       "      <td>8467</td>\n",
       "      <td>SAWS,FOR WORKING IN THE HAND,WITH ELECTRIC MOT...</td>\n",
       "    </tr>\n",
       "  </tbody>\n",
       "</table>\n",
       "</div>"
      ],
      "text/plain": [
       "   hs code                                        description\n",
       "0     8479  ELECTRIC,MOTOR VEHICLE PARTS, undertow. electr...\n",
       "1     8486  SECTIONS,FOR SEMICONDUCTOR PRODUCTION,CABLES u...\n",
       "2     8473  PORTABLE,TRIVETS,CENTRIFUGAL FANS,NOTEBOOK COM...\n",
       "3     8486  SECTIONS,OF STEEL,FOR SEMICONDUCTOR PRODUCTION...\n",
       "4     8462  MONTREUIL BENDING DIGITAL CONTROL FOR PERFORMI...\n",
       "5     8467  SAWS,FOR WORKING IN THE HAND,WITH ELECTRIC MOT...\n",
       "6     8471  ADAPTERS,PRINTED CIRCUITS,CONNECTIONS,COMPUTER...\n",
       "7     8471  PRINTED CIRCUITS,CONNECTIONS,COMPUTER INTERFAC...\n",
       "8     8467  SANDERS,WITH ELECTRIC MOTOR,FOR WORKING IN THE...\n",
       "9     8467  SAWS,FOR WORKING IN THE HAND,WITH ELECTRIC MOT..."
      ]
     },
     "execution_count": 21,
     "metadata": {},
     "output_type": "execute_result"
    }
   ],
   "source": [
    "test2 = pd.read_excel('EU84_TEST.xlsx')\n",
    "test2"
   ]
  },
  {
   "cell_type": "code",
   "execution_count": 22,
   "id": "8d6b4e61-a577-4c2f-b989-0143200ca83a",
   "metadata": {},
   "outputs": [],
   "source": [
    "x_test_test2_tfidf_vec = tfidf_vec.transform(test2['description'])"
   ]
  },
  {
   "cell_type": "code",
   "execution_count": 23,
   "id": "256e0df3-ae13-4833-9306-0b9f338c2c0b",
   "metadata": {},
   "outputs": [
    {
     "data": {
      "text/plain": [
       "array([8479, 8486, 8473, 8486, 8462, 8467, 8479, 8471, 8467, 8467])"
      ]
     },
     "execution_count": 23,
     "metadata": {},
     "output_type": "execute_result"
    }
   ],
   "source": [
    "y_hat_hat2 = ovr_clf.predict(x_test_test2_tfidf_vec)\n",
    "\n",
    "y_hat_hat2"
   ]
  },
  {
   "cell_type": "code",
   "execution_count": 24,
   "id": "c9cdce12-e9f9-4f90-bf39-9112313bb6ce",
   "metadata": {},
   "outputs": [
    {
     "data": {
      "text/plain": [
       "array([8479, 8486, 8473, 8486, 8462, 8467, 8471, 8471, 8467, 8467],\n",
       "      dtype=int64)"
      ]
     },
     "execution_count": 24,
     "metadata": {},
     "output_type": "execute_result"
    }
   ],
   "source": [
    "test2['hs code'].values"
   ]
  },
  {
   "cell_type": "code",
   "execution_count": 131,
   "id": "6af82241-0e83-4d2f-bcc3-680ced77b8f4",
   "metadata": {},
   "outputs": [
    {
     "name": "stdout",
     "output_type": "stream",
     "text": [
      "정확도: 0.634\n",
      "정밀도: 0.724\n",
      "재현율: 0.634\n"
     ]
    },
    {
     "name": "stderr",
     "output_type": "stream",
     "text": [
      "C:\\Users\\user\\anaconda3\\Lib\\site-packages\\sklearn\\metrics\\_classification.py:1344: UndefinedMetricWarning: Precision is ill-defined and being set to 0.0 in labels with no predicted samples. Use `zero_division` parameter to control this behavior.\n",
      "  _warn_prf(average, modifier, msg_start, len(result))\n"
     ]
    }
   ],
   "source": [
    "from sklearn.naive_bayes import MultinomialNB\n",
    "\n",
    "nb = MultinomialNB()\n",
    "nb.fit(x_train_tfidf_vec,y_train)\n",
    "\n",
    "y_hat = nb.predict(x_test_tfidf_vec)\n",
    "\n",
    "print(f'정확도: {accuracy_score(y_test, y_hat):.3f}')\n",
    "print(f'정밀도: {precision_score(y_test, y_hat, average=\"weighted\"):.3f}')\n",
    "print(f'재현율: {recall_score(y_test, y_hat, average=\"weighted\"):.3f}')"
   ]
  },
  {
   "cell_type": "code",
   "execution_count": 132,
   "id": "80b3bb00-e6db-4652-a3bb-8e4e6882a699",
   "metadata": {},
   "outputs": [
    {
     "data": {
      "text/plain": [
       "array([8481, 8471, 8479, 8479, 8479, 8471, 8483, 8479, 8481, 8481, 8428,\n",
       "       8479, 8471, 8479, 8479, 8479, 8479, 8481, 8421, 8431])"
      ]
     },
     "execution_count": 132,
     "metadata": {},
     "output_type": "execute_result"
    }
   ],
   "source": [
    "y_hat_hat = nb.predict(x_test_test_tfidf_vec)\n",
    "\n",
    "y_hat_hat"
   ]
  },
  {
   "cell_type": "code",
   "execution_count": 133,
   "id": "f07c638c-ebdd-43f1-91dc-0b5b687fc9f4",
   "metadata": {},
   "outputs": [
    {
     "data": {
      "text/plain": [
       "array([8481, 8470, 8428, 8445, 8415, 8424, 8482, 8462, 8466, 8414, 8427,\n",
       "       8421, 8473, 8419, 8479, 8422, 8431, 8481, 8421, 8431], dtype=int64)"
      ]
     },
     "execution_count": 133,
     "metadata": {},
     "output_type": "execute_result"
    }
   ],
   "source": [
    "test['hs code'].values"
   ]
  },
  {
   "cell_type": "code",
   "execution_count": 134,
   "id": "080d2816-996e-4b1c-afa9-e25ded92ee68",
   "metadata": {},
   "outputs": [
    {
     "data": {
      "text/html": [
       "<div>\n",
       "<style scoped>\n",
       "    .dataframe tbody tr th:only-of-type {\n",
       "        vertical-align: middle;\n",
       "    }\n",
       "\n",
       "    .dataframe tbody tr th {\n",
       "        vertical-align: top;\n",
       "    }\n",
       "\n",
       "    .dataframe thead th {\n",
       "        text-align: right;\n",
       "    }\n",
       "</style>\n",
       "<table border=\"1\" class=\"dataframe\">\n",
       "  <thead>\n",
       "    <tr style=\"text-align: right;\">\n",
       "      <th></th>\n",
       "      <th>8479</th>\n",
       "      <th>The IBC Brand Cleaning Tool, Standard Series, for SC, ST, FC, and E2000 Connectors, part # 9392, is a tool used for cleaning various single fiber connectors. It is composed of antistatic resin and has an extendable tip for reaching recessed connectors. The cleaning tip has densely stranded micro fibers that do not require any solvent as they sweep contaminants from the connector. It can be used for removing Arizona road dust, dryer lint, skin oil, pre- and post-mate graphite, 70% IPA residue, distilled water residue, hand lotion, NaCl residue, etc., on fibre optic connectors used in fiber network panels and assemblies, outdoor FTTX applications, servers, switches, routers, etc.</th>\n",
       "    </tr>\n",
       "  </thead>\n",
       "  <tbody>\n",
       "    <tr>\n",
       "      <th>0</th>\n",
       "      <td>8479</td>\n",
       "      <td>The UHD-III ROV (remotely operated vehicle) is...</td>\n",
       "    </tr>\n",
       "    <tr>\n",
       "      <th>1</th>\n",
       "      <td>8479</td>\n",
       "      <td>As per the information received, the esthetic ...</td>\n",
       "    </tr>\n",
       "    <tr>\n",
       "      <th>2</th>\n",
       "      <td>8479</td>\n",
       "      <td>The \"K-9 Kannon, P/N 49213\" is a tennis ball l...</td>\n",
       "    </tr>\n",
       "    <tr>\n",
       "      <th>3</th>\n",
       "      <td>8479</td>\n",
       "      <td>The good is called the Cobra MK-II and is manu...</td>\n",
       "    </tr>\n",
       "    <tr>\n",
       "      <th>4</th>\n",
       "      <td>8481</td>\n",
       "      <td>This is a plastic, replacement spout for vario...</td>\n",
       "    </tr>\n",
       "    <tr>\n",
       "      <th>5</th>\n",
       "      <td>8481</td>\n",
       "      <td>The good is a plastic threaded valve cap which...</td>\n",
       "    </tr>\n",
       "    <tr>\n",
       "      <th>6</th>\n",
       "      <td>8481</td>\n",
       "      <td>This is a hand operated, replacement air relea...</td>\n",
       "    </tr>\n",
       "    <tr>\n",
       "      <th>7</th>\n",
       "      <td>8481</td>\n",
       "      <td>Based on the literature provided, part number ...</td>\n",
       "    </tr>\n",
       "    <tr>\n",
       "      <th>8</th>\n",
       "      <td>8481</td>\n",
       "      <td>This is a hand operated, replacement fuel valv...</td>\n",
       "    </tr>\n",
       "  </tbody>\n",
       "</table>\n",
       "</div>"
      ],
      "text/plain": [
       "   8479  \\\n",
       "0  8479   \n",
       "1  8479   \n",
       "2  8479   \n",
       "3  8479   \n",
       "4  8481   \n",
       "5  8481   \n",
       "6  8481   \n",
       "7  8481   \n",
       "8  8481   \n",
       "\n",
       "  The IBC Brand Cleaning Tool, Standard Series, for SC, ST, FC, and E2000 Connectors, part # 9392, is a tool used for cleaning various single fiber connectors. It is composed of antistatic resin and has an extendable tip for reaching recessed connectors. The cleaning tip has densely stranded micro fibers that do not require any solvent as they sweep contaminants from the connector. It can be used for removing Arizona road dust, dryer lint, skin oil, pre- and post-mate graphite, 70% IPA residue, distilled water residue, hand lotion, NaCl residue, etc., on fibre optic connectors used in fiber network panels and assemblies, outdoor FTTX applications, servers, switches, routers, etc.  \n",
       "0  The UHD-III ROV (remotely operated vehicle) is...                                                                                                                                                                                                                                                                                                                                                                                                                                                                                                                                                                                                                                                              \n",
       "1  As per the information received, the esthetic ...                                                                                                                                                                                                                                                                                                                                                                                                                                                                                                                                                                                                                                                              \n",
       "2  The \"K-9 Kannon, P/N 49213\" is a tennis ball l...                                                                                                                                                                                                                                                                                                                                                                                                                                                                                                                                                                                                                                                              \n",
       "3  The good is called the Cobra MK-II and is manu...                                                                                                                                                                                                                                                                                                                                                                                                                                                                                                                                                                                                                                                              \n",
       "4  This is a plastic, replacement spout for vario...                                                                                                                                                                                                                                                                                                                                                                                                                                                                                                                                                                                                                                                              \n",
       "5  The good is a plastic threaded valve cap which...                                                                                                                                                                                                                                                                                                                                                                                                                                                                                                                                                                                                                                                              \n",
       "6  This is a hand operated, replacement air relea...                                                                                                                                                                                                                                                                                                                                                                                                                                                                                                                                                                                                                                                              \n",
       "7  Based on the literature provided, part number ...                                                                                                                                                                                                                                                                                                                                                                                                                                                                                                                                                                                                                                                              \n",
       "8  This is a hand operated, replacement fuel valv...                                                                                                                                                                                                                                                                                                                                                                                                                                                                                                                                                                                                                                                              "
      ]
     },
     "execution_count": 134,
     "metadata": {},
     "output_type": "execute_result"
    }
   ],
   "source": [
    "test2 = pd.read_excel('8479.xlsx')\n",
    "test2"
   ]
  },
  {
   "cell_type": "code",
   "execution_count": 139,
   "id": "0be671dd-2af7-46ac-9798-e4673c74a779",
   "metadata": {},
   "outputs": [],
   "source": [
    "test2.loc[9]=test2.columns.values"
   ]
  },
  {
   "cell_type": "code",
   "execution_count": 140,
   "id": "a032793f-e94b-433d-be00-aa7b8e9c3646",
   "metadata": {},
   "outputs": [
    {
     "data": {
      "text/html": [
       "<div>\n",
       "<style scoped>\n",
       "    .dataframe tbody tr th:only-of-type {\n",
       "        vertical-align: middle;\n",
       "    }\n",
       "\n",
       "    .dataframe tbody tr th {\n",
       "        vertical-align: top;\n",
       "    }\n",
       "\n",
       "    .dataframe thead th {\n",
       "        text-align: right;\n",
       "    }\n",
       "</style>\n",
       "<table border=\"1\" class=\"dataframe\">\n",
       "  <thead>\n",
       "    <tr style=\"text-align: right;\">\n",
       "      <th></th>\n",
       "      <th>8479</th>\n",
       "      <th>The IBC Brand Cleaning Tool, Standard Series, for SC, ST, FC, and E2000 Connectors, part # 9392, is a tool used for cleaning various single fiber connectors. It is composed of antistatic resin and has an extendable tip for reaching recessed connectors. The cleaning tip has densely stranded micro fibers that do not require any solvent as they sweep contaminants from the connector. It can be used for removing Arizona road dust, dryer lint, skin oil, pre- and post-mate graphite, 70% IPA residue, distilled water residue, hand lotion, NaCl residue, etc., on fibre optic connectors used in fiber network panels and assemblies, outdoor FTTX applications, servers, switches, routers, etc.</th>\n",
       "    </tr>\n",
       "  </thead>\n",
       "  <tbody>\n",
       "    <tr>\n",
       "      <th>0</th>\n",
       "      <td>8479</td>\n",
       "      <td>The UHD-III ROV (remotely operated vehicle) is...</td>\n",
       "    </tr>\n",
       "    <tr>\n",
       "      <th>1</th>\n",
       "      <td>8479</td>\n",
       "      <td>As per the information received, the esthetic ...</td>\n",
       "    </tr>\n",
       "    <tr>\n",
       "      <th>2</th>\n",
       "      <td>8479</td>\n",
       "      <td>The \"K-9 Kannon, P/N 49213\" is a tennis ball l...</td>\n",
       "    </tr>\n",
       "    <tr>\n",
       "      <th>3</th>\n",
       "      <td>8479</td>\n",
       "      <td>The good is called the Cobra MK-II and is manu...</td>\n",
       "    </tr>\n",
       "    <tr>\n",
       "      <th>4</th>\n",
       "      <td>8481</td>\n",
       "      <td>This is a plastic, replacement spout for vario...</td>\n",
       "    </tr>\n",
       "    <tr>\n",
       "      <th>5</th>\n",
       "      <td>8481</td>\n",
       "      <td>The good is a plastic threaded valve cap which...</td>\n",
       "    </tr>\n",
       "    <tr>\n",
       "      <th>6</th>\n",
       "      <td>8481</td>\n",
       "      <td>This is a hand operated, replacement air relea...</td>\n",
       "    </tr>\n",
       "    <tr>\n",
       "      <th>7</th>\n",
       "      <td>8481</td>\n",
       "      <td>Based on the literature provided, part number ...</td>\n",
       "    </tr>\n",
       "    <tr>\n",
       "      <th>8</th>\n",
       "      <td>8481</td>\n",
       "      <td>This is a hand operated, replacement fuel valv...</td>\n",
       "    </tr>\n",
       "    <tr>\n",
       "      <th>9</th>\n",
       "      <td>8479</td>\n",
       "      <td>The IBC Brand Cleaning Tool, Standard Series, ...</td>\n",
       "    </tr>\n",
       "  </tbody>\n",
       "</table>\n",
       "</div>"
      ],
      "text/plain": [
       "   8479  \\\n",
       "0  8479   \n",
       "1  8479   \n",
       "2  8479   \n",
       "3  8479   \n",
       "4  8481   \n",
       "5  8481   \n",
       "6  8481   \n",
       "7  8481   \n",
       "8  8481   \n",
       "9  8479   \n",
       "\n",
       "  The IBC Brand Cleaning Tool, Standard Series, for SC, ST, FC, and E2000 Connectors, part # 9392, is a tool used for cleaning various single fiber connectors. It is composed of antistatic resin and has an extendable tip for reaching recessed connectors. The cleaning tip has densely stranded micro fibers that do not require any solvent as they sweep contaminants from the connector. It can be used for removing Arizona road dust, dryer lint, skin oil, pre- and post-mate graphite, 70% IPA residue, distilled water residue, hand lotion, NaCl residue, etc., on fibre optic connectors used in fiber network panels and assemblies, outdoor FTTX applications, servers, switches, routers, etc.  \n",
       "0  The UHD-III ROV (remotely operated vehicle) is...                                                                                                                                                                                                                                                                                                                                                                                                                                                                                                                                                                                                                                                              \n",
       "1  As per the information received, the esthetic ...                                                                                                                                                                                                                                                                                                                                                                                                                                                                                                                                                                                                                                                              \n",
       "2  The \"K-9 Kannon, P/N 49213\" is a tennis ball l...                                                                                                                                                                                                                                                                                                                                                                                                                                                                                                                                                                                                                                                              \n",
       "3  The good is called the Cobra MK-II and is manu...                                                                                                                                                                                                                                                                                                                                                                                                                                                                                                                                                                                                                                                              \n",
       "4  This is a plastic, replacement spout for vario...                                                                                                                                                                                                                                                                                                                                                                                                                                                                                                                                                                                                                                                              \n",
       "5  The good is a plastic threaded valve cap which...                                                                                                                                                                                                                                                                                                                                                                                                                                                                                                                                                                                                                                                              \n",
       "6  This is a hand operated, replacement air relea...                                                                                                                                                                                                                                                                                                                                                                                                                                                                                                                                                                                                                                                              \n",
       "7  Based on the literature provided, part number ...                                                                                                                                                                                                                                                                                                                                                                                                                                                                                                                                                                                                                                                              \n",
       "8  This is a hand operated, replacement fuel valv...                                                                                                                                                                                                                                                                                                                                                                                                                                                                                                                                                                                                                                                              \n",
       "9  The IBC Brand Cleaning Tool, Standard Series, ...                                                                                                                                                                                                                                                                                                                                                                                                                                                                                                                                                                                                                                                              "
      ]
     },
     "execution_count": 140,
     "metadata": {},
     "output_type": "execute_result"
    }
   ],
   "source": [
    "test2"
   ]
  },
  {
   "cell_type": "code",
   "execution_count": 141,
   "id": "74e4f461-998b-42a0-9885-a60e2f5021f2",
   "metadata": {},
   "outputs": [
    {
     "data": {
      "text/html": [
       "<div>\n",
       "<style scoped>\n",
       "    .dataframe tbody tr th:only-of-type {\n",
       "        vertical-align: middle;\n",
       "    }\n",
       "\n",
       "    .dataframe tbody tr th {\n",
       "        vertical-align: top;\n",
       "    }\n",
       "\n",
       "    .dataframe thead th {\n",
       "        text-align: right;\n",
       "    }\n",
       "</style>\n",
       "<table border=\"1\" class=\"dataframe\">\n",
       "  <thead>\n",
       "    <tr style=\"text-align: right;\">\n",
       "      <th></th>\n",
       "      <th>hs code</th>\n",
       "      <th>description</th>\n",
       "    </tr>\n",
       "  </thead>\n",
       "  <tbody>\n",
       "    <tr>\n",
       "      <th>0</th>\n",
       "      <td>8479</td>\n",
       "      <td>The UHD-III ROV (remotely operated vehicle) is...</td>\n",
       "    </tr>\n",
       "    <tr>\n",
       "      <th>1</th>\n",
       "      <td>8479</td>\n",
       "      <td>As per the information received, the esthetic ...</td>\n",
       "    </tr>\n",
       "    <tr>\n",
       "      <th>2</th>\n",
       "      <td>8479</td>\n",
       "      <td>The \"K-9 Kannon, P/N 49213\" is a tennis ball l...</td>\n",
       "    </tr>\n",
       "    <tr>\n",
       "      <th>3</th>\n",
       "      <td>8479</td>\n",
       "      <td>The good is called the Cobra MK-II and is manu...</td>\n",
       "    </tr>\n",
       "    <tr>\n",
       "      <th>4</th>\n",
       "      <td>8481</td>\n",
       "      <td>This is a plastic, replacement spout for vario...</td>\n",
       "    </tr>\n",
       "    <tr>\n",
       "      <th>5</th>\n",
       "      <td>8481</td>\n",
       "      <td>The good is a plastic threaded valve cap which...</td>\n",
       "    </tr>\n",
       "    <tr>\n",
       "      <th>6</th>\n",
       "      <td>8481</td>\n",
       "      <td>This is a hand operated, replacement air relea...</td>\n",
       "    </tr>\n",
       "    <tr>\n",
       "      <th>7</th>\n",
       "      <td>8481</td>\n",
       "      <td>Based on the literature provided, part number ...</td>\n",
       "    </tr>\n",
       "    <tr>\n",
       "      <th>8</th>\n",
       "      <td>8481</td>\n",
       "      <td>This is a hand operated, replacement fuel valv...</td>\n",
       "    </tr>\n",
       "    <tr>\n",
       "      <th>9</th>\n",
       "      <td>8479</td>\n",
       "      <td>The IBC Brand Cleaning Tool, Standard Series, ...</td>\n",
       "    </tr>\n",
       "  </tbody>\n",
       "</table>\n",
       "</div>"
      ],
      "text/plain": [
       "   hs code                                        description\n",
       "0     8479  The UHD-III ROV (remotely operated vehicle) is...\n",
       "1     8479  As per the information received, the esthetic ...\n",
       "2     8479  The \"K-9 Kannon, P/N 49213\" is a tennis ball l...\n",
       "3     8479  The good is called the Cobra MK-II and is manu...\n",
       "4     8481  This is a plastic, replacement spout for vario...\n",
       "5     8481  The good is a plastic threaded valve cap which...\n",
       "6     8481  This is a hand operated, replacement air relea...\n",
       "7     8481  Based on the literature provided, part number ...\n",
       "8     8481  This is a hand operated, replacement fuel valv...\n",
       "9     8479  The IBC Brand Cleaning Tool, Standard Series, ..."
      ]
     },
     "execution_count": 141,
     "metadata": {},
     "output_type": "execute_result"
    }
   ],
   "source": [
    "test2.columns = ['hs code', 'description']\n",
    "test2"
   ]
  },
  {
   "cell_type": "code",
   "execution_count": 142,
   "id": "5ed5bd65-2560-4256-9d78-988872cdd8a3",
   "metadata": {},
   "outputs": [],
   "source": [
    "x_test_2_tfidf_vec = tfidf_vec.transform(test2['description'])"
   ]
  },
  {
   "cell_type": "code",
   "execution_count": 143,
   "id": "0edde4fd-c0fc-4bc7-9c32-9d3d69d3440a",
   "metadata": {},
   "outputs": [
    {
     "data": {
      "text/plain": [
       "array([8479, 8481, 8481, 8479, 8481, 8481, 8414, 8479, 8481, 8479])"
      ]
     },
     "execution_count": 143,
     "metadata": {},
     "output_type": "execute_result"
    }
   ],
   "source": [
    "y_hat_2 = nb.predict(x_test_2_tfidf_vec)\n",
    "\n",
    "y_hat_2"
   ]
  },
  {
   "cell_type": "code",
   "execution_count": 146,
   "id": "e20a1912-fc0e-4005-a5d8-c0105e92325e",
   "metadata": {},
   "outputs": [
    {
     "data": {
      "text/plain": [
       "array([8479, 8479, 8479, 8479, 8481, 8481, 8481, 8481, 8481, 8479],\n",
       "      dtype=int64)"
      ]
     },
     "execution_count": 146,
     "metadata": {},
     "output_type": "execute_result"
    }
   ],
   "source": [
    "test2['hs code'].values"
   ]
  },
  {
   "cell_type": "code",
   "execution_count": 145,
   "id": "8605e8ec-a85e-4c2b-9c4a-6fd3b669077d",
   "metadata": {},
   "outputs": [
    {
     "data": {
      "text/plain": [
       "array([8479, 8479, 8479, 8479, 8481, 8479, 8414, 8479, 8479, 8479])"
      ]
     },
     "execution_count": 145,
     "metadata": {},
     "output_type": "execute_result"
    }
   ],
   "source": [
    "y_hat_3 = lr.predict(x_test_2_tfidf_vec)\n",
    "\n",
    "y_hat_3"
   ]
  }
 ],
 "metadata": {
  "kernelspec": {
   "display_name": "Python 3 (ipykernel)",
   "language": "python",
   "name": "python3"
  },
  "language_info": {
   "codemirror_mode": {
    "name": "ipython",
    "version": 3
   },
   "file_extension": ".py",
   "mimetype": "text/x-python",
   "name": "python",
   "nbconvert_exporter": "python",
   "pygments_lexer": "ipython3",
   "version": "3.11.7"
  }
 },
 "nbformat": 4,
 "nbformat_minor": 5
}
