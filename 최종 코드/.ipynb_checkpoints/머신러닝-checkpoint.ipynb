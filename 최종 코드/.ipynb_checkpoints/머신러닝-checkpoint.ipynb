{
 "cells": [
  {
   "cell_type": "markdown",
   "id": "967fb184-41cc-465d-82b6-e25fe59a2890",
   "metadata": {},
   "source": [
    "# 데이터 불러오기 및 병합"
   ]
  },
  {
   "cell_type": "code",
   "execution_count": 2,
   "id": "c1df74a6-0ec1-4a50-9233-09018210551b",
   "metadata": {},
   "outputs": [
    {
     "data": {
      "text/html": [
       "<div>\n",
       "<style scoped>\n",
       "    .dataframe tbody tr th:only-of-type {\n",
       "        vertical-align: middle;\n",
       "    }\n",
       "\n",
       "    .dataframe tbody tr th {\n",
       "        vertical-align: top;\n",
       "    }\n",
       "\n",
       "    .dataframe thead th {\n",
       "        text-align: right;\n",
       "    }\n",
       "</style>\n",
       "<table border=\"1\" class=\"dataframe\">\n",
       "  <thead>\n",
       "    <tr style=\"text-align: right;\">\n",
       "      <th></th>\n",
       "      <th>hs code</th>\n",
       "      <th>product</th>\n",
       "      <th>description</th>\n",
       "      <th>reason</th>\n",
       "      <th>name_des</th>\n",
       "    </tr>\n",
       "  </thead>\n",
       "  <tbody>\n",
       "    <tr>\n",
       "      <th>0</th>\n",
       "      <td>8414</td>\n",
       "      <td>TABLE FANS</td>\n",
       "      <td>Table fan  a built in power    W Dimensions el...</td>\n",
       "      <td>General Rules   and    The classification is d...</td>\n",
       "      <td>TABLE FANS Table fan  a built in power    W Di...</td>\n",
       "    </tr>\n",
       "    <tr>\n",
       "      <th>1</th>\n",
       "      <td>8470</td>\n",
       "      <td>CASH REGISTERS  HARD DISCS  WITH USB SLOT  VAR...</td>\n",
       "      <td>TERMINAL OF SALE IN THE FORM OF PORTABLE WHOSE...</td>\n",
       "      <td>General Rules   and    The classification is d...</td>\n",
       "      <td>CASH REGISTERS  HARD DISCS  WITH USB SLOT  VAR...</td>\n",
       "    </tr>\n",
       "    <tr>\n",
       "      <th>2</th>\n",
       "      <td>8479</td>\n",
       "      <td>DRIVE MECHANISMS  KARABINERS  OF ALLOY STEEL</td>\n",
       "      <td>MECHANISM FALL MOBILE STEEL ALLIE IL IS HAVING...</td>\n",
       "      <td>General Rules   and    The classification is d...</td>\n",
       "      <td>DRIVE MECHANISMS  KARABINERS  OF ALLOY STEEL M...</td>\n",
       "    </tr>\n",
       "    <tr>\n",
       "      <th>3</th>\n",
       "      <td>8467</td>\n",
       "      <td>PNEUMATIC TOOLS  ROTARY  WITH END PART  SOCKET...</td>\n",
       "      <td>ROTARY AIR TOOL IN THE FORM OF REVERSIBLE RATC...</td>\n",
       "      <td>General Rules   and    The classification is d...</td>\n",
       "      <td>PNEUMATIC TOOLS  ROTARY  WITH END PART  SOCKET...</td>\n",
       "    </tr>\n",
       "    <tr>\n",
       "      <th>4</th>\n",
       "      <td>8457</td>\n",
       "      <td>MACHINING CENTRES</td>\n",
       "      <td>Machining center with horizontal spindle hard ...</td>\n",
       "      <td>General Rules   and    The classification is d...</td>\n",
       "      <td>MACHINING CENTRES Machining center with horizo...</td>\n",
       "    </tr>\n",
       "  </tbody>\n",
       "</table>\n",
       "</div>"
      ],
      "text/plain": [
       "   hs code                                            product  \\\n",
       "0     8414                                         TABLE FANS   \n",
       "1     8470  CASH REGISTERS  HARD DISCS  WITH USB SLOT  VAR...   \n",
       "2     8479       DRIVE MECHANISMS  KARABINERS  OF ALLOY STEEL   \n",
       "3     8467  PNEUMATIC TOOLS  ROTARY  WITH END PART  SOCKET...   \n",
       "4     8457                                  MACHINING CENTRES   \n",
       "\n",
       "                                         description  \\\n",
       "0  Table fan  a built in power    W Dimensions el...   \n",
       "1  TERMINAL OF SALE IN THE FORM OF PORTABLE WHOSE...   \n",
       "2  MECHANISM FALL MOBILE STEEL ALLIE IL IS HAVING...   \n",
       "3  ROTARY AIR TOOL IN THE FORM OF REVERSIBLE RATC...   \n",
       "4  Machining center with horizontal spindle hard ...   \n",
       "\n",
       "                                              reason  \\\n",
       "0  General Rules   and    The classification is d...   \n",
       "1  General Rules   and    The classification is d...   \n",
       "2  General Rules   and    The classification is d...   \n",
       "3  General Rules   and    The classification is d...   \n",
       "4  General Rules   and    The classification is d...   \n",
       "\n",
       "                                            name_des  \n",
       "0  TABLE FANS Table fan  a built in power    W Di...  \n",
       "1  CASH REGISTERS  HARD DISCS  WITH USB SLOT  VAR...  \n",
       "2  DRIVE MECHANISMS  KARABINERS  OF ALLOY STEEL M...  \n",
       "3  PNEUMATIC TOOLS  ROTARY  WITH END PART  SOCKET...  \n",
       "4  MACHINING CENTRES Machining center with horizo...  "
      ]
     },
     "execution_count": 2,
     "metadata": {},
     "output_type": "execute_result"
    }
   ],
   "source": [
    "import pandas as pd\n",
    "\n",
    "df1 = pd.read_excel('../최종 파일/84data_final.xlsx', index_col=0)\n",
    "df1.head()"
   ]
  },
  {
   "cell_type": "code",
   "execution_count": 3,
   "id": "7000be79-df55-4ae9-9623-f45ba19275ed",
   "metadata": {},
   "outputs": [
    {
     "data": {
      "text/html": [
       "<div>\n",
       "<style scoped>\n",
       "    .dataframe tbody tr th:only-of-type {\n",
       "        vertical-align: middle;\n",
       "    }\n",
       "\n",
       "    .dataframe tbody tr th {\n",
       "        vertical-align: top;\n",
       "    }\n",
       "\n",
       "    .dataframe thead th {\n",
       "        text-align: right;\n",
       "    }\n",
       "</style>\n",
       "<table border=\"1\" class=\"dataframe\">\n",
       "  <thead>\n",
       "    <tr style=\"text-align: right;\">\n",
       "      <th></th>\n",
       "      <th>hs code</th>\n",
       "      <th>description</th>\n",
       "      <th>reason</th>\n",
       "      <th>product</th>\n",
       "      <th>name_des</th>\n",
       "    </tr>\n",
       "  </thead>\n",
       "  <tbody>\n",
       "    <tr>\n",
       "      <th>0</th>\n",
       "      <td>8530</td>\n",
       "      <td>ELECTRIC DEVICE MADE   OR   BARRIERS AND FIXED...</td>\n",
       "      <td>General Rules   and    The classification is d...</td>\n",
       "      <td>BARRIERS  PANELS</td>\n",
       "      <td>BARRIERS  PANELS ELECTRIC DEVICE MADE   OR   B...</td>\n",
       "    </tr>\n",
       "    <tr>\n",
       "      <th>1</th>\n",
       "      <td>8523</td>\n",
       "      <td>Smart card used for electronic transactions wi...</td>\n",
       "      <td>General Rules   and    The classification is d...</td>\n",
       "      <td>ELECTRONIC CHIPS  BANK CARDS</td>\n",
       "      <td>ELECTRONIC CHIPS  BANK CARDS Smart card used f...</td>\n",
       "    </tr>\n",
       "    <tr>\n",
       "      <th>2</th>\n",
       "      <td>8512</td>\n",
       "      <td>HALOGEN HEADLIGHT FOR AGRICULTURAL VEHICLE OPE...</td>\n",
       "      <td>General Rules   and    The classification is d...</td>\n",
       "      <td>HEADLAMPS  HALOGEN LAMPS  AGRICULTURAL EQUIPME...</td>\n",
       "      <td>HEADLAMPS  HALOGEN LAMPS  AGRICULTURAL EQUIPME...</td>\n",
       "    </tr>\n",
       "    <tr>\n",
       "      <th>3</th>\n",
       "      <td>8517</td>\n",
       "      <td>Stylus   kit bluetooth hands free use with a t...</td>\n",
       "      <td>General Rules   and    The classification is d...</td>\n",
       "      <td>WITH BLUETOOTH  EARPHONES  MOBILE TELEPHONES</td>\n",
       "      <td>WITH BLUETOOTH  EARPHONES  MOBILE TELEPHONES S...</td>\n",
       "    </tr>\n",
       "    <tr>\n",
       "      <th>4</th>\n",
       "      <td>8517</td>\n",
       "      <td>PHONE ADAPTER HANDS FREE BLUETOOTH FUNCTION FO...</td>\n",
       "      <td>General Rules   and    The classification is d...</td>\n",
       "      <td>WITH BLUETOOTH  MOBILE TELEPHONES  CORDLESS  R...</td>\n",
       "      <td>WITH BLUETOOTH  MOBILE TELEPHONES  CORDLESS  R...</td>\n",
       "    </tr>\n",
       "  </tbody>\n",
       "</table>\n",
       "</div>"
      ],
      "text/plain": [
       "   hs code                                        description  \\\n",
       "0     8530  ELECTRIC DEVICE MADE   OR   BARRIERS AND FIXED...   \n",
       "1     8523  Smart card used for electronic transactions wi...   \n",
       "2     8512  HALOGEN HEADLIGHT FOR AGRICULTURAL VEHICLE OPE...   \n",
       "3     8517  Stylus   kit bluetooth hands free use with a t...   \n",
       "4     8517  PHONE ADAPTER HANDS FREE BLUETOOTH FUNCTION FO...   \n",
       "\n",
       "                                              reason  \\\n",
       "0  General Rules   and    The classification is d...   \n",
       "1  General Rules   and    The classification is d...   \n",
       "2  General Rules   and    The classification is d...   \n",
       "3  General Rules   and    The classification is d...   \n",
       "4  General Rules   and    The classification is d...   \n",
       "\n",
       "                                             product  \\\n",
       "0                                   BARRIERS  PANELS   \n",
       "1                       ELECTRONIC CHIPS  BANK CARDS   \n",
       "2  HEADLAMPS  HALOGEN LAMPS  AGRICULTURAL EQUIPME...   \n",
       "3       WITH BLUETOOTH  EARPHONES  MOBILE TELEPHONES   \n",
       "4  WITH BLUETOOTH  MOBILE TELEPHONES  CORDLESS  R...   \n",
       "\n",
       "                                            name_des  \n",
       "0  BARRIERS  PANELS ELECTRIC DEVICE MADE   OR   B...  \n",
       "1  ELECTRONIC CHIPS  BANK CARDS Smart card used f...  \n",
       "2  HEADLAMPS  HALOGEN LAMPS  AGRICULTURAL EQUIPME...  \n",
       "3  WITH BLUETOOTH  EARPHONES  MOBILE TELEPHONES S...  \n",
       "4  WITH BLUETOOTH  MOBILE TELEPHONES  CORDLESS  R...  "
      ]
     },
     "execution_count": 3,
     "metadata": {},
     "output_type": "execute_result"
    }
   ],
   "source": [
    "df2 = pd.read_excel('../최종 파일/85data_final.xlsx', index_col=0)\n",
    "df2.head()"
   ]
  },
  {
   "cell_type": "code",
   "execution_count": 4,
   "id": "5e06b487-a0d2-4a60-a0fa-44d98fccb333",
   "metadata": {},
   "outputs": [
    {
     "data": {
      "text/html": [
       "<div>\n",
       "<style scoped>\n",
       "    .dataframe tbody tr th:only-of-type {\n",
       "        vertical-align: middle;\n",
       "    }\n",
       "\n",
       "    .dataframe tbody tr th {\n",
       "        vertical-align: top;\n",
       "    }\n",
       "\n",
       "    .dataframe thead th {\n",
       "        text-align: right;\n",
       "    }\n",
       "</style>\n",
       "<table border=\"1\" class=\"dataframe\">\n",
       "  <thead>\n",
       "    <tr style=\"text-align: right;\">\n",
       "      <th></th>\n",
       "      <th>hs code</th>\n",
       "      <th>product</th>\n",
       "      <th>description</th>\n",
       "      <th>reason</th>\n",
       "      <th>name_des</th>\n",
       "    </tr>\n",
       "  </thead>\n",
       "  <tbody>\n",
       "    <tr>\n",
       "      <th>0</th>\n",
       "      <td>8530</td>\n",
       "      <td>BARRIERS  PANELS</td>\n",
       "      <td>ELECTRIC DEVICE MADE   OR   BARRIERS AND FIXED...</td>\n",
       "      <td>General Rules   and    The classification is d...</td>\n",
       "      <td>BARRIERS  PANELS ELECTRIC DEVICE MADE   OR   B...</td>\n",
       "    </tr>\n",
       "    <tr>\n",
       "      <th>1</th>\n",
       "      <td>8523</td>\n",
       "      <td>ELECTRONIC CHIPS  BANK CARDS</td>\n",
       "      <td>Smart card used for electronic transactions wi...</td>\n",
       "      <td>General Rules   and    The classification is d...</td>\n",
       "      <td>ELECTRONIC CHIPS  BANK CARDS Smart card used f...</td>\n",
       "    </tr>\n",
       "    <tr>\n",
       "      <th>2</th>\n",
       "      <td>8512</td>\n",
       "      <td>HEADLAMPS  HALOGEN LAMPS  AGRICULTURAL EQUIPME...</td>\n",
       "      <td>HALOGEN HEADLIGHT FOR AGRICULTURAL VEHICLE OPE...</td>\n",
       "      <td>General Rules   and    The classification is d...</td>\n",
       "      <td>HEADLAMPS  HALOGEN LAMPS  AGRICULTURAL EQUIPME...</td>\n",
       "    </tr>\n",
       "    <tr>\n",
       "      <th>3</th>\n",
       "      <td>8517</td>\n",
       "      <td>WITH BLUETOOTH  EARPHONES  MOBILE TELEPHONES</td>\n",
       "      <td>Stylus   kit bluetooth hands free use with a t...</td>\n",
       "      <td>General Rules   and    The classification is d...</td>\n",
       "      <td>WITH BLUETOOTH  EARPHONES  MOBILE TELEPHONES S...</td>\n",
       "    </tr>\n",
       "    <tr>\n",
       "      <th>4</th>\n",
       "      <td>8517</td>\n",
       "      <td>WITH BLUETOOTH  MOBILE TELEPHONES  CORDLESS  R...</td>\n",
       "      <td>PHONE ADAPTER HANDS FREE BLUETOOTH FUNCTION FO...</td>\n",
       "      <td>General Rules   and    The classification is d...</td>\n",
       "      <td>WITH BLUETOOTH  MOBILE TELEPHONES  CORDLESS  R...</td>\n",
       "    </tr>\n",
       "  </tbody>\n",
       "</table>\n",
       "</div>"
      ],
      "text/plain": [
       "   hs code                                            product  \\\n",
       "0     8530                                   BARRIERS  PANELS   \n",
       "1     8523                       ELECTRONIC CHIPS  BANK CARDS   \n",
       "2     8512  HEADLAMPS  HALOGEN LAMPS  AGRICULTURAL EQUIPME...   \n",
       "3     8517       WITH BLUETOOTH  EARPHONES  MOBILE TELEPHONES   \n",
       "4     8517  WITH BLUETOOTH  MOBILE TELEPHONES  CORDLESS  R...   \n",
       "\n",
       "                                         description  \\\n",
       "0  ELECTRIC DEVICE MADE   OR   BARRIERS AND FIXED...   \n",
       "1  Smart card used for electronic transactions wi...   \n",
       "2  HALOGEN HEADLIGHT FOR AGRICULTURAL VEHICLE OPE...   \n",
       "3  Stylus   kit bluetooth hands free use with a t...   \n",
       "4  PHONE ADAPTER HANDS FREE BLUETOOTH FUNCTION FO...   \n",
       "\n",
       "                                              reason  \\\n",
       "0  General Rules   and    The classification is d...   \n",
       "1  General Rules   and    The classification is d...   \n",
       "2  General Rules   and    The classification is d...   \n",
       "3  General Rules   and    The classification is d...   \n",
       "4  General Rules   and    The classification is d...   \n",
       "\n",
       "                                            name_des  \n",
       "0  BARRIERS  PANELS ELECTRIC DEVICE MADE   OR   B...  \n",
       "1  ELECTRONIC CHIPS  BANK CARDS Smart card used f...  \n",
       "2  HEADLAMPS  HALOGEN LAMPS  AGRICULTURAL EQUIPME...  \n",
       "3  WITH BLUETOOTH  EARPHONES  MOBILE TELEPHONES S...  \n",
       "4  WITH BLUETOOTH  MOBILE TELEPHONES  CORDLESS  R...  "
      ]
     },
     "execution_count": 4,
     "metadata": {},
     "output_type": "execute_result"
    }
   ],
   "source": [
    "product_85 = df2['product']\n",
    "df_85 = pd.DataFrame({'hs code':df2['hs code'], 'description':df2['description'], 'reason':df2['reason'], 'name_des':df2['name_des']})\n",
    "df_85.insert(1, 'product', product_85)\n",
    "df_85.head()"
   ]
  },
  {
   "cell_type": "code",
   "execution_count": 5,
   "id": "00a48ee7-c94b-47d3-911e-e3eb6671dbf4",
   "metadata": {},
   "outputs": [
    {
     "data": {
      "text/html": [
       "<div>\n",
       "<style scoped>\n",
       "    .dataframe tbody tr th:only-of-type {\n",
       "        vertical-align: middle;\n",
       "    }\n",
       "\n",
       "    .dataframe tbody tr th {\n",
       "        vertical-align: top;\n",
       "    }\n",
       "\n",
       "    .dataframe thead th {\n",
       "        text-align: right;\n",
       "    }\n",
       "</style>\n",
       "<table border=\"1\" class=\"dataframe\">\n",
       "  <thead>\n",
       "    <tr style=\"text-align: right;\">\n",
       "      <th></th>\n",
       "      <th>hs code</th>\n",
       "      <th>product</th>\n",
       "      <th>description</th>\n",
       "      <th>reason</th>\n",
       "      <th>name_des</th>\n",
       "    </tr>\n",
       "  </thead>\n",
       "  <tbody>\n",
       "    <tr>\n",
       "      <th>0</th>\n",
       "      <td>8414</td>\n",
       "      <td>TABLE FANS</td>\n",
       "      <td>Table fan  a built in power    W Dimensions el...</td>\n",
       "      <td>General Rules   and    The classification is d...</td>\n",
       "      <td>TABLE FANS Table fan  a built in power    W Di...</td>\n",
       "    </tr>\n",
       "    <tr>\n",
       "      <th>1</th>\n",
       "      <td>8470</td>\n",
       "      <td>CASH REGISTERS  HARD DISCS  WITH USB SLOT  VAR...</td>\n",
       "      <td>TERMINAL OF SALE IN THE FORM OF PORTABLE WHOSE...</td>\n",
       "      <td>General Rules   and    The classification is d...</td>\n",
       "      <td>CASH REGISTERS  HARD DISCS  WITH USB SLOT  VAR...</td>\n",
       "    </tr>\n",
       "    <tr>\n",
       "      <th>2</th>\n",
       "      <td>8479</td>\n",
       "      <td>DRIVE MECHANISMS  KARABINERS  OF ALLOY STEEL</td>\n",
       "      <td>MECHANISM FALL MOBILE STEEL ALLIE IL IS HAVING...</td>\n",
       "      <td>General Rules   and    The classification is d...</td>\n",
       "      <td>DRIVE MECHANISMS  KARABINERS  OF ALLOY STEEL M...</td>\n",
       "    </tr>\n",
       "    <tr>\n",
       "      <th>3</th>\n",
       "      <td>8467</td>\n",
       "      <td>PNEUMATIC TOOLS  ROTARY  WITH END PART  SOCKET...</td>\n",
       "      <td>ROTARY AIR TOOL IN THE FORM OF REVERSIBLE RATC...</td>\n",
       "      <td>General Rules   and    The classification is d...</td>\n",
       "      <td>PNEUMATIC TOOLS  ROTARY  WITH END PART  SOCKET...</td>\n",
       "    </tr>\n",
       "    <tr>\n",
       "      <th>4</th>\n",
       "      <td>8457</td>\n",
       "      <td>MACHINING CENTRES</td>\n",
       "      <td>Machining center with horizontal spindle hard ...</td>\n",
       "      <td>General Rules   and    The classification is d...</td>\n",
       "      <td>MACHINING CENTRES Machining center with horizo...</td>\n",
       "    </tr>\n",
       "  </tbody>\n",
       "</table>\n",
       "</div>"
      ],
      "text/plain": [
       "   hs code                                            product  \\\n",
       "0     8414                                         TABLE FANS   \n",
       "1     8470  CASH REGISTERS  HARD DISCS  WITH USB SLOT  VAR...   \n",
       "2     8479       DRIVE MECHANISMS  KARABINERS  OF ALLOY STEEL   \n",
       "3     8467  PNEUMATIC TOOLS  ROTARY  WITH END PART  SOCKET...   \n",
       "4     8457                                  MACHINING CENTRES   \n",
       "\n",
       "                                         description  \\\n",
       "0  Table fan  a built in power    W Dimensions el...   \n",
       "1  TERMINAL OF SALE IN THE FORM OF PORTABLE WHOSE...   \n",
       "2  MECHANISM FALL MOBILE STEEL ALLIE IL IS HAVING...   \n",
       "3  ROTARY AIR TOOL IN THE FORM OF REVERSIBLE RATC...   \n",
       "4  Machining center with horizontal spindle hard ...   \n",
       "\n",
       "                                              reason  \\\n",
       "0  General Rules   and    The classification is d...   \n",
       "1  General Rules   and    The classification is d...   \n",
       "2  General Rules   and    The classification is d...   \n",
       "3  General Rules   and    The classification is d...   \n",
       "4  General Rules   and    The classification is d...   \n",
       "\n",
       "                                            name_des  \n",
       "0  TABLE FANS Table fan  a built in power    W Di...  \n",
       "1  CASH REGISTERS  HARD DISCS  WITH USB SLOT  VAR...  \n",
       "2  DRIVE MECHANISMS  KARABINERS  OF ALLOY STEEL M...  \n",
       "3  PNEUMATIC TOOLS  ROTARY  WITH END PART  SOCKET...  \n",
       "4  MACHINING CENTRES Machining center with horizo...  "
      ]
     },
     "execution_count": 5,
     "metadata": {},
     "output_type": "execute_result"
    }
   ],
   "source": [
    "df = pd.concat([df1, df_85])\n",
    "df.head()"
   ]
  },
  {
   "cell_type": "code",
   "execution_count": 6,
   "id": "badf9bf5-8d74-4529-8ce8-93d5723c9a1b",
   "metadata": {},
   "outputs": [
    {
     "data": {
      "text/plain": [
       "134"
      ]
     },
     "execution_count": 6,
     "metadata": {},
     "output_type": "execute_result"
    }
   ],
   "source": [
    "len(df['hs code'].unique())"
   ]
  },
  {
   "cell_type": "markdown",
   "id": "a170b461-4f78-4460-bd6c-4e60cf45c716",
   "metadata": {},
   "source": [
    "# 데이터 전처리"
   ]
  },
  {
   "cell_type": "code",
   "execution_count": 7,
   "id": "bebd50e0-50ed-4531-b785-039205bf082d",
   "metadata": {},
   "outputs": [
    {
     "name": "stderr",
     "output_type": "stream",
     "text": [
      "[nltk_data] Downloading package punkt to\n",
      "[nltk_data]     C:\\Users\\wjsck\\AppData\\Roaming\\nltk_data...\n",
      "[nltk_data]   Package punkt is already up-to-date!\n",
      "[nltk_data] Downloading package stopwords to\n",
      "[nltk_data]     C:\\Users\\wjsck\\AppData\\Roaming\\nltk_data...\n",
      "[nltk_data]   Package stopwords is already up-to-date!\n",
      "[nltk_data] Downloading package wordnet to\n",
      "[nltk_data]     C:\\Users\\wjsck\\AppData\\Roaming\\nltk_data...\n",
      "[nltk_data]   Package wordnet is already up-to-date!\n",
      "[nltk_data] Downloading package averaged_perceptron_tagger to\n",
      "[nltk_data]     C:\\Users\\wjsck\\AppData\\Roaming\\nltk_data...\n",
      "[nltk_data]   Package averaged_perceptron_tagger is already up-to-\n",
      "[nltk_data]       date!\n"
     ]
    },
    {
     "name": "stdout",
     "output_type": "stream",
     "text": [
      "['table fan table fan build power dimension electric motor cm oscillation essential vitesses composant aluminum', 'cash register hard disc usb slot various electronic device printer screen lcd terminal sale form portable whose function exclusive collection product point sale function calculation item consist central unit touch screen lcd resolution pixel hard drive go part display back one block finish product integrate internal power ventilate contain printer integrate optional usb port port rs hdmi port second screen vga port jack rfid rfid reader encoder make plastic metal abs dimension l h weight kg optional kg foot printer', 'drive mechanism karabiner alloy steel mechanism fall mobile steel allie il closure system prevent use system double open ensure hanging withdrawal present securise il snap vi il security use support belay mm strand nylon rope mm diameter include accompany user movement stall automatically support belaying fall occurs', 'pneumatic tool rotary end part socket air compressor rotary air tool form reversible ratchet air use air compressor maximum pressure bar contain bit holder sleeve square drive particular sert clamp release kind nut nut wheel etc switch allow choice rotation pressure bear trigger trigger rotation supply air fit maximum torque nm air consumption l min']\n"
     ]
    }
   ],
   "source": [
    "import nltk\n",
    "from nltk.corpus import stopwords\n",
    "from nltk.tokenize import word_tokenize\n",
    "from nltk.stem import WordNetLemmatizer\n",
    "from sklearn.feature_extraction.text import TfidfVectorizer\n",
    "from sklearn.feature_extraction.text import CountVectorizer\n",
    "\n",
    "nltk.download('punkt')\n",
    "nltk.download('stopwords')\n",
    "nltk.download('wordnet')\n",
    "nltk.download('averaged_perceptron_tagger')  # pos_tag를 위한 데이터 다운로드\n",
    "\n",
    "# Initialize WordNet Lemmatizer and stopwords\n",
    "lemmatizer = WordNetLemmatizer()\n",
    "stop_words = stopwords.words('english')\n",
    "stop_words.append('x')\n",
    "stop_words.append('w')\n",
    "\n",
    "lemmatized_des = []\n",
    "for i in df['name_des']:\n",
    "    # 텍스트 전처리: 소문자 변환, 토큰화, 불용어 제거\n",
    "    tokens = word_tokenize(i.lower())\n",
    "    tagged_tokens = nltk.pos_tag(tokens)  # 단어 토큰에 품사 태깅 추가\n",
    "\n",
    "    # 품사를 고려하여 단어의 원형 복원 (명사와 동사만 고려)\n",
    "    filtered_tokens = []\n",
    "    for word, tag in tagged_tokens:\n",
    "        if (tag.startswith('NN') or tag.startswith('VB')) and word not in stop_words:  # 명사 또는 동사인 경우\n",
    "            lemma = lemmatizer.lemmatize(word, pos='n' if tag.startswith('NN') else 'v')\n",
    "            filtered_tokens.append(lemma)\n",
    "        elif word.isalpha() and word not in stop_words:\n",
    "            filtered_tokens.append(word)\n",
    "    lemmatized_des.append(' '.join(filtered_tokens))\n",
    "\n",
    "print(lemmatized_des[:4])"
   ]
  },
  {
   "cell_type": "code",
   "execution_count": 8,
   "id": "d624a1a1-b08c-4cf4-b244-87a99e8226f8",
   "metadata": {},
   "outputs": [
    {
     "data": {
      "text/html": [
       "<div>\n",
       "<style scoped>\n",
       "    .dataframe tbody tr th:only-of-type {\n",
       "        vertical-align: middle;\n",
       "    }\n",
       "\n",
       "    .dataframe tbody tr th {\n",
       "        vertical-align: top;\n",
       "    }\n",
       "\n",
       "    .dataframe thead th {\n",
       "        text-align: right;\n",
       "    }\n",
       "</style>\n",
       "<table border=\"1\" class=\"dataframe\">\n",
       "  <thead>\n",
       "    <tr style=\"text-align: right;\">\n",
       "      <th></th>\n",
       "      <th>hs code</th>\n",
       "      <th>name_des</th>\n",
       "    </tr>\n",
       "  </thead>\n",
       "  <tbody>\n",
       "    <tr>\n",
       "      <th>0</th>\n",
       "      <td>8414</td>\n",
       "      <td>table fan table fan build power dimension elec...</td>\n",
       "    </tr>\n",
       "    <tr>\n",
       "      <th>1</th>\n",
       "      <td>8470</td>\n",
       "      <td>cash register hard disc usb slot various elect...</td>\n",
       "    </tr>\n",
       "    <tr>\n",
       "      <th>2</th>\n",
       "      <td>8479</td>\n",
       "      <td>drive mechanism karabiner alloy steel mechanis...</td>\n",
       "    </tr>\n",
       "    <tr>\n",
       "      <th>3</th>\n",
       "      <td>8467</td>\n",
       "      <td>pneumatic tool rotary end part socket air comp...</td>\n",
       "    </tr>\n",
       "    <tr>\n",
       "      <th>4</th>\n",
       "      <td>8457</td>\n",
       "      <td>machine centre machine center horizontal spind...</td>\n",
       "    </tr>\n",
       "    <tr>\n",
       "      <th>...</th>\n",
       "      <td>...</td>\n",
       "      <td>...</td>\n",
       "    </tr>\n",
       "    <tr>\n",
       "      <th>76901</th>\n",
       "      <td>8508</td>\n",
       "      <td>industrial vacuum cleaner vecloader utilizes s...</td>\n",
       "    </tr>\n",
       "    <tr>\n",
       "      <th>76902</th>\n",
       "      <td>8508</td>\n",
       "      <td>marine foul remover speedblade describe speedb...</td>\n",
       "    </tr>\n",
       "    <tr>\n",
       "      <th>76903</th>\n",
       "      <td>8508</td>\n",
       "      <td>waxvac waxvac handheld cordless battery operat...</td>\n",
       "    </tr>\n",
       "    <tr>\n",
       "      <th>76904</th>\n",
       "      <td>8548</td>\n",
       "      <td>electromagnetic interference emi filter noise ...</td>\n",
       "    </tr>\n",
       "    <tr>\n",
       "      <th>76905</th>\n",
       "      <td>8548</td>\n",
       "      <td>battery scrap merchandise concern battery scra...</td>\n",
       "    </tr>\n",
       "  </tbody>\n",
       "</table>\n",
       "<p>115417 rows × 2 columns</p>\n",
       "</div>"
      ],
      "text/plain": [
       "       hs code                                           name_des\n",
       "0         8414  table fan table fan build power dimension elec...\n",
       "1         8470  cash register hard disc usb slot various elect...\n",
       "2         8479  drive mechanism karabiner alloy steel mechanis...\n",
       "3         8467  pneumatic tool rotary end part socket air comp...\n",
       "4         8457  machine centre machine center horizontal spind...\n",
       "...        ...                                                ...\n",
       "76901     8508  industrial vacuum cleaner vecloader utilizes s...\n",
       "76902     8508  marine foul remover speedblade describe speedb...\n",
       "76903     8508  waxvac waxvac handheld cordless battery operat...\n",
       "76904     8548  electromagnetic interference emi filter noise ...\n",
       "76905     8548  battery scrap merchandise concern battery scra...\n",
       "\n",
       "[115417 rows x 2 columns]"
      ]
     },
     "execution_count": 8,
     "metadata": {},
     "output_type": "execute_result"
    }
   ],
   "source": [
    "preprocessed_df = pd.DataFrame({'hs code': df['hs code'], 'name_des':lemmatized_des})\n",
    "preprocessed_df"
   ]
  },
  {
   "cell_type": "markdown",
   "id": "b6bc2904-a0ee-46b0-955c-546cd08ffeab",
   "metadata": {},
   "source": [
    "# 종속변수, 독립변수 나누기"
   ]
  },
  {
   "cell_type": "code",
   "execution_count": 9,
   "id": "68e5a99a-d21f-4404-875e-a4765f3ced9f",
   "metadata": {},
   "outputs": [
    {
     "name": "stdout",
     "output_type": "stream",
     "text": [
      "115417\n",
      "115417\n"
     ]
    }
   ],
   "source": [
    "x_train = preprocessed_df['name_des']\n",
    "y_train = preprocessed_df['hs code']\n",
    "\n",
    "print(len(x_train))\n",
    "print(len(y_train))"
   ]
  },
  {
   "cell_type": "markdown",
   "id": "2863007f-8017-409e-b899-9334f9ad33d3",
   "metadata": {},
   "source": [
    "# 벡터라이저"
   ]
  },
  {
   "cell_type": "code",
   "execution_count": 10,
   "id": "b5359b06-d5cf-41ca-8969-e851a6b4a41c",
   "metadata": {},
   "outputs": [],
   "source": [
    "tfidf_vec = TfidfVectorizer()\n",
    "tfidf_vec.fit(x_train)\n",
    "x_train_tfidf_vec = tfidf_vec.transform(x_train) "
   ]
  },
  {
   "cell_type": "markdown",
   "id": "eb8e100a-6a88-4f5a-89f6-9de2c63ce09b",
   "metadata": {},
   "source": [
    "# 모델 학습 - LSVC"
   ]
  },
  {
   "cell_type": "code",
   "execution_count": 11,
   "id": "82c213a0-7e42-4459-a8ef-c56ca0320fae",
   "metadata": {},
   "outputs": [
    {
     "data": {
      "text/html": [
       "<style>#sk-container-id-1 {color: black;background-color: white;}#sk-container-id-1 pre{padding: 0;}#sk-container-id-1 div.sk-toggleable {background-color: white;}#sk-container-id-1 label.sk-toggleable__label {cursor: pointer;display: block;width: 100%;margin-bottom: 0;padding: 0.3em;box-sizing: border-box;text-align: center;}#sk-container-id-1 label.sk-toggleable__label-arrow:before {content: \"▸\";float: left;margin-right: 0.25em;color: #696969;}#sk-container-id-1 label.sk-toggleable__label-arrow:hover:before {color: black;}#sk-container-id-1 div.sk-estimator:hover label.sk-toggleable__label-arrow:before {color: black;}#sk-container-id-1 div.sk-toggleable__content {max-height: 0;max-width: 0;overflow: hidden;text-align: left;background-color: #f0f8ff;}#sk-container-id-1 div.sk-toggleable__content pre {margin: 0.2em;color: black;border-radius: 0.25em;background-color: #f0f8ff;}#sk-container-id-1 input.sk-toggleable__control:checked~div.sk-toggleable__content {max-height: 200px;max-width: 100%;overflow: auto;}#sk-container-id-1 input.sk-toggleable__control:checked~label.sk-toggleable__label-arrow:before {content: \"▾\";}#sk-container-id-1 div.sk-estimator input.sk-toggleable__control:checked~label.sk-toggleable__label {background-color: #d4ebff;}#sk-container-id-1 div.sk-label input.sk-toggleable__control:checked~label.sk-toggleable__label {background-color: #d4ebff;}#sk-container-id-1 input.sk-hidden--visually {border: 0;clip: rect(1px 1px 1px 1px);clip: rect(1px, 1px, 1px, 1px);height: 1px;margin: -1px;overflow: hidden;padding: 0;position: absolute;width: 1px;}#sk-container-id-1 div.sk-estimator {font-family: monospace;background-color: #f0f8ff;border: 1px dotted black;border-radius: 0.25em;box-sizing: border-box;margin-bottom: 0.5em;}#sk-container-id-1 div.sk-estimator:hover {background-color: #d4ebff;}#sk-container-id-1 div.sk-parallel-item::after {content: \"\";width: 100%;border-bottom: 1px solid gray;flex-grow: 1;}#sk-container-id-1 div.sk-label:hover label.sk-toggleable__label {background-color: #d4ebff;}#sk-container-id-1 div.sk-serial::before {content: \"\";position: absolute;border-left: 1px solid gray;box-sizing: border-box;top: 0;bottom: 0;left: 50%;z-index: 0;}#sk-container-id-1 div.sk-serial {display: flex;flex-direction: column;align-items: center;background-color: white;padding-right: 0.2em;padding-left: 0.2em;position: relative;}#sk-container-id-1 div.sk-item {position: relative;z-index: 1;}#sk-container-id-1 div.sk-parallel {display: flex;align-items: stretch;justify-content: center;background-color: white;position: relative;}#sk-container-id-1 div.sk-item::before, #sk-container-id-1 div.sk-parallel-item::before {content: \"\";position: absolute;border-left: 1px solid gray;box-sizing: border-box;top: 0;bottom: 0;left: 50%;z-index: -1;}#sk-container-id-1 div.sk-parallel-item {display: flex;flex-direction: column;z-index: 1;position: relative;background-color: white;}#sk-container-id-1 div.sk-parallel-item:first-child::after {align-self: flex-end;width: 50%;}#sk-container-id-1 div.sk-parallel-item:last-child::after {align-self: flex-start;width: 50%;}#sk-container-id-1 div.sk-parallel-item:only-child::after {width: 0;}#sk-container-id-1 div.sk-dashed-wrapped {border: 1px dashed gray;margin: 0 0.4em 0.5em 0.4em;box-sizing: border-box;padding-bottom: 0.4em;background-color: white;}#sk-container-id-1 div.sk-label label {font-family: monospace;font-weight: bold;display: inline-block;line-height: 1.2em;}#sk-container-id-1 div.sk-label-container {text-align: center;}#sk-container-id-1 div.sk-container {/* jupyter's `normalize.less` sets `[hidden] { display: none; }` but bootstrap.min.css set `[hidden] { display: none !important; }` so we also need the `!important` here to be able to override the default hidden behavior on the sphinx rendered scikit-learn.org. See: https://github.com/scikit-learn/scikit-learn/issues/21755 */display: inline-block !important;position: relative;}#sk-container-id-1 div.sk-text-repr-fallback {display: none;}</style><div id=\"sk-container-id-1\" class=\"sk-top-container\"><div class=\"sk-text-repr-fallback\"><pre>LinearSVC(C=1)</pre><b>In a Jupyter environment, please rerun this cell to show the HTML representation or trust the notebook. <br />On GitHub, the HTML representation is unable to render, please try loading this page with nbviewer.org.</b></div><div class=\"sk-container\" hidden><div class=\"sk-item\"><div class=\"sk-estimator sk-toggleable\"><input class=\"sk-toggleable__control sk-hidden--visually\" id=\"sk-estimator-id-1\" type=\"checkbox\" checked><label for=\"sk-estimator-id-1\" class=\"sk-toggleable__label sk-toggleable__label-arrow\">LinearSVC</label><div class=\"sk-toggleable__content\"><pre>LinearSVC(C=1)</pre></div></div></div></div></div>"
      ],
      "text/plain": [
       "LinearSVC(C=1)"
      ]
     },
     "execution_count": 11,
     "metadata": {},
     "output_type": "execute_result"
    }
   ],
   "source": [
    "from sklearn.svm import LinearSVC\n",
    "from sklearn.metrics import accuracy_score, precision_score, recall_score,classification_report\n",
    "\n",
    "svc = LinearSVC(C=1)\n",
    "svc.fit(x_train_tfidf_vec, y_train)"
   ]
  },
  {
   "cell_type": "markdown",
   "id": "27ce9897-a792-4300-ab9e-a194211049bd",
   "metadata": {},
   "source": [
    "# 모델 학습 - 랜덤 포레스트\n",
    "- 파라메터값은 정확히 모르겠어서 수정 부탁"
   ]
  },
  {
   "cell_type": "code",
   "execution_count": null,
   "id": "c2ae1ec6-6471-4d25-a1d1-f49f7963cce5",
   "metadata": {},
   "outputs": [],
   "source": [
    "from sklearn.ensemble import RandomForestClassifier\n",
    "\n",
    "rmc =RandomForestClassifier(n_estimators=1000, max_depth=500)\n",
    "rmc.fit(x_train_tfidf_vec,y_train)"
   ]
  },
  {
   "cell_type": "markdown",
   "id": "a4c24adf-1486-40f2-8fd9-905a83907037",
   "metadata": {},
   "source": [
    "# 모델 학습 - 로지스틱회귀분류\n",
    "- 파라메터값은 정확히 모르겠어서 수정 부탁"
   ]
  },
  {
   "cell_type": "code",
   "execution_count": 21,
   "id": "c977b823-4530-4d65-96af-fb130a319be0",
   "metadata": {},
   "outputs": [
    {
     "name": "stderr",
     "output_type": "stream",
     "text": [
      "C:\\Users\\wjsck\\anaconda3\\Lib\\site-packages\\sklearn\\linear_model\\_logistic.py:458: ConvergenceWarning: lbfgs failed to converge (status=1):\n",
      "STOP: TOTAL NO. of ITERATIONS REACHED LIMIT.\n",
      "\n",
      "Increase the number of iterations (max_iter) or scale the data as shown in:\n",
      "    https://scikit-learn.org/stable/modules/preprocessing.html\n",
      "Please also refer to the documentation for alternative solver options:\n",
      "    https://scikit-learn.org/stable/modules/linear_model.html#logistic-regression\n",
      "  n_iter_i = _check_optimize_result(\n"
     ]
    },
    {
     "data": {
      "text/html": [
       "<style>#sk-container-id-2 {color: black;background-color: white;}#sk-container-id-2 pre{padding: 0;}#sk-container-id-2 div.sk-toggleable {background-color: white;}#sk-container-id-2 label.sk-toggleable__label {cursor: pointer;display: block;width: 100%;margin-bottom: 0;padding: 0.3em;box-sizing: border-box;text-align: center;}#sk-container-id-2 label.sk-toggleable__label-arrow:before {content: \"▸\";float: left;margin-right: 0.25em;color: #696969;}#sk-container-id-2 label.sk-toggleable__label-arrow:hover:before {color: black;}#sk-container-id-2 div.sk-estimator:hover label.sk-toggleable__label-arrow:before {color: black;}#sk-container-id-2 div.sk-toggleable__content {max-height: 0;max-width: 0;overflow: hidden;text-align: left;background-color: #f0f8ff;}#sk-container-id-2 div.sk-toggleable__content pre {margin: 0.2em;color: black;border-radius: 0.25em;background-color: #f0f8ff;}#sk-container-id-2 input.sk-toggleable__control:checked~div.sk-toggleable__content {max-height: 200px;max-width: 100%;overflow: auto;}#sk-container-id-2 input.sk-toggleable__control:checked~label.sk-toggleable__label-arrow:before {content: \"▾\";}#sk-container-id-2 div.sk-estimator input.sk-toggleable__control:checked~label.sk-toggleable__label {background-color: #d4ebff;}#sk-container-id-2 div.sk-label input.sk-toggleable__control:checked~label.sk-toggleable__label {background-color: #d4ebff;}#sk-container-id-2 input.sk-hidden--visually {border: 0;clip: rect(1px 1px 1px 1px);clip: rect(1px, 1px, 1px, 1px);height: 1px;margin: -1px;overflow: hidden;padding: 0;position: absolute;width: 1px;}#sk-container-id-2 div.sk-estimator {font-family: monospace;background-color: #f0f8ff;border: 1px dotted black;border-radius: 0.25em;box-sizing: border-box;margin-bottom: 0.5em;}#sk-container-id-2 div.sk-estimator:hover {background-color: #d4ebff;}#sk-container-id-2 div.sk-parallel-item::after {content: \"\";width: 100%;border-bottom: 1px solid gray;flex-grow: 1;}#sk-container-id-2 div.sk-label:hover label.sk-toggleable__label {background-color: #d4ebff;}#sk-container-id-2 div.sk-serial::before {content: \"\";position: absolute;border-left: 1px solid gray;box-sizing: border-box;top: 0;bottom: 0;left: 50%;z-index: 0;}#sk-container-id-2 div.sk-serial {display: flex;flex-direction: column;align-items: center;background-color: white;padding-right: 0.2em;padding-left: 0.2em;position: relative;}#sk-container-id-2 div.sk-item {position: relative;z-index: 1;}#sk-container-id-2 div.sk-parallel {display: flex;align-items: stretch;justify-content: center;background-color: white;position: relative;}#sk-container-id-2 div.sk-item::before, #sk-container-id-2 div.sk-parallel-item::before {content: \"\";position: absolute;border-left: 1px solid gray;box-sizing: border-box;top: 0;bottom: 0;left: 50%;z-index: -1;}#sk-container-id-2 div.sk-parallel-item {display: flex;flex-direction: column;z-index: 1;position: relative;background-color: white;}#sk-container-id-2 div.sk-parallel-item:first-child::after {align-self: flex-end;width: 50%;}#sk-container-id-2 div.sk-parallel-item:last-child::after {align-self: flex-start;width: 50%;}#sk-container-id-2 div.sk-parallel-item:only-child::after {width: 0;}#sk-container-id-2 div.sk-dashed-wrapped {border: 1px dashed gray;margin: 0 0.4em 0.5em 0.4em;box-sizing: border-box;padding-bottom: 0.4em;background-color: white;}#sk-container-id-2 div.sk-label label {font-family: monospace;font-weight: bold;display: inline-block;line-height: 1.2em;}#sk-container-id-2 div.sk-label-container {text-align: center;}#sk-container-id-2 div.sk-container {/* jupyter's `normalize.less` sets `[hidden] { display: none; }` but bootstrap.min.css set `[hidden] { display: none !important; }` so we also need the `!important` here to be able to override the default hidden behavior on the sphinx rendered scikit-learn.org. See: https://github.com/scikit-learn/scikit-learn/issues/21755 */display: inline-block !important;position: relative;}#sk-container-id-2 div.sk-text-repr-fallback {display: none;}</style><div id=\"sk-container-id-2\" class=\"sk-top-container\"><div class=\"sk-text-repr-fallback\"><pre>LogisticRegression(multi_class=&#x27;ovr&#x27;)</pre><b>In a Jupyter environment, please rerun this cell to show the HTML representation or trust the notebook. <br />On GitHub, the HTML representation is unable to render, please try loading this page with nbviewer.org.</b></div><div class=\"sk-container\" hidden><div class=\"sk-item\"><div class=\"sk-estimator sk-toggleable\"><input class=\"sk-toggleable__control sk-hidden--visually\" id=\"sk-estimator-id-2\" type=\"checkbox\" checked><label for=\"sk-estimator-id-2\" class=\"sk-toggleable__label sk-toggleable__label-arrow\">LogisticRegression</label><div class=\"sk-toggleable__content\"><pre>LogisticRegression(multi_class=&#x27;ovr&#x27;)</pre></div></div></div></div></div>"
      ],
      "text/plain": [
       "LogisticRegression(multi_class='ovr')"
      ]
     },
     "execution_count": 21,
     "metadata": {},
     "output_type": "execute_result"
    }
   ],
   "source": [
    "from sklearn.linear_model import LogisticRegression\n",
    "\n",
    "lr = LogisticRegression(solver='lbfgs', multi_class='ovr')\n",
    "lr.fit(x_train_tfidf_vec,y_train)"
   ]
  },
  {
   "cell_type": "code",
   "execution_count": null,
   "id": "73e42572-7aac-4802-b553-53e13341ec14",
   "metadata": {},
   "outputs": [],
   "source": [
    "# 피클로 모델 저장\n",
    "import pickle\n",
    "\n",
    "with open('./drive/MyDrive/DIMA3/lsvc.pkl', 'wb') as file:\n",
    "    pickle.dump(lsvc, file)"
   ]
  },
  {
   "cell_type": "code",
   "execution_count": null,
   "id": "643f4499-19e9-4d0d-ada2-3e16f1fb6205",
   "metadata": {},
   "outputs": [],
   "source": [
    "with open('./drive/MyDrive/DIMA3/lsvc.pkl', 'wb') as file:\n",
    "    pickle.dump(rmc, file)"
   ]
  },
  {
   "cell_type": "code",
   "execution_count": null,
   "id": "57253182-ba91-494d-898f-82b65646de10",
   "metadata": {},
   "outputs": [],
   "source": [
    "with open('./drive/MyDrive/DIMA3/lsvc.pkl', 'wb') as file:\n",
    "    pickle.dump(lr, file)"
   ]
  },
  {
   "cell_type": "markdown",
   "id": "2c8bc27e-bea9-4474-85de-2d3efea41019",
   "metadata": {},
   "source": [
    "# 테스트 데이터 적용 코드"
   ]
  },
  {
   "cell_type": "code",
   "execution_count": 12,
   "id": "aae84240-86f7-4fa9-b3b2-6d79a8eebaa7",
   "metadata": {},
   "outputs": [
    {
     "data": {
      "text/html": [
       "<div>\n",
       "<style scoped>\n",
       "    .dataframe tbody tr th:only-of-type {\n",
       "        vertical-align: middle;\n",
       "    }\n",
       "\n",
       "    .dataframe tbody tr th {\n",
       "        vertical-align: top;\n",
       "    }\n",
       "\n",
       "    .dataframe thead th {\n",
       "        text-align: right;\n",
       "    }\n",
       "</style>\n",
       "<table border=\"1\" class=\"dataframe\">\n",
       "  <thead>\n",
       "    <tr style=\"text-align: right;\">\n",
       "      <th></th>\n",
       "      <th>hs code</th>\n",
       "      <th>description</th>\n",
       "    </tr>\n",
       "  </thead>\n",
       "  <tbody>\n",
       "    <tr>\n",
       "      <th>0</th>\n",
       "      <td>8424</td>\n",
       "      <td>The item under consideration is described as a...</td>\n",
       "    </tr>\n",
       "    <tr>\n",
       "      <th>1</th>\n",
       "      <td>8421</td>\n",
       "      <td>The merchandise under consideration is describ...</td>\n",
       "    </tr>\n",
       "    <tr>\n",
       "      <th>2</th>\n",
       "      <td>8466</td>\n",
       "      <td>The Bottom Ram #85 is a cast steel component o...</td>\n",
       "    </tr>\n",
       "    <tr>\n",
       "      <th>3</th>\n",
       "      <td>8479</td>\n",
       "      <td>The Chameleon MS4 is a wearable device designe...</td>\n",
       "    </tr>\n",
       "    <tr>\n",
       "      <th>4</th>\n",
       "      <td>8438</td>\n",
       "      <td>The two items under consideration are describe...</td>\n",
       "    </tr>\n",
       "  </tbody>\n",
       "</table>\n",
       "</div>"
      ],
      "text/plain": [
       "   hs code                                        description\n",
       "0     8424  The item under consideration is described as a...\n",
       "1     8421  The merchandise under consideration is describ...\n",
       "2     8466  The Bottom Ram #85 is a cast steel component o...\n",
       "3     8479  The Chameleon MS4 is a wearable device designe...\n",
       "4     8438  The two items under consideration are describe..."
      ]
     },
     "execution_count": 12,
     "metadata": {},
     "output_type": "execute_result"
    }
   ],
   "source": [
    "test = pd.read_excel('../최종 파일/usa_test_data.xlsx', index_col=0)\n",
    "test.head()"
   ]
  },
  {
   "cell_type": "code",
   "execution_count": 13,
   "id": "3d57eb1a-4ea9-4b4e-a58a-4e2b111ea864",
   "metadata": {},
   "outputs": [
    {
     "data": {
      "text/html": [
       "<div>\n",
       "<style scoped>\n",
       "    .dataframe tbody tr th:only-of-type {\n",
       "        vertical-align: middle;\n",
       "    }\n",
       "\n",
       "    .dataframe tbody tr th {\n",
       "        vertical-align: top;\n",
       "    }\n",
       "\n",
       "    .dataframe thead th {\n",
       "        text-align: right;\n",
       "    }\n",
       "</style>\n",
       "<table border=\"1\" class=\"dataframe\">\n",
       "  <thead>\n",
       "    <tr style=\"text-align: right;\">\n",
       "      <th></th>\n",
       "      <th>hs code</th>\n",
       "      <th>description</th>\n",
       "    </tr>\n",
       "  </thead>\n",
       "  <tbody>\n",
       "    <tr>\n",
       "      <th>0</th>\n",
       "      <td>8424</td>\n",
       "      <td>The item under consideration is described as a...</td>\n",
       "    </tr>\n",
       "    <tr>\n",
       "      <th>1</th>\n",
       "      <td>8421</td>\n",
       "      <td>The merchandise under consideration is describ...</td>\n",
       "    </tr>\n",
       "    <tr>\n",
       "      <th>2</th>\n",
       "      <td>8466</td>\n",
       "      <td>The Bottom Ram #85 is a cast steel component o...</td>\n",
       "    </tr>\n",
       "    <tr>\n",
       "      <th>3</th>\n",
       "      <td>8479</td>\n",
       "      <td>The Chameleon MS4 is a wearable device designe...</td>\n",
       "    </tr>\n",
       "    <tr>\n",
       "      <th>4</th>\n",
       "      <td>8438</td>\n",
       "      <td>The two items under consideration are describe...</td>\n",
       "    </tr>\n",
       "    <tr>\n",
       "      <th>...</th>\n",
       "      <td>...</td>\n",
       "      <td>...</td>\n",
       "    </tr>\n",
       "    <tr>\n",
       "      <th>106</th>\n",
       "      <td>8537</td>\n",
       "      <td>The merchandise under consideration is referre...</td>\n",
       "    </tr>\n",
       "    <tr>\n",
       "      <th>107</th>\n",
       "      <td>8541</td>\n",
       "      <td>The items concerned are extruded aluminum sola...</td>\n",
       "    </tr>\n",
       "    <tr>\n",
       "      <th>108</th>\n",
       "      <td>8524</td>\n",
       "      <td>The merchandise under consideration is a TFT-L...</td>\n",
       "    </tr>\n",
       "    <tr>\n",
       "      <th>109</th>\n",
       "      <td>8525</td>\n",
       "      <td>The merchandise under consideration is describ...</td>\n",
       "    </tr>\n",
       "    <tr>\n",
       "      <th>110</th>\n",
       "      <td>8504</td>\n",
       "      <td>The merchandise under consideration is identif...</td>\n",
       "    </tr>\n",
       "  </tbody>\n",
       "</table>\n",
       "<p>111 rows × 2 columns</p>\n",
       "</div>"
      ],
      "text/plain": [
       "     hs code                                        description\n",
       "0       8424  The item under consideration is described as a...\n",
       "1       8421  The merchandise under consideration is describ...\n",
       "2       8466  The Bottom Ram #85 is a cast steel component o...\n",
       "3       8479  The Chameleon MS4 is a wearable device designe...\n",
       "4       8438  The two items under consideration are describe...\n",
       "..       ...                                                ...\n",
       "106     8537  The merchandise under consideration is referre...\n",
       "107     8541  The items concerned are extruded aluminum sola...\n",
       "108     8524  The merchandise under consideration is a TFT-L...\n",
       "109     8525  The merchandise under consideration is describ...\n",
       "110     8504  The merchandise under consideration is identif...\n",
       "\n",
       "[111 rows x 2 columns]"
      ]
     },
     "execution_count": 13,
     "metadata": {},
     "output_type": "execute_result"
    }
   ],
   "source": [
    "# 테스트 인덱스 값 맞추기\n",
    "test.reset_index(drop=True, inplace=True)\n",
    "test"
   ]
  },
  {
   "cell_type": "code",
   "execution_count": 14,
   "id": "ad79de97-fe9a-4415-9800-ef0d5b52b1b4",
   "metadata": {},
   "outputs": [],
   "source": [
    "# 학습에 적용된 벡터라이저로 테스트 데이터에도 적용\n",
    "test_tfidf_vec = tfidf_vec.transform(test)"
   ]
  },
  {
   "cell_type": "code",
   "execution_count": 23,
   "id": "5c67358d-765f-4c35-ad72-447bc9ef3202",
   "metadata": {},
   "outputs": [],
   "source": [
    "# 전처리된 테스트 데이터를 예측 모델에 적용\n",
    "y_hat_lsvc = svc.predict(test_tfidf_vec)\n",
    "#y_hat_rmc = rmc.predict(test_tfidf_vec)\n",
    "y_hat_lr = lr.predict(test_tfidf_vec)"
   ]
  },
  {
   "cell_type": "code",
   "execution_count": 24,
   "id": "26867456-df6a-46ed-a8d6-4ae901bdb443",
   "metadata": {},
   "outputs": [
    {
     "name": "stdout",
     "output_type": "stream",
     "text": [
      "8424 8535\n",
      "8421 8529\n",
      "LSVC 정확도: 0.0\n"
     ]
    }
   ],
   "source": [
    "# LSVC 정확도 체크\n",
    "cnt = 0\n",
    "for i, v in zip(test['hs code'], y_hat_lsvc):\n",
    "    print(i, v)\n",
    "    if i == v:\n",
    "        cnt += 1\n",
    "\n",
    "print('LSVC 정확도:', cnt/len(test))"
   ]
  },
  {
   "cell_type": "code",
   "execution_count": null,
   "id": "689f0884-d909-43bc-a7f3-3ff58f3655dd",
   "metadata": {},
   "outputs": [],
   "source": [
    "# RandomForestClassifier 정확도 체크\n",
    "cnt = 0\n",
    "for i, v in zip(test['hs code'], y_hat_rmc):\n",
    "    if i == v:\n",
    "        cnt += 1\n",
    "\n",
    "print('LSVC 정확도:', cnt/len(test))"
   ]
  },
  {
   "cell_type": "code",
   "execution_count": 26,
   "id": "6dfdbea0-7a85-41bf-af9a-f2c6f54a1f18",
   "metadata": {},
   "outputs": [
    {
     "name": "stdout",
     "output_type": "stream",
     "text": [
      "LSVC 정확도: 0.0\n"
     ]
    }
   ],
   "source": [
    "# LogisticRegression 정확도 체크\n",
    "cnt = 0\n",
    "for i, v in zip(test['hs code'], y_hat_lr):\n",
    "    if i == v:\n",
    "        cnt += 1\n",
    "\n",
    "print('LSVC 정확도:', cnt/len(test))"
   ]
  }
 ],
 "metadata": {
  "kernelspec": {
   "display_name": "Python 3 (ipykernel)",
   "language": "python",
   "name": "python3"
  },
  "language_info": {
   "codemirror_mode": {
    "name": "ipython",
    "version": 3
   },
   "file_extension": ".py",
   "mimetype": "text/x-python",
   "name": "python",
   "nbconvert_exporter": "python",
   "pygments_lexer": "ipython3",
   "version": "3.11.7"
  }
 },
 "nbformat": 4,
 "nbformat_minor": 5
}
