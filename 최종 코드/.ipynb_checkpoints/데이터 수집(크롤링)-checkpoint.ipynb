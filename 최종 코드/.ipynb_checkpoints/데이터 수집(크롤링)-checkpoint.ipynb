{
 "cells": [
  {
   "cell_type": "markdown",
   "id": "4602766e-3fa4-4085-a5a1-b712dcce46fe",
   "metadata": {},
   "source": [
    "# 크롤링 함수 생성"
   ]
  },
  {
   "cell_type": "code",
   "execution_count": null,
   "id": "a3fd8180-1aae-4a9a-970c-f788c59cec8f",
   "metadata": {},
   "outputs": [],
   "source": [
    "def tariff_case_crawling():\n",
    "    # 결정세번 값 추출\n",
    "    num = driver.find_element(By.CSS_SELECTOR, '#dtlLayer > div.table_left.table_prlstclsf.eng > table > tbody > tr:nth-child(4) > td')\n",
    "    #print(num.text)\n",
    "    decision_num_list.append(num.text)\n",
    "    \n",
    "    # 물품설명 추출\n",
    "    description = driver.find_element(By.CSS_SELECTOR, '#dtlLayer > div.table_left.table_prlstclsf.eng > table > tbody > tr:nth-child(5) > td')\n",
    "    #print(description.text)\n",
    "    description_list.append(description.text)\n",
    "    \n",
    "    # 결정사유 추출\n",
    "    reason = driver.find_element(By.CSS_SELECTOR,'#dtlLayer > div.table_left.table_prlstclsf.eng > table > tbody > tr:nth-child(6) > td')\n",
    "    #print(reason.text)\n",
    "    reason_list.append(reason.text)\n",
    "\n",
    "    # 키워드 추출\n",
    "    keyword = driver.find_element(By.CSS_SELECTOR,'#dtlLayer > div.table_left.table_prlstclsf.eng > table > tbody > tr:nth-child(8) > td')\n",
    "    #print(reason.text)\n",
    "    keyword_list.append(keyword.text)"
   ]
  },
  {
   "cell_type": "markdown",
   "id": "a95f70c8-c85e-4fa5-b1e8-370efd46d174",
   "metadata": {},
   "source": [
    "# 크롤링 실행 코드"
   ]
  },
  {
   "cell_type": "code",
   "execution_count": null,
   "id": "2fad6bee-56de-4db3-990e-ae66b4f2a481",
   "metadata": {},
   "outputs": [],
   "source": [
    "from selenium import webdriver\n",
    "from selenium.webdriver.chrome.service import Service\n",
    "from webdriver_manager.chrome import ChromeDriverManager\n",
    "from selenium.webdriver.common.by import By\n",
    "from selenium.webdriver.common.keys import Keys\n",
    "from bs4 import BeautifulSoup\n",
    "from selenium.webdriver.support.ui import Select \n",
    "import time\n",
    "\n",
    "SCROLL_PAUSE_TIME = 3\n",
    "\n",
    "# 웹 드라이버 동적 다운로드 방식\n",
    "driver = webdriver.Chrome(service=Service(ChromeDriverManager().install()), options=webdriver.ChromeOptions())\n",
    "\n",
    "# 관세청법령정보포탈 url 들어가기\n",
    "driver.get('https://unipass.customs.go.kr/clip/index.do')\n",
    "\n",
    "# 세계HS 클릭\n",
    "driver.find_element(By.LINK_TEXT, '세계HS').click()\n",
    "time.sleep(SCROLL_PAUSE_TIME)\n",
    "\n",
    "# 품목분류 외국사례 클릭\n",
    "driver.find_element(By.LINK_TEXT, '품목분류 외국사례').click()\n",
    "time.sleep(SCROLL_PAUSE_TIME)\n",
    "\n",
    "# 국가 선택\n",
    "driver.find_element(By.LINK_TEXT, '유럽연합(EU)').click()\n",
    "time.sleep(SCROLL_PAUSE_TIME)\n",
    "\n",
    "# 시행일자(시작-끝)과 검색할 품목세번 설정\n",
    "start = '2016-01-01'\n",
    "end = '2016-12-31'\n",
    "search_item = '85'\n",
    "\n",
    "# 시행일자와 품목세번 입력\n",
    "ele = driver.find_element(By.ID, 'srchStDt')\n",
    "ele.send_keys(start)\n",
    "ele = driver.find_element(By.ID, 'srchEdDt')\n",
    "ele.send_keys(end)\n",
    "ele = driver.find_element(By.ID, 'srchDtrmHsSgn')\n",
    "ele.send_keys(search_item)\n",
    "\n",
    "# 조회버튼 누르기\n",
    "button = driver.find_element(By.CSS_SELECTOR,'#iSrchCond > div.search > footer > button')\n",
    "button.send_keys(Keys.ENTER)\n",
    "time.sleep(SCROLL_PAUSE_TIME)\n",
    "\n",
    "#100개씩 조회 \n",
    "driver.find_element(By.CSS_SELECTOR,'option[value=\"100\"]').click()\n",
    "time.sleep(5)\n",
    "\n",
    "# 영문으로 바꾸기\n",
    "button = driver.find_element(By.CSS_SELECTOR, '#ULS0203017S_T1_container > aside > div.textRight.mrgnbttm5 > button:nth-child(2)')\n",
    "button.send_keys(Keys.ENTER)\n",
    "time.sleep(5)\n",
    "\n",
    "# 결정세번과 물품설명을 담을 리스트 선언\n",
    "decision_num_list = []\n",
    "description_list = []\n",
    "reason_list = []\n",
    "keyword_list = []\n",
    "\n",
    "cnt = 0\n",
    "\n",
    "for page in range(6):\n",
    "    for i in range(2,11):\n",
    "        for j in range(2,101):\n",
    "            # 크롤링 함수\n",
    "            tariff_case_crawling()\n",
    "            cnt += 1\n",
    "            print(cnt, end=' ')\n",
    "            \n",
    "            # 다음품목 선택\n",
    "            button = driver.find_element(By.CSS_SELECTOR, f'#ULS0203017S_T1_table1 > tbody > tr:nth-child({j}) > td.ellipsis.hlzone1 > a')\n",
    "            button.send_keys(Keys.ENTER)\n",
    "            time.sleep(5)\n",
    "    \n",
    "        # 다음페이지 선택 \n",
    "        driver.find_element(By.CSS_SELECTOR, f'#ULS0203017S_T1_container > div.paging > ul.pages > li:nth-child({i}) > a').click()\n",
    "        time.sleep(5)\n",
    "    \n",
    "    # 마지막 페이지 크롤링\n",
    "    for k in range(2,101):\n",
    "        # 크롤링 함수\n",
    "        tariff_case_crawling()\n",
    "        cnt += 1\n",
    "        print(cnt, end=' ')\n",
    "        \n",
    "        # 다음품목 선택\n",
    "        button = driver.find_element(By.CSS_SELECTOR, f'#ULS0203017S_T1_table1 > tbody > tr:nth-child({k}) > td.ellipsis.hlzone1 > a')\n",
    "        button.send_keys(Keys.ENTER)\n",
    "        time.sleep(5)\n",
    "\n",
    "    # 크롤링 함수\n",
    "    tariff_case_crawling()\n",
    "    cnt += 1\n",
    "    print(cnt, end=' ')\n",
    "        \n",
    "    driver.find_element(By.CLASS_NAME, 'next').click()\n",
    "    time.sleep(5)\n",
    "\n",
    "\n",
    "for i in range(2,4):\n",
    "    for j in range(2,101):\n",
    "        # 크롤링 함수\n",
    "        tariff_case_crawling()\n",
    "        cnt += 1\n",
    "        print(cnt, end=' ')\n",
    "    \n",
    "        # 다음품목 선택\n",
    "        button = driver.find_element(By.CSS_SELECTOR, f'#ULS0203017S_T1_table1 > tbody > tr:nth-child({j}) > td.ellipsis.hlzone1 > a')\n",
    "        button.send_keys(Keys.ENTER)\n",
    "        time.sleep(5)\n",
    "\n",
    "    # 다음페이지 선택\n",
    "    driver.find_element(By.CSS_SELECTOR, f'#ULS0203017S_T1_container > div.paging > ul.pages > li:nth-child({i}) > a').click()\n",
    "    time.sleep(5)\n",
    "    \n",
    "# 마지막 페이지 크롤링\n",
    "for k in range(2,37):\n",
    "    # 크롤링 함수\n",
    "    tariff_case_crawling()\n",
    "    cnt += 1\n",
    "    print(cnt, end=' ')\n",
    "\n",
    "    button = driver.find_element(By.CSS_SELECTOR, f'#ULS0203017S_T1_table1 > tbody > tr:nth-child({k}) > td.ellipsis.hlzone1 > a')\n",
    "    button.send_keys(Keys.ENTER)\n",
    "    time.sleep(5)\n",
    "\n",
    "# 크롤링 함수\n",
    "tariff_case_crawling()\n",
    "cnt += 1\n",
    "print(cnt, end=' ')\n"
   ]
  },
  {
   "cell_type": "code",
   "execution_count": null,
   "id": "70c0b2f0-446b-4353-9cd1-c70472f3b410",
   "metadata": {},
   "outputs": [],
   "source": [
    "len(decision_num_list)"
   ]
  },
  {
   "cell_type": "markdown",
   "id": "bb175cd4-163b-4d1f-9645-c98304001c38",
   "metadata": {},
   "source": [
    "# 크롤링한 리스트를 데이터프레임으로 변환"
   ]
  },
  {
   "cell_type": "code",
   "execution_count": null,
   "id": "3717bc4f-362e-49a4-85b7-322ebf9a5e2c",
   "metadata": {},
   "outputs": [],
   "source": [
    "import pandas as pd\n",
    "data = {'hs code': decision_num_list, 'product':keyword_list, 'description':description_list, 'reason':reason_list}\n",
    "df = pd.DataFrame(data)"
   ]
  },
  {
   "cell_type": "code",
   "execution_count": null,
   "id": "4e912547-6564-45f2-8da1-5f930c79ae13",
   "metadata": {},
   "outputs": [],
   "source": [
    "# 생성한 데이터 프레임 확인\n",
    "df"
   ]
  },
  {
   "cell_type": "markdown",
   "id": "be6491a6-c43d-4733-8fad-dbe2444880d8",
   "metadata": {},
   "source": [
    "# 생성한 데이터 프레임을 엑셀로 저장"
   ]
  },
  {
   "cell_type": "code",
   "execution_count": null,
   "id": "86d375f9-73fa-4746-84b6-ee12fb9819ea",
   "metadata": {},
   "outputs": [],
   "source": [
    "df.to_excel('85_EU_16_5748.xlsx')"
   ]
  },
  {
   "cell_type": "markdown",
   "id": "acd5bd58-a8eb-4ef0-b884-55c5f57d99c3",
   "metadata": {},
   "source": [
    "# 한국어 기반 데이터 번역\n",
    "- googletrans api를 활용하여 한국어 -> 영어로 번역"
   ]
  },
  {
   "cell_type": "code",
   "execution_count": null,
   "id": "eec4905e-dd3d-4a6d-b76a-19b32f26bb8b",
   "metadata": {},
   "outputs": [],
   "source": [
    "import googletrans\n",
    "from googletrans import Translator\n",
    "import time\n",
    "\n",
    "translated = []\n",
    "\n",
    "cnt = 0\n",
    "\n",
    "file = open('trans_text.txt', 'a', encoding='utf-8')\n",
    "\n",
    "while(cnt != len(df['description'])):\n",
    "    try:\n",
    "        for i in range(cnt, len(df['description'])):\n",
    "            text = df['description'].iloc[i]\n",
    "            translator = Translator()\n",
    "            trans_text = translator.translate(text, src=translator.detect(text).lang, dest='en').text\n",
    "            \n",
    "            file.write(trans_text+'\\n')\n",
    "            file.write(('-'*50)+'\\n')\n",
    "            \n",
    "            translated.append(trans_text)\n",
    "            time.sleep(3)\n",
    "            cnt += 1\n",
    "            print(cnt, end=' ')\n",
    "    except:\n",
    "        print('에러 발생')\n",
    "        time.sleep(50)\n",
    "\n",
    "file.close()   \n",
    "    \n",
    "print(translated[0])"
   ]
  },
  {
   "cell_type": "code",
   "execution_count": null,
   "id": "158f2f33-a197-4d56-8ad2-73cd2741fc32",
   "metadata": {},
   "outputs": [],
   "source": [
    "len(translated)"
   ]
  },
  {
   "cell_type": "code",
   "execution_count": null,
   "id": "e4a04c3b-fd47-4a7c-9db0-d3551c8b9ffd",
   "metadata": {},
   "outputs": [],
   "source": [
    "translated[0]"
   ]
  },
  {
   "cell_type": "code",
   "execution_count": null,
   "id": "67ca03f4-1f03-4412-af46-bc2a8d717998",
   "metadata": {},
   "outputs": [],
   "source": [
    "description = pd.DataFrame(data = translated)\n",
    "\n",
    "description.columns = ['description']\n",
    "display(description)"
   ]
  },
  {
   "cell_type": "code",
   "execution_count": null,
   "id": "6829b801-2e2d-4021-97b7-f94162f3aff0",
   "metadata": {},
   "outputs": [],
   "source": [
    "# 번역완료된 데이터 프레임 엑셀로 저장하기\n",
    "description.to_excel('84_description.xlsx')"
   ]
  }
 ],
 "metadata": {
  "kernelspec": {
   "display_name": "Python 3 (ipykernel)",
   "language": "python",
   "name": "python3"
  },
  "language_info": {
   "codemirror_mode": {
    "name": "ipython",
    "version": 3
   },
   "file_extension": ".py",
   "mimetype": "text/x-python",
   "name": "python",
   "nbconvert_exporter": "python",
   "pygments_lexer": "ipython3",
   "version": "3.11.7"
  }
 },
 "nbformat": 4,
 "nbformat_minor": 5
}
